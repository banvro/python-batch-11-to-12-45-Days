{
 "cells": [
  {
   "cell_type": "code",
   "execution_count": null,
   "id": "4c8ea35c-4660-4c31-9982-eb9a92a2da79",
   "metadata": {},
   "outputs": [],
   "source": [
    "# Numpy\n",
    "# pandas\n",
    "# matplotlib\n",
    "\n",
    "\n",
    "Machine learning : \n",
    "    1) Supervised Learning :      (labeled dataset)\n",
    "        1) Regression:\n",
    "            1) simple regression\n",
    "            2) multipal regression\n",
    "            3) Polynomial regression\n",
    "\n",
    "        2) Classification\n",
    "            1) Binary classification\n",
    "            2) multiclass classification\n",
    "\n",
    "\n",
    "# 1) Independent columns\n",
    "# 2) Dependent columns"
   ]
  },
  {
   "cell_type": "code",
   "execution_count": 1,
   "id": "3bb4ff5a-3a42-4fa8-8574-6db4ff1323ce",
   "metadata": {},
   "outputs": [],
   "source": [
    "import pandas as pd\n"
   ]
  },
  {
   "cell_type": "code",
   "execution_count": 2,
   "id": "4b6a001e-3b27-4e27-b1e8-56a5702987bb",
   "metadata": {},
   "outputs": [],
   "source": [
    "data = pd.read_csv(\"placement.csv\")"
   ]
  },
  {
   "cell_type": "code",
   "execution_count": 4,
   "id": "d9ef1dd6-235e-4974-8462-7878291bdcb7",
   "metadata": {},
   "outputs": [
    {
     "name": "stdout",
     "output_type": "stream",
     "text": [
      "<class 'pandas.core.frame.DataFrame'>\n",
      "RangeIndex: 200 entries, 0 to 199\n",
      "Data columns (total 2 columns):\n",
      " #   Column   Non-Null Count  Dtype  \n",
      "---  ------   --------------  -----  \n",
      " 0   cgpa     200 non-null    float64\n",
      " 1   package  200 non-null    object \n",
      "dtypes: float64(1), object(1)\n",
      "memory usage: 3.3+ KB\n"
     ]
    }
   ],
   "source": [
    "data.info()"
   ]
  },
  {
   "cell_type": "code",
   "execution_count": 6,
   "id": "8f843b6e-658c-4a3b-b585-13ba5fd8cf72",
   "metadata": {},
   "outputs": [
    {
     "data": {
      "text/html": [
       "<div>\n",
       "<style scoped>\n",
       "    .dataframe tbody tr th:only-of-type {\n",
       "        vertical-align: middle;\n",
       "    }\n",
       "\n",
       "    .dataframe tbody tr th {\n",
       "        vertical-align: top;\n",
       "    }\n",
       "\n",
       "    .dataframe thead th {\n",
       "        text-align: right;\n",
       "    }\n",
       "</style>\n",
       "<table border=\"1\" class=\"dataframe\">\n",
       "  <thead>\n",
       "    <tr style=\"text-align: right;\">\n",
       "      <th></th>\n",
       "      <th>cgpa</th>\n",
       "      <th>package</th>\n",
       "    </tr>\n",
       "  </thead>\n",
       "  <tbody>\n",
       "    <tr>\n",
       "      <th>0</th>\n",
       "      <td>6.89</td>\n",
       "      <td>3.26</td>\n",
       "    </tr>\n",
       "    <tr>\n",
       "      <th>1</th>\n",
       "      <td>5.12</td>\n",
       "      <td>1.98</td>\n",
       "    </tr>\n",
       "    <tr>\n",
       "      <th>2</th>\n",
       "      <td>7.82</td>\n",
       "      <td>3.25</td>\n",
       "    </tr>\n",
       "    <tr>\n",
       "      <th>3</th>\n",
       "      <td>7.42</td>\n",
       "      <td>3.67</td>\n",
       "    </tr>\n",
       "    <tr>\n",
       "      <th>4</th>\n",
       "      <td>6.94</td>\n",
       "      <td>3.57</td>\n",
       "    </tr>\n",
       "    <tr>\n",
       "      <th>5</th>\n",
       "      <td>7.89</td>\n",
       "      <td>2.99</td>\n",
       "    </tr>\n",
       "    <tr>\n",
       "      <th>6</th>\n",
       "      <td>6.73</td>\n",
       "      <td>2.6</td>\n",
       "    </tr>\n",
       "    <tr>\n",
       "      <th>7</th>\n",
       "      <td>6.75</td>\n",
       "      <td>2.48</td>\n",
       "    </tr>\n",
       "    <tr>\n",
       "      <th>8</th>\n",
       "      <td>6.09</td>\n",
       "      <td>2.31</td>\n",
       "    </tr>\n",
       "    <tr>\n",
       "      <th>9</th>\n",
       "      <td>8.31</td>\n",
       "      <td>3.51</td>\n",
       "    </tr>\n",
       "  </tbody>\n",
       "</table>\n",
       "</div>"
      ],
      "text/plain": [
       "   cgpa package\n",
       "0  6.89    3.26\n",
       "1  5.12    1.98\n",
       "2  7.82    3.25\n",
       "3  7.42    3.67\n",
       "4  6.94    3.57\n",
       "5  7.89    2.99\n",
       "6  6.73     2.6\n",
       "7  6.75    2.48\n",
       "8  6.09    2.31\n",
       "9  8.31    3.51"
      ]
     },
     "execution_count": 6,
     "metadata": {},
     "output_type": "execute_result"
    }
   ],
   "source": [
    "data.head(10)"
   ]
  },
  {
   "cell_type": "code",
   "execution_count": 7,
   "id": "e56a44e9-d303-420f-919c-2679f9ccc573",
   "metadata": {},
   "outputs": [],
   "source": [
    "import matplotlib.pyplot as plt"
   ]
  },
  {
   "cell_type": "code",
   "execution_count": 11,
   "id": "84f2d890-1923-4797-93a7-80ff88f39959",
   "metadata": {},
   "outputs": [],
   "source": [
    "data\n",
    "cgpa = data[\"cgpa\"]\n",
    "pkg = data[\"package\"]"
   ]
  },
  {
   "cell_type": "code",
   "execution_count": 10,
   "id": "6ccda23f-97de-4752-aac1-8e42a17e4923",
   "metadata": {},
   "outputs": [
    {
     "data": {
      "text/plain": [
       "0      6.89\n",
       "1      5.12\n",
       "2      7.82\n",
       "3      7.42\n",
       "4      6.94\n",
       "       ... \n",
       "195    6.93\n",
       "196    5.89\n",
       "197    7.21\n",
       "198    7.63\n",
       "199    6.22\n",
       "Name: cgpa, Length: 200, dtype: float64"
      ]
     },
     "execution_count": 10,
     "metadata": {},
     "output_type": "execute_result"
    }
   ],
   "source": [
    "cgpa"
   ]
  },
  {
   "cell_type": "code",
   "execution_count": 12,
   "id": "d17c2d41-cde3-41f8-972f-0b993e7d9ea3",
   "metadata": {},
   "outputs": [
    {
     "data": {
      "text/plain": [
       "0      3.26\n",
       "1      1.98\n",
       "2      3.25\n",
       "3      3.67\n",
       "4      3.57\n",
       "       ... \n",
       "195    2.46\n",
       "196    2.57\n",
       "197    3.24\n",
       "198    3.96\n",
       "199    2.33\n",
       "Name: package, Length: 200, dtype: object"
      ]
     },
     "execution_count": 12,
     "metadata": {},
     "output_type": "execute_result"
    }
   ],
   "source": [
    "pkg"
   ]
  },
  {
   "cell_type": "code",
   "execution_count": 14,
   "id": "895414b1-d28c-4a4b-9654-beb45ce2a296",
   "metadata": {},
   "outputs": [
    {
     "data": {
      "text/plain": [
       "<matplotlib.collections.PathCollection at 0x183c265f7d0>"
      ]
     },
     "execution_count": 14,
     "metadata": {},
     "output_type": "execute_result"
    },
    {
     "data": {
      "image/png": "[encoded data removed]",
      "text/plain": [
       "<Figure size 640x480 with 1 Axes>"
      ]
     },
     "metadata": {},
     "output_type": "display_data"
    }
   ],
   "source": [
    "plt.scatter(pkg, cgpa)"
   ]
  },
  {
   "cell_type": "code",
   "execution_count": null,
   "id": "fde0e3af-9a37-4c35-9b61-8f6efe661007",
   "metadata": {},
   "outputs": [],
   "source": [
    "# Simple regression : \n",
    "\n",
    "\n",
    "# y = mx + b\n",
    "\n",
    "# y = dependent value\n",
    "# m = cofficent\n",
    "# x = independent value\n",
    "# b = offset\n",
    "\n",
    "\n",
    "# 4.89\n",
    "\n",
    "# y = coffi. * 4.89 + offcemt\n",
    "\n",
    "# LinearRegression()\n",
    "\n",
    "# sklearn\n",
    "\n",
    "# oops\n"
   ]
  }
 ],
 "metadata": {
  "kernelspec": {
   "display_name": "Python 3 (ipykernel)",
   "language": "python",
   "name": "python3"
  },
  "language_info": {
   "codemirror_mode": {
    "name": "ipython",
    "version": 3
   },
   "file_extension": ".py",
   "mimetype": "text/x-python",
   "name": "python",
   "nbconvert_exporter": "python",
   "pygments_lexer": "ipython3",
   "version": "3.11.5"
  }
 },
 "nbformat": 4,
 "nbformat_minor": 5
}
