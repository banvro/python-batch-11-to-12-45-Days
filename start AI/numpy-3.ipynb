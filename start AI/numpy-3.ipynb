{
 "cells": [
  {
   "cell_type": "code",
   "execution_count": 1,
   "id": "8dc7d636-76c9-48a9-8146-e57edd9c0488",
   "metadata": {},
   "outputs": [],
   "source": [
    "# Numpy : "
   ]
  },
  {
   "cell_type": "code",
   "execution_count": 2,
   "id": "3ea3bbda-817f-4b30-accb-935fc1abd89d",
   "metadata": {},
   "outputs": [],
   "source": [
    "from numpy import random\n",
    "import numpy as np"
   ]
  },
  {
   "cell_type": "code",
   "execution_count": 7,
   "id": "8cfd5021-fa0e-443e-93fb-c871fbcb669e",
   "metadata": {},
   "outputs": [],
   "source": [
    "# randint\n",
    "\n",
    "x = random.randint(100)"
   ]
  },
  {
   "cell_type": "code",
   "execution_count": null,
   "id": "2b49d9f8-b4b0-4df0-be09-f453cb78e8fc",
   "metadata": {},
   "outputs": [],
   "source": []
  },
  {
   "cell_type": "code",
   "execution_count": 8,
   "id": "33bdc72a-3c1f-4b11-8afa-73c5226bf135",
   "metadata": {},
   "outputs": [
    {
     "data": {
      "text/plain": [
       "79"
      ]
     },
     "execution_count": 8,
     "metadata": {},
     "output_type": "execute_result"
    }
   ],
   "source": [
    "x"
   ]
  },
  {
   "cell_type": "code",
   "execution_count": 13,
   "id": "bfba3af5-943d-40ce-968c-5cdbb09f4b6e",
   "metadata": {},
   "outputs": [],
   "source": [
    "y = random.rand()"
   ]
  },
  {
   "cell_type": "code",
   "execution_count": 14,
   "id": "7c5fb4c9-8835-431f-a012-f19250273cff",
   "metadata": {},
   "outputs": [
    {
     "data": {
      "text/plain": [
       "0.6791067407510102"
      ]
     },
     "execution_count": 14,
     "metadata": {},
     "output_type": "execute_result"
    }
   ],
   "source": [
    "y"
   ]
  },
  {
   "cell_type": "code",
   "execution_count": 22,
   "id": "9048e28d-536a-44fd-9508-9fbded2ea131",
   "metadata": {},
   "outputs": [],
   "source": [
    "zx = random.randint(200, size = (2, 10))"
   ]
  },
  {
   "cell_type": "code",
   "execution_count": 23,
   "id": "5bcfd4e2-e180-43f2-bfab-8bd73e2ad520",
   "metadata": {},
   "outputs": [
    {
     "data": {
      "text/plain": [
       "array([[110,  43,  35,  28,  45, 193,  49,  30,  63,  80],\n",
       "       [194,  24,  35, 117,  38,  82,  98, 126,   8,  49]])"
      ]
     },
     "execution_count": 23,
     "metadata": {},
     "output_type": "execute_result"
    }
   ],
   "source": [
    "zx"
   ]
  },
  {
   "cell_type": "code",
   "execution_count": 52,
   "id": "e4c5c23d-c653-4d57-8810-d088f030e695",
   "metadata": {},
   "outputs": [],
   "source": [
    "q = random.choice([2, 3, 5, 6, 19], size = (2, 10), p = [0.5, 0.1, 0.2, 0.1, 0.1])"
   ]
  },
  {
   "cell_type": "code",
   "execution_count": 53,
   "id": "296da3c9-59a6-478b-9ad5-54746a4f72b8",
   "metadata": {},
   "outputs": [
    {
     "data": {
      "text/plain": [
       "array([[19,  2,  2,  5, 19,  5,  2,  3,  2,  6],\n",
       "       [ 5,  2,  2,  2, 19,  2,  5,  2,  5,  5]])"
      ]
     },
     "execution_count": 53,
     "metadata": {},
     "output_type": "execute_result"
    }
   ],
   "source": [
    "q"
   ]
  },
  {
   "cell_type": "code",
   "execution_count": 54,
   "id": "e1ade322-2ec2-45d5-b75c-8fc08924a66c",
   "metadata": {},
   "outputs": [],
   "source": [
    "# zx = random.randint(100, size = 10)"
   ]
  },
  {
   "cell_type": "code",
   "execution_count": 70,
   "id": "7f8a6acb-fc83-4db8-85eb-009580e460bc",
   "metadata": {},
   "outputs": [],
   "source": [
    "zx = np.array([1, 2, 3, 4, 5, 6, 7, 18])"
   ]
  },
  {
   "cell_type": "code",
   "execution_count": 73,
   "id": "b15a7f81-6887-4c34-8298-8076989e4eb3",
   "metadata": {},
   "outputs": [],
   "source": [
    "random.shuffle(zx)"
   ]
  },
  {
   "cell_type": "code",
   "execution_count": 74,
   "id": "62a37fda-e19c-44f9-a276-6533727b3460",
   "metadata": {},
   "outputs": [
    {
     "data": {
      "text/plain": [
       "array([18,  2,  3,  7,  6,  4,  5,  1])"
      ]
     },
     "execution_count": 74,
     "metadata": {},
     "output_type": "execute_result"
    }
   ],
   "source": [
    "zx"
   ]
  },
  {
   "cell_type": "code",
   "execution_count": 75,
   "id": "9b525996-ccf1-49d0-bd57-a5a88ae83eec",
   "metadata": {},
   "outputs": [],
   "source": [
    "a = np.array([1, 2, 3, 4, 5])"
   ]
  },
  {
   "cell_type": "code",
   "execution_count": 76,
   "id": "e758d5b6-0268-429b-ae8c-9088207dd280",
   "metadata": {},
   "outputs": [],
   "source": [
    "y = np.insert(a, range(1, len(a)), 0)"
   ]
  },
  {
   "cell_type": "code",
   "execution_count": 79,
   "id": "ff7ab867-ec8d-4326-8305-bb5ff7da581b",
   "metadata": {},
   "outputs": [],
   "source": [
    "y = np.array([])"
   ]
  },
  {
   "cell_type": "code",
   "execution_count": 86,
   "id": "99a669d1-1b8d-4b73-ab3a-33766de70e32",
   "metadata": {},
   "outputs": [
    {
     "name": "stdout",
     "output_type": "stream",
     "text": [
      "1\n",
      "2\n",
      "3\n",
      "4\n",
      "5\n"
     ]
    }
   ],
   "source": [
    "for i in a:\n",
    "    print(i)\n",
    "    np.append(y, i)"
   ]
  },
  {
   "cell_type": "code",
   "execution_count": 87,
   "id": "30c9bd08-57fd-42bb-a239-3ac5a96d5f55",
   "metadata": {},
   "outputs": [
    {
     "data": {
      "text/plain": [
       "array([5.])"
      ]
     },
     "execution_count": 87,
     "metadata": {},
     "output_type": "execute_result"
    }
   ],
   "source": [
    "e"
   ]
  },
  {
   "cell_type": "code",
   "execution_count": null,
   "id": "80ef1fb2-9581-4245-a3cf-f07272864735",
   "metadata": {},
   "outputs": [],
   "source": []
  }
 ],
 "metadata": {
  "kernelspec": {
   "display_name": "Python 3 (ipykernel)",
   "language": "python",
   "name": "python3"
  },
  "language_info": {
   "codemirror_mode": {
    "name": "ipython",
    "version": 3
   },
   "file_extension": ".py",
   "mimetype": "text/x-python",
   "name": "python",
   "nbconvert_exporter": "python",
   "pygments_lexer": "ipython3",
   "version": "3.11.5"
  }
 },
 "nbformat": 4,
 "nbformat_minor": 5
}
