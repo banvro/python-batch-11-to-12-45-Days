{
 "cells": [
  {
   "cell_type": "code",
   "execution_count": 1,
   "id": "abcfab5c-fdd9-42c7-9ad9-96937e7daa42",
   "metadata": {},
   "outputs": [],
   "source": [
    "a = 10"
   ]
  },
  {
   "cell_type": "code",
   "execution_count": null,
   "id": "45e09e73-c1ee-4457-90da-44b6bd7a93a3",
   "metadata": {},
   "outputs": [],
   "source": []
  },
  {
   "cell_type": "code",
   "execution_count": 3,
   "id": "e49bb6d5-cced-4a70-8d6a-a0a6650866b0",
   "metadata": {},
   "outputs": [],
   "source": [
    "b = 20\n"
   ]
  },
  {
   "cell_type": "code",
   "execution_count": 4,
   "id": "3f3a892a-28dd-4bce-b83c-ba42ad20eb28",
   "metadata": {},
   "outputs": [
    {
     "name": "stdout",
     "output_type": "stream",
     "text": [
      "1\n",
      "2\n",
      "3\n",
      "4\n",
      "5\n",
      "6\n",
      "7\n",
      "8\n",
      "9\n"
     ]
    }
   ],
   "source": [
    "for i in range(1, 10):\n",
    "    print(i)"
   ]
  },
  {
   "cell_type": "code",
   "execution_count": 5,
   "id": "d99926e7-52e1-4037-b8f7-134ea53aa02e",
   "metadata": {},
   "outputs": [],
   "source": [
    "# 1) Numpy\n",
    "# 2) Pandas\n",
    "# 3) Matplotlib"
   ]
  },
  {
   "cell_type": "code",
   "execution_count": 6,
   "id": "7d1a9be7-7523-47ea-8dd8-6a74c1b165de",
   "metadata": {},
   "outputs": [],
   "source": [
    "# Numpy : Numarical Python\n",
    "\n",
    "# arrays"
   ]
  },
  {
   "cell_type": "code",
   "execution_count": null,
   "id": "92db0afd-53d1-4efa-a28d-52d69f12d00a",
   "metadata": {},
   "outputs": [],
   "source": []
  },
  {
   "cell_type": "code",
   "execution_count": 7,
   "id": "52149d23-5f2e-4a34-8057-0510fc697355",
   "metadata": {},
   "outputs": [],
   "source": [
    "# list = [12, \"hlo\", ]    python\n",
    "\n",
    "# numpy :  [12, 10, 78, 10]   python + c\n",
    "# 50x\n",
    "\n",
    "\n",
    "# 2005\n"
   ]
  },
  {
   "cell_type": "code",
   "execution_count": null,
   "id": "76fbea27-a6f0-419c-a802-bc0cf7283c89",
   "metadata": {},
   "outputs": [],
   "source": []
  },
  {
   "cell_type": "code",
   "execution_count": null,
   "id": "513568c5-9dc5-448d-bb76-750b4da393c5",
   "metadata": {},
   "outputs": [],
   "source": [
    "# Numpy : \n",
    "\n",
    "# objects ==== > array\n",
    "\n",
    "# ndarray"
   ]
  },
  {
   "cell_type": "code",
   "execution_count": null,
   "id": "4b959ac1-73b1-4e18-a2b1-74f8ab2cb9cd",
   "metadata": {},
   "outputs": [],
   "source": []
  },
  {
   "cell_type": "code",
   "execution_count": 8,
   "id": "a5758b59-5c6d-420d-aa15-026f20b30e49",
   "metadata": {},
   "outputs": [
    {
     "name": "stdout",
     "output_type": "stream",
     "text": [
      "Requirement already satisfied: numpy in c:\\users\\programography\\appdata\\local\\programs\\python\\python311\\lib\\site-packages (1.26.0)\n"
     ]
    }
   ],
   "source": [
    "!pip install numpy"
   ]
  },
  {
   "cell_type": "code",
   "execution_count": null,
   "id": "41f5aaea-61bd-4258-8de0-29173be69873",
   "metadata": {},
   "outputs": [],
   "source": []
  },
  {
   "cell_type": "code",
   "execution_count": 9,
   "id": "01789a4c-b93b-4379-84ee-bc14c81cecd7",
   "metadata": {},
   "outputs": [],
   "source": [
    "import numpy"
   ]
  },
  {
   "cell_type": "code",
   "execution_count": 10,
   "id": "593fea07-6bbf-4823-b585-6c513e61fe49",
   "metadata": {},
   "outputs": [],
   "source": [
    "arr = numpy.array(12)"
   ]
  },
  {
   "cell_type": "code",
   "execution_count": 16,
   "id": "542ecb57-b16f-4826-9aca-154b173a6493",
   "metadata": {},
   "outputs": [
    {
     "data": {
      "text/plain": [
       "0"
      ]
     },
     "execution_count": 16,
     "metadata": {},
     "output_type": "execute_result"
    }
   ],
   "source": [
    "arr.ndim"
   ]
  },
  {
   "cell_type": "code",
   "execution_count": 11,
   "id": "bebd03ca-c7ed-442b-87d8-121d1880308c",
   "metadata": {},
   "outputs": [
    {
     "data": {
      "text/plain": [
       "numpy.ndarray"
      ]
     },
     "execution_count": 11,
     "metadata": {},
     "output_type": "execute_result"
    }
   ],
   "source": [
    "type(arr)"
   ]
  },
  {
   "cell_type": "code",
   "execution_count": 12,
   "id": "6e7389b2-d6e8-4176-97e5-3865dd756e0d",
   "metadata": {},
   "outputs": [],
   "source": [
    "import numpy as np"
   ]
  },
  {
   "cell_type": "code",
   "execution_count": 13,
   "id": "b01a3852-af69-4f71-871d-81a1e2478ba0",
   "metadata": {},
   "outputs": [],
   "source": [
    "x = np.array([1, 2, 3, 4, 6])"
   ]
  },
  {
   "cell_type": "code",
   "execution_count": 14,
   "id": "e38023e2-3f5c-4a31-ac48-6ae0e442cd54",
   "metadata": {},
   "outputs": [
    {
     "data": {
      "text/plain": [
       "array([1, 2, 3, 4, 6])"
      ]
     },
     "execution_count": 14,
     "metadata": {},
     "output_type": "execute_result"
    }
   ],
   "source": [
    "x"
   ]
  },
  {
   "cell_type": "code",
   "execution_count": 15,
   "id": "8da70a10-f8ac-4fc5-9ae6-a6cc0e21deea",
   "metadata": {},
   "outputs": [
    {
     "data": {
      "text/plain": [
       "1"
      ]
     },
     "execution_count": 15,
     "metadata": {},
     "output_type": "execute_result"
    }
   ],
   "source": [
    "x.ndim"
   ]
  },
  {
   "cell_type": "code",
   "execution_count": 21,
   "id": "3b20f9f7-ceb3-4acf-83e1-d7b13f610200",
   "metadata": {},
   "outputs": [],
   "source": [
    "x1 = np.array([[1, 2, 3], [4, 5, 6]])"
   ]
  },
  {
   "cell_type": "code",
   "execution_count": 22,
   "id": "bea05e80-1bcf-4ebe-a1c7-8426f3981cd4",
   "metadata": {},
   "outputs": [
    {
     "data": {
      "text/plain": [
       "array([[1, 2, 3],\n",
       "       [4, 5, 6]])"
      ]
     },
     "execution_count": 22,
     "metadata": {},
     "output_type": "execute_result"
    }
   ],
   "source": [
    "x1"
   ]
  },
  {
   "cell_type": "code",
   "execution_count": 23,
   "id": "f62f30bd-b6dd-45ff-8cf2-57e998cd76f7",
   "metadata": {},
   "outputs": [
    {
     "data": {
      "text/plain": [
       "2"
      ]
     },
     "execution_count": 23,
     "metadata": {},
     "output_type": "execute_result"
    }
   ],
   "source": [
    "x1.ndim"
   ]
  },
  {
   "cell_type": "code",
   "execution_count": 27,
   "id": "2222a52e-81d2-4afb-85f6-49355499ac40",
   "metadata": {},
   "outputs": [],
   "source": [
    "x3 = np.array([[[1, 2, 3], [4, 5, 6]], [[7, 8, 9], [10, 11, 12]]])"
   ]
  },
  {
   "cell_type": "code",
   "execution_count": 28,
   "id": "1982a8b0-4812-433c-8220-8a27952eb2c9",
   "metadata": {},
   "outputs": [
    {
     "data": {
      "text/plain": [
       "array([[[ 1,  2,  3],\n",
       "        [ 4,  5,  6]],\n",
       "\n",
       "       [[ 7,  8,  9],\n",
       "        [10, 11, 12]]])"
      ]
     },
     "execution_count": 28,
     "metadata": {},
     "output_type": "execute_result"
    }
   ],
   "source": [
    "x3"
   ]
  },
  {
   "cell_type": "code",
   "execution_count": 29,
   "id": "739d2914-4dfd-4440-8d81-f482b4ba30a1",
   "metadata": {},
   "outputs": [
    {
     "data": {
      "text/plain": [
       "3"
      ]
     },
     "execution_count": 29,
     "metadata": {},
     "output_type": "execute_result"
    }
   ],
   "source": [
    "x3.ndim"
   ]
  },
  {
   "cell_type": "code",
   "execution_count": null,
   "id": "f03f2b58-dc10-4fed-9a53-25710ae0f78c",
   "metadata": {},
   "outputs": [],
   "source": []
  },
  {
   "cell_type": "code",
   "execution_count": 30,
   "id": "24306f07-bcb0-47bb-8560-071790f2aca0",
   "metadata": {},
   "outputs": [],
   "source": [
    "# indexing : "
   ]
  },
  {
   "cell_type": "code",
   "execution_count": 32,
   "id": "c80f2e12-1053-422f-973e-85793c447662",
   "metadata": {},
   "outputs": [],
   "source": [
    "a = np.array([1, 2, 3, 4, 6, 4, 10])"
   ]
  },
  {
   "cell_type": "code",
   "execution_count": 33,
   "id": "18689ddf-fb54-4356-a08c-be5d1ff42dd3",
   "metadata": {},
   "outputs": [
    {
     "data": {
      "text/plain": [
       "array([ 1,  2,  3,  4,  6,  4, 10])"
      ]
     },
     "execution_count": 33,
     "metadata": {},
     "output_type": "execute_result"
    }
   ],
   "source": [
    "a"
   ]
  },
  {
   "cell_type": "code",
   "execution_count": 35,
   "id": "75e3838b-b4cb-4f57-a86c-3a451d0125e4",
   "metadata": {},
   "outputs": [
    {
     "data": {
      "text/plain": [
       "7"
      ]
     },
     "execution_count": 35,
     "metadata": {},
     "output_type": "execute_result"
    }
   ],
   "source": [
    "a[2] + a[3]"
   ]
  },
  {
   "cell_type": "code",
   "execution_count": 37,
   "id": "af255836-0a64-4802-b6ab-9f54e7bdcf39",
   "metadata": {},
   "outputs": [],
   "source": [
    "b = np.array([[1, 2, 3, 4, 5], [6, 7, 8, 9, 10]])"
   ]
  },
  {
   "cell_type": "code",
   "execution_count": 38,
   "id": "71c79bc3-b94b-44fd-8f43-50120c06ae8c",
   "metadata": {},
   "outputs": [
    {
     "data": {
      "text/plain": [
       "array([[ 1,  2,  3,  4,  5],\n",
       "       [ 6,  7,  8,  9, 10]])"
      ]
     },
     "execution_count": 38,
     "metadata": {},
     "output_type": "execute_result"
    }
   ],
   "source": [
    "b"
   ]
  },
  {
   "cell_type": "code",
   "execution_count": 43,
   "id": "a2c0ba41-e0bd-4edb-9361-fe46a3371d0a",
   "metadata": {},
   "outputs": [
    {
     "data": {
      "text/plain": [
       "4"
      ]
     },
     "execution_count": 43,
     "metadata": {},
     "output_type": "execute_result"
    }
   ],
   "source": [
    "b[0][3]"
   ]
  },
  {
   "cell_type": "code",
   "execution_count": null,
   "id": "3b2628e5-129e-47ef-8c7e-956c7f21a0c8",
   "metadata": {},
   "outputs": [],
   "source": []
  },
  {
   "cell_type": "code",
   "execution_count": 44,
   "id": "9ac62e8c-1312-472b-b4e2-bb34f637ff3f",
   "metadata": {},
   "outputs": [],
   "source": [
    "x3 = np.array([[[1, 2, 3], [4, 5, 6]], [[7, 8, 9], [10, 11, 12]]])"
   ]
  },
  {
   "cell_type": "code",
   "execution_count": 46,
   "id": "c8e24baf-37c8-4bc5-bf3f-685bae54bd40",
   "metadata": {},
   "outputs": [
    {
     "data": {
      "text/plain": [
       "array([[[ 1,  2,  3],\n",
       "        [ 4,  5,  6]],\n",
       "\n",
       "       [[ 7,  8,  9],\n",
       "        [10, 11, 12]]])"
      ]
     },
     "execution_count": 46,
     "metadata": {},
     "output_type": "execute_result"
    }
   ],
   "source": [
    "x3"
   ]
  },
  {
   "cell_type": "code",
   "execution_count": 49,
   "id": "68d2a07c-1ec2-4016-a5a7-8ecfe19f981d",
   "metadata": {},
   "outputs": [
    {
     "data": {
      "text/plain": [
       "8"
      ]
     },
     "execution_count": 49,
     "metadata": {},
     "output_type": "execute_result"
    }
   ],
   "source": [
    "x3[1][0][1]"
   ]
  },
  {
   "cell_type": "code",
   "execution_count": 50,
   "id": "40a9bde4-dda4-409f-a6f7-68b009511a59",
   "metadata": {},
   "outputs": [],
   "source": [
    "# slicing : \n",
    "\n",
    "# [start : end : increment]\n",
    "\n",
    "# default :::::;\n",
    "# start = 0\n",
    "# end = n - 1\n",
    "# increment = 1"
   ]
  },
  {
   "cell_type": "code",
   "execution_count": 51,
   "id": "c76b1ac7-373f-4d37-855f-183f7ce1803f",
   "metadata": {},
   "outputs": [],
   "source": [
    "a = np.array([1, 2, 3, 4, 6, 4, 10])"
   ]
  },
  {
   "cell_type": "code",
   "execution_count": 52,
   "id": "995b4ac4-cbc7-42f4-b8f5-2a411767b8b8",
   "metadata": {},
   "outputs": [
    {
     "data": {
      "text/plain": [
       "array([2, 3, 4, 6])"
      ]
     },
     "execution_count": 52,
     "metadata": {},
     "output_type": "execute_result"
    }
   ],
   "source": [
    "a[1 : 5 : 1]"
   ]
  },
  {
   "cell_type": "code",
   "execution_count": 53,
   "id": "01b37497-5d1e-42c6-9d19-e82e8556c640",
   "metadata": {},
   "outputs": [
    {
     "data": {
      "text/plain": [
       "array([ 3,  4,  6,  4, 10])"
      ]
     },
     "execution_count": 53,
     "metadata": {},
     "output_type": "execute_result"
    }
   ],
   "source": [
    "a[2 :]"
   ]
  },
  {
   "cell_type": "code",
   "execution_count": 54,
   "id": "31a49dda-b6d1-4343-9e06-bab9297158f3",
   "metadata": {},
   "outputs": [
    {
     "data": {
      "text/plain": [
       "array([1, 2, 3, 4, 6])"
      ]
     },
     "execution_count": 54,
     "metadata": {},
     "output_type": "execute_result"
    }
   ],
   "source": [
    "a[:5]"
   ]
  },
  {
   "cell_type": "code",
   "execution_count": 55,
   "id": "5b0fc794-1479-42db-8928-7da32488ee57",
   "metadata": {},
   "outputs": [],
   "source": [
    "a = np.array([1, 2, 3, 4, 6, 4, 10])"
   ]
  },
  {
   "cell_type": "code",
   "execution_count": 57,
   "id": "27f146e0-2e82-4b76-a6fa-030983e37089",
   "metadata": {},
   "outputs": [
    {
     "data": {
      "text/plain": [
       "array([10,  4,  6,  4,  3,  2,  1])"
      ]
     },
     "execution_count": 57,
     "metadata": {},
     "output_type": "execute_result"
    }
   ],
   "source": [
    "a[::-1]"
   ]
  },
  {
   "cell_type": "code",
   "execution_count": null,
   "id": "be496536-3540-4aeb-9e1c-9d722ad1afdf",
   "metadata": {},
   "outputs": [],
   "source": []
  }
 ],
 "metadata": {
  "kernelspec": {
   "display_name": "Python 3 (ipykernel)",
   "language": "python",
   "name": "python3"
  },
  "language_info": {
   "codemirror_mode": {
    "name": "ipython",
    "version": 3
   },
   "file_extension": ".py",
   "mimetype": "text/x-python",
   "name": "python",
   "nbconvert_exporter": "python",
   "pygments_lexer": "ipython3",
   "version": "3.11.5"
  }
 },
 "nbformat": 4,
 "nbformat_minor": 5
}
