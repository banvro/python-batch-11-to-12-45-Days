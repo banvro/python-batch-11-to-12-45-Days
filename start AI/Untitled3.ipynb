{
 "cells": [
  {
   "cell_type": "code",
   "execution_count": 1,
   "id": "8a8d2284-4ab7-472f-b63a-76db84fe34f8",
   "metadata": {},
   "outputs": [],
   "source": [
    "import numpy as np\n",
    "import pandas as pd\n",
    "\n",
    "x = 6 * np.random.rand(200, 1) - 3\n",
    "y = 0.8 * x ** 2 + 0.9 * x + 2 + np.random.randn(200, 1)\n",
    "\n"
   ]
  },
  {
   "cell_type": "code",
   "execution_count": null,
   "id": "40029922-80f0-4183-aad6-6f03d0b2d9dd",
   "metadata": {},
   "outputs": [],
   "source": [
    "# polynomial regression "
   ]
  },
  {
   "cell_type": "code",
   "execution_count": 3,
   "id": "0c50159a-4d52-469e-aa35-ba88a4ff61fd",
   "metadata": {},
   "outputs": [
    {
     "data": {
      "text/plain": [
       "(200, 1)"
      ]
     },
     "execution_count": 3,
     "metadata": {},
     "output_type": "execute_result"
    }
   ],
   "source": [
    "x.shape"
   ]
  },
  {
   "cell_type": "code",
   "execution_count": 5,
   "id": "06a4a78e-6688-463a-9935-e2292676fb18",
   "metadata": {},
   "outputs": [
    {
     "data": {
      "text/plain": [
       "(200, 1)"
      ]
     },
     "execution_count": 5,
     "metadata": {},
     "output_type": "execute_result"
    }
   ],
   "source": [
    "y.shape"
   ]
  },
  {
   "cell_type": "code",
   "execution_count": 7,
   "id": "1f97b5ca-aa7e-4321-a950-c4438056de25",
   "metadata": {},
   "outputs": [],
   "source": [
    "import matplotlib.pyplot as plt"
   ]
  },
  {
   "cell_type": "code",
   "execution_count": 9,
   "id": "dd2587a0-8ec7-4a19-8ba0-0ae251bde046",
   "metadata": {},
   "outputs": [
    {
     "data": {
      "text/plain": [
       "<matplotlib.collections.PathCollection at 0x2ccae3a02d0>"
      ]
     },
     "execution_count": 9,
     "metadata": {},
     "output_type": "execute_result"
    },
    {
     "data": {
      "image/png": "[encoded data removed]",
      "text/plain": [
       "<Figure size 640x480 with 1 Axes>"
      ]
     },
     "metadata": {},
     "output_type": "display_data"
    }
   ],
   "source": [
    "plt.scatter(x, y)"
   ]
  },
  {
   "cell_type": "code",
   "execution_count": 10,
   "id": "0bf364c0-6cd6-4aec-b615-d653ddea6330",
   "metadata": {},
   "outputs": [],
   "source": [
    "from sklearn.model_selection import train_test_split"
   ]
  },
  {
   "cell_type": "code",
   "execution_count": 11,
   "id": "fa9f40d6-d98d-4f60-a26f-56834d5d2991",
   "metadata": {},
   "outputs": [],
   "source": [
    "x_train, x_test, y_train, y_test = train_test_split(x, y, test_size = 0.2)"
   ]
  },
  {
   "cell_type": "code",
   "execution_count": 12,
   "id": "53d808be-7169-47a7-94c5-28ec81855c15",
   "metadata": {},
   "outputs": [
    {
     "data": {
      "text/plain": [
       "(160, 1)"
      ]
     },
     "execution_count": 12,
     "metadata": {},
     "output_type": "execute_result"
    }
   ],
   "source": [
    "x_train.shape"
   ]
  },
  {
   "cell_type": "code",
   "execution_count": 13,
   "id": "e2ec94b4-4a6e-4342-a701-75f273f8dbc8",
   "metadata": {},
   "outputs": [],
   "source": [
    "from sklearn.linear_model import LinearRegression"
   ]
  },
  {
   "cell_type": "code",
   "execution_count": 14,
   "id": "33b0f2f8-786e-4ca9-a023-533e5e78cd8a",
   "metadata": {},
   "outputs": [],
   "source": [
    "modl = LinearRegression()"
   ]
  },
  {
   "cell_type": "code",
   "execution_count": 15,
   "id": "99400872-2689-4dd2-aa41-b088f2081c48",
   "metadata": {},
   "outputs": [
    {
     "data": {
      "text/html": [
       "<style>#sk-container-id-1 {color: black;}#sk-container-id-1 pre{padding: 0;}#sk-container-id-1 div.sk-toggleable {background-color: white;}#sk-container-id-1 label.sk-toggleable__label {cursor: pointer;display: block;width: 100%;margin-bottom: 0;padding: 0.3em;box-sizing: border-box;text-align: center;}#sk-container-id-1 label.sk-toggleable__label-arrow:before {content: \"▸\";float: left;margin-right: 0.25em;color: #696969;}#sk-container-id-1 label.sk-toggleable__label-arrow:hover:before {color: black;}#sk-container-id-1 div.sk-estimator:hover label.sk-toggleable__label-arrow:before {color: black;}#sk-container-id-1 div.sk-toggleable__content {max-height: 0;max-width: 0;overflow: hidden;text-align: left;background-color: #f0f8ff;}#sk-container-id-1 div.sk-toggleable__content pre {margin: 0.2em;color: black;border-radius: 0.25em;background-color: #f0f8ff;}#sk-container-id-1 input.sk-toggleable__control:checked~div.sk-toggleable__content {max-height: 200px;max-width: 100%;overflow: auto;}#sk-container-id-1 input.sk-toggleable__control:checked~label.sk-toggleable__label-arrow:before {content: \"▾\";}#sk-container-id-1 div.sk-estimator input.sk-toggleable__control:checked~label.sk-toggleable__label {background-color: #d4ebff;}#sk-container-id-1 div.sk-label input.sk-toggleable__control:checked~label.sk-toggleable__label {background-color: #d4ebff;}#sk-container-id-1 input.sk-hidden--visually {border: 0;clip: rect(1px 1px 1px 1px);clip: rect(1px, 1px, 1px, 1px);height: 1px;margin: -1px;overflow: hidden;padding: 0;position: absolute;width: 1px;}#sk-container-id-1 div.sk-estimator {font-family: monospace;background-color: #f0f8ff;border: 1px dotted black;border-radius: 0.25em;box-sizing: border-box;margin-bottom: 0.5em;}#sk-container-id-1 div.sk-estimator:hover {background-color: #d4ebff;}#sk-container-id-1 div.sk-parallel-item::after {content: \"\";width: 100%;border-bottom: 1px solid gray;flex-grow: 1;}#sk-container-id-1 div.sk-label:hover label.sk-toggleable__label {background-color: #d4ebff;}#sk-container-id-1 div.sk-serial::before {content: \"\";position: absolute;border-left: 1px solid gray;box-sizing: border-box;top: 0;bottom: 0;left: 50%;z-index: 0;}#sk-container-id-1 div.sk-serial {display: flex;flex-direction: column;align-items: center;background-color: white;padding-right: 0.2em;padding-left: 0.2em;position: relative;}#sk-container-id-1 div.sk-item {position: relative;z-index: 1;}#sk-container-id-1 div.sk-parallel {display: flex;align-items: stretch;justify-content: center;background-color: white;position: relative;}#sk-container-id-1 div.sk-item::before, #sk-container-id-1 div.sk-parallel-item::before {content: \"\";position: absolute;border-left: 1px solid gray;box-sizing: border-box;top: 0;bottom: 0;left: 50%;z-index: -1;}#sk-container-id-1 div.sk-parallel-item {display: flex;flex-direction: column;z-index: 1;position: relative;background-color: white;}#sk-container-id-1 div.sk-parallel-item:first-child::after {align-self: flex-end;width: 50%;}#sk-container-id-1 div.sk-parallel-item:last-child::after {align-self: flex-start;width: 50%;}#sk-container-id-1 div.sk-parallel-item:only-child::after {width: 0;}#sk-container-id-1 div.sk-dashed-wrapped {border: 1px dashed gray;margin: 0 0.4em 0.5em 0.4em;box-sizing: border-box;padding-bottom: 0.4em;background-color: white;}#sk-container-id-1 div.sk-label label {font-family: monospace;font-weight: bold;display: inline-block;line-height: 1.2em;}#sk-container-id-1 div.sk-label-container {text-align: center;}#sk-container-id-1 div.sk-container {/* jupyter's `normalize.less` sets `[hidden] { display: none; }` but bootstrap.min.css set `[hidden] { display: none !important; }` so we also need the `!important` here to be able to override the default hidden behavior on the sphinx rendered scikit-learn.org. See: https://github.com/scikit-learn/scikit-learn/issues/21755 */display: inline-block !important;position: relative;}#sk-container-id-1 div.sk-text-repr-fallback {display: none;}</style><div id=\"sk-container-id-1\" class=\"sk-top-container\"><div class=\"sk-text-repr-fallback\"><pre>LinearRegression()</pre><b>In a Jupyter environment, please rerun this cell to show the HTML representation or trust the notebook. <br />On GitHub, the HTML representation is unable to render, please try loading this page with nbviewer.org.</b></div><div class=\"sk-container\" hidden><div class=\"sk-item\"><div class=\"sk-estimator sk-toggleable\"><input class=\"sk-toggleable__control sk-hidden--visually\" id=\"sk-estimator-id-1\" type=\"checkbox\" checked><label for=\"sk-estimator-id-1\" class=\"sk-toggleable__label sk-toggleable__label-arrow\">LinearRegression</label><div class=\"sk-toggleable__content\"><pre>LinearRegression()</pre></div></div></div></div></div>"
      ],
      "text/plain": [
       "LinearRegression()"
      ]
     },
     "execution_count": 15,
     "metadata": {},
     "output_type": "execute_result"
    }
   ],
   "source": [
    "modl.fit(x_train, y_train)"
   ]
  },
  {
   "cell_type": "code",
   "execution_count": 16,
   "id": "1392d883-a2f5-4754-9869-90bffbd5a332",
   "metadata": {},
   "outputs": [],
   "source": [
    "from sklearn.metrics import r2_score"
   ]
  },
  {
   "cell_type": "code",
   "execution_count": 20,
   "id": "840d2810-3c88-4fcc-aeae-b1d956819242",
   "metadata": {},
   "outputs": [],
   "source": [
    "y_pred = modl.predict(x_test)"
   ]
  },
  {
   "cell_type": "code",
   "execution_count": 21,
   "id": "76bcb833-d76e-4ebe-8703-4e3edd30aa77",
   "metadata": {},
   "outputs": [
    {
     "data": {
      "text/plain": [
       "array([[4.4091422 ],\n",
       "       [4.9212194 ],\n",
       "       [6.28702643],\n",
       "       [5.81251716],\n",
       "       [5.40775381],\n",
       "       [3.61587828],\n",
       "       [6.00320439],\n",
       "       [4.69270603],\n",
       "       [4.24801405],\n",
       "       [6.3687355 ],\n",
       "       [2.58112395],\n",
       "       [6.45186115],\n",
       "       [3.89551066],\n",
       "       [5.84648104],\n",
       "       [5.00799991],\n",
       "       [3.14677969],\n",
       "       [7.14393373],\n",
       "       [5.35470523],\n",
       "       [2.20542624],\n",
       "       [4.92102647],\n",
       "       [6.56647782],\n",
       "       [6.6169173 ],\n",
       "       [4.3980428 ],\n",
       "       [2.80768977],\n",
       "       [3.46191699],\n",
       "       [2.09928148],\n",
       "       [5.71068834],\n",
       "       [2.99962974],\n",
       "       [4.79780156],\n",
       "       [3.9897273 ],\n",
       "       [6.88240631],\n",
       "       [5.53676764],\n",
       "       [4.8953587 ],\n",
       "       [6.60877009],\n",
       "       [6.61447797],\n",
       "       [5.64253824],\n",
       "       [2.11009046],\n",
       "       [4.59803792],\n",
       "       [6.32878515],\n",
       "       [5.62756092]])"
      ]
     },
     "execution_count": 21,
     "metadata": {},
     "output_type": "execute_result"
    }
   ],
   "source": [
    "y_pred"
   ]
  },
  {
   "cell_type": "code",
   "execution_count": 17,
   "id": "106cf20e-50c7-4c54-ae79-73cb1c5a5be6",
   "metadata": {},
   "outputs": [],
   "source": [
    "# y = mx + b"
   ]
  },
  {
   "cell_type": "code",
   "execution_count": 19,
   "id": "674b6f7b-79f3-4363-bb7a-fa4ffe8e1bac",
   "metadata": {},
   "outputs": [],
   "source": [
    "# x_test"
   ]
  },
  {
   "cell_type": "code",
   "execution_count": 22,
   "id": "55852542-1dc6-429d-8f27-47aacb714843",
   "metadata": {},
   "outputs": [],
   "source": [
    "m = modl.coef_"
   ]
  },
  {
   "cell_type": "code",
   "execution_count": 23,
   "id": "be7182e6-e60c-469e-94ea-c1225886403f",
   "metadata": {},
   "outputs": [
    {
     "data": {
      "text/plain": [
       "array([[1.02247408]])"
      ]
     },
     "execution_count": 23,
     "metadata": {},
     "output_type": "execute_result"
    }
   ],
   "source": [
    "m"
   ]
  },
  {
   "cell_type": "code",
   "execution_count": 24,
   "id": "66a60dbf-d8b4-4409-afa9-df77f693aea8",
   "metadata": {},
   "outputs": [
    {
     "data": {
      "text/plain": [
       "array([4.40319613])"
      ]
     },
     "execution_count": 24,
     "metadata": {},
     "output_type": "execute_result"
    }
   ],
   "source": [
    "modl.intercept_"
   ]
  },
  {
   "cell_type": "code",
   "execution_count": 25,
   "id": "5db906a8-5015-45e0-851c-7581f443a53e",
   "metadata": {},
   "outputs": [
    {
     "data": {
      "text/plain": [
       "0.42844479821849"
      ]
     },
     "execution_count": 25,
     "metadata": {},
     "output_type": "execute_result"
    }
   ],
   "source": [
    "r2_score(y_test, y_pred)"
   ]
  },
  {
   "cell_type": "code",
   "execution_count": 29,
   "id": "e43e60ce-7f35-483f-8d6a-06b51c314a55",
   "metadata": {},
   "outputs": [
    {
     "data": {
      "text/plain": [
       "[<matplotlib.lines.Line2D at 0x2ccbab454d0>]"
      ]
     },
     "execution_count": 29,
     "metadata": {},
     "output_type": "execute_result"
    },
    {
     "data": {
      "image/png": "[encoded data removed]",
      "text/plain": [
       "<Figure size 640x480 with 1 Axes>"
      ]
     },
     "metadata": {},
     "output_type": "display_data"
    }
   ],
   "source": [
    "plt.scatter(x, y)\n",
    "plt.plot(x_train, modl.predict(x_train), color = \"red\")"
   ]
  },
  {
   "cell_type": "code",
   "execution_count": null,
   "id": "896c265a-34f2-4c0b-956d-20dc389d430d",
   "metadata": {},
   "outputs": [],
   "source": []
  },
  {
   "cell_type": "code",
   "execution_count": 30,
   "id": "0762bac9-3b74-4322-9872-53812754af62",
   "metadata": {},
   "outputs": [],
   "source": [
    "from sklearn.preprocessing import PolynomialFeatures"
   ]
  },
  {
   "cell_type": "code",
   "execution_count": 56,
   "id": "4cb1b470-c4d2-41f9-ad07-3ce7557936ec",
   "metadata": {},
   "outputs": [],
   "source": [
    "obj = PolynomialFeatures(degree = 10)"
   ]
  },
  {
   "cell_type": "code",
   "execution_count": 57,
   "id": "d825e07d-d071-4df0-b6d9-d102b4dd6d87",
   "metadata": {},
   "outputs": [],
   "source": [
    "x_train_new = obj.fit_transform(x_train)\n",
    "x_test_new = obj.transform(x_test)"
   ]
  },
  {
   "cell_type": "code",
   "execution_count": 58,
   "id": "5a3a3bb3-fc73-4e49-8c67-6dfddd222ec9",
   "metadata": {},
   "outputs": [
    {
     "data": {
      "text/plain": [
       "array([[-1.25093620e+00],\n",
       "       [-8.43378135e-01],\n",
       "       [ 2.77606170e+00],\n",
       "       [-2.16797958e+00],\n",
       "       [-2.07179726e+00],\n",
       "       [-1.29137283e+00],\n",
       "       [-4.21497429e-01],\n",
       "       [-2.24335019e+00],\n",
       "       [-2.77635247e+00],\n",
       "       [ 7.77328451e-01],\n",
       "       [-2.03218772e+00],\n",
       "       [-1.86884564e+00],\n",
       "       [-3.33612809e-01],\n",
       "       [-7.17415055e-01],\n",
       "       [ 1.99065222e+00],\n",
       "       [-2.47714763e+00],\n",
       "       [ 1.10077718e+00],\n",
       "       [ 2.49956625e+00],\n",
       "       [ 2.82154572e+00],\n",
       "       [ 1.45071380e+00],\n",
       "       [ 2.08457883e+00],\n",
       "       [-1.12382262e+00],\n",
       "       [-3.66051250e-01],\n",
       "       [ 5.45093589e-01],\n",
       "       [ 2.04946623e+00],\n",
       "       [ 1.06903561e+00],\n",
       "       [ 1.95868944e+00],\n",
       "       [-2.13317359e+00],\n",
       "       [-2.75904760e+00],\n",
       "       [-1.72450004e+00],\n",
       "       [-1.80060160e+00],\n",
       "       [-2.01018349e+00],\n",
       "       [-1.50296201e+00],\n",
       "       [ 7.30461680e-01],\n",
       "       [ 2.17928214e+00],\n",
       "       [-7.31744912e-01],\n",
       "       [ 1.32755457e+00],\n",
       "       [-1.69821436e+00],\n",
       "       [-2.18805279e+00],\n",
       "       [-5.99033828e-01],\n",
       "       [-1.09154809e+00],\n",
       "       [ 2.54315046e+00],\n",
       "       [ 6.55627202e-01],\n",
       "       [-1.82927331e-01],\n",
       "       [ 1.11038484e+00],\n",
       "       [-1.09202959e+00],\n",
       "       [-2.55738981e+00],\n",
       "       [ 2.97942190e+00],\n",
       "       [ 2.64290238e+00],\n",
       "       [ 1.91820786e+00],\n",
       "       [-2.07874040e+00],\n",
       "       [ 5.41201184e-01],\n",
       "       [ 2.16333728e+00],\n",
       "       [-1.27222196e+00],\n",
       "       [-1.59945488e+00],\n",
       "       [ 1.13622843e+00],\n",
       "       [ 2.58254956e-01],\n",
       "       [-2.31544926e+00],\n",
       "       [ 2.31895106e+00],\n",
       "       [-1.37183931e+00],\n",
       "       [ 4.89433440e-01],\n",
       "       [ 2.87356627e+00],\n",
       "       [-1.04896839e+00],\n",
       "       [ 2.66707980e+00],\n",
       "       [-2.28837586e+00],\n",
       "       [-1.25668822e+00],\n",
       "       [ 1.49597674e+00],\n",
       "       [-2.38922484e+00],\n",
       "       [ 2.63671414e-02],\n",
       "       [ 1.78948847e+00],\n",
       "       [-4.38058578e-01],\n",
       "       [-1.25209964e+00],\n",
       "       [ 1.83899432e+00],\n",
       "       [-2.37884429e+00],\n",
       "       [-1.62133786e+00],\n",
       "       [-1.88365170e+00],\n",
       "       [-6.75809648e-02],\n",
       "       [-7.44390551e-01],\n",
       "       [ 7.20704107e-01],\n",
       "       [-1.12233591e+00],\n",
       "       [ 1.59461828e+00],\n",
       "       [-3.92074897e-01],\n",
       "       [-3.56824311e-01],\n",
       "       [ 2.52308551e+00],\n",
       "       [-8.36260747e-01],\n",
       "       [-1.41990542e+00],\n",
       "       [-1.37941421e+00],\n",
       "       [ 2.57270696e+00],\n",
       "       [-8.24643108e-01],\n",
       "       [-1.09626141e-01],\n",
       "       [-1.85500565e+00],\n",
       "       [ 2.03070441e+00],\n",
       "       [-2.23002585e+00],\n",
       "       [ 1.85989519e-01],\n",
       "       [ 2.29590329e+00],\n",
       "       [ 5.75108675e-01],\n",
       "       [ 3.56889149e-01],\n",
       "       [ 5.05965558e-01],\n",
       "       [-5.31993461e-04],\n",
       "       [ 7.26467135e-01],\n",
       "       [-6.40805566e-01],\n",
       "       [-2.98005673e+00],\n",
       "       [-2.33230145e-01],\n",
       "       [-1.82363240e+00],\n",
       "       [-2.87900858e+00],\n",
       "       [-2.34605728e-01],\n",
       "       [-3.21919979e-01],\n",
       "       [ 2.15391056e+00],\n",
       "       [-2.58355651e-01],\n",
       "       [-1.41916108e+00],\n",
       "       [ 2.97831177e+00],\n",
       "       [ 1.94841255e+00],\n",
       "       [-9.64835736e-01],\n",
       "       [ 2.53595542e+00],\n",
       "       [ 1.62118277e+00],\n",
       "       [ 1.87450370e+00],\n",
       "       [ 3.19189684e-01],\n",
       "       [ 2.83991265e+00],\n",
       "       [ 2.73834329e+00],\n",
       "       [-1.17347561e+00],\n",
       "       [ 1.42724278e+00],\n",
       "       [-2.59316555e+00],\n",
       "       [-4.91383972e-01],\n",
       "       [-9.72768051e-01],\n",
       "       [-2.64564156e+00],\n",
       "       [ 1.50499799e+00],\n",
       "       [-5.11201967e-01],\n",
       "       [-5.68412075e-01],\n",
       "       [-1.92184717e+00],\n",
       "       [ 7.81273397e-01],\n",
       "       [ 5.50869063e-01],\n",
       "       [-3.28370597e-01],\n",
       "       [-1.87709668e+00],\n",
       "       [ 1.97342169e-01],\n",
       "       [-2.39493509e+00],\n",
       "       [ 1.56378000e-01],\n",
       "       [-9.96868173e-02],\n",
       "       [ 2.14554017e+00],\n",
       "       [-2.81308434e+00],\n",
       "       [-4.72683571e-01],\n",
       "       [-2.63222488e+00],\n",
       "       [ 1.95772272e+00],\n",
       "       [ 2.46377754e+00],\n",
       "       [-2.20573894e+00],\n",
       "       [-1.76366814e+00],\n",
       "       [-1.61662317e+00],\n",
       "       [-7.00518437e-01],\n",
       "       [ 5.02094859e-01],\n",
       "       [ 2.06527187e+00],\n",
       "       [-2.81606473e+00],\n",
       "       [-1.12361458e+00],\n",
       "       [ 1.50089850e+00],\n",
       "       [ 2.22021322e+00],\n",
       "       [-1.70147152e+00],\n",
       "       [ 1.90066393e+00],\n",
       "       [-1.15897502e+00],\n",
       "       [ 2.94801152e+00],\n",
       "       [-2.82192658e-01],\n",
       "       [-2.56497751e+00],\n",
       "       [-2.08611035e+00]])"
      ]
     },
     "execution_count": 58,
     "metadata": {},
     "output_type": "execute_result"
    }
   ],
   "source": [
    "# 5\n",
    "# 1   5    25\n",
    "x_train"
   ]
  },
  {
   "cell_type": "code",
   "execution_count": 59,
   "id": "ae3d9b86-f1bd-4a4f-a3a1-77d182c5dbd9",
   "metadata": {},
   "outputs": [
    {
     "data": {
      "text/plain": [
       "array([[ 1.00000000e+00, -1.25093620e+00,  1.56484137e+00, ...,\n",
       "         5.99627129e+00, -7.50095279e+00,  9.38321336e+00],\n",
       "       [ 1.00000000e+00, -8.43378135e-01,  7.11286678e-01, ...,\n",
       "         2.55963889e-01, -2.15874347e-01,  1.82063704e-01],\n",
       "       [ 1.00000000e+00,  2.77606170e+00,  7.70651857e+00, ...,\n",
       "         3.52722298e+03,  9.79178864e+03,  2.71826094e+04],\n",
       "       ...,\n",
       "       [ 1.00000000e+00, -2.82192658e-01,  7.96326960e-02, ...,\n",
       "         4.02129262e-05, -1.13477925e-05,  3.20226373e-06],\n",
       "       [ 1.00000000e+00, -2.56497751e+00,  6.57910963e+00, ...,\n",
       "         1.87356383e+03, -4.80564909e+03,  1.23263818e+04],\n",
       "       [ 1.00000000e+00, -2.08611035e+00,  4.35185640e+00, ...,\n",
       "         3.58672622e+02, -7.48230669e+02,  1.56089175e+03]])"
      ]
     },
     "execution_count": 59,
     "metadata": {},
     "output_type": "execute_result"
    }
   ],
   "source": [
    "x_train_new"
   ]
  },
  {
   "cell_type": "code",
   "execution_count": 60,
   "id": "32c321c0-610e-4cce-8f13-3a65c68a0421",
   "metadata": {},
   "outputs": [
    {
     "data": {
      "text/plain": [
       "array([[ 1.00000000e+00,  5.81537503e-03,  3.38185867e-05,\n",
       "         1.96667765e-07,  1.14369681e-09,  6.65102586e-12,\n",
       "         3.86782097e-14,  2.24928295e-16,  1.30804239e-18,\n",
       "         7.60675704e-21,  4.42361449e-23],\n",
       "       [ 1.00000000e+00,  5.06637068e-01,  2.56681119e-01,\n",
       "         1.30044170e-01,  6.58851969e-02,  3.33798830e-02,\n",
       "         1.69114861e-02,  8.56798572e-03,  4.34085917e-03,\n",
       "         2.19924016e-03,  1.11421659e-03],\n",
       "       [ 1.00000000e+00,  1.84242352e+00,  3.39452444e+00,\n",
       "         6.25415168e+00,  1.15227962e+01,  2.12298707e+01,\n",
       "         3.91144133e+01,  7.20653151e+01,  1.32774832e+02,\n",
       "         2.44627474e+02,  4.50707412e+02],\n",
       "       [ 1.00000000e+00,  1.37834402e+00,  1.89983224e+00,\n",
       "         2.61862240e+00,  3.60936253e+00,  4.97494326e+00,\n",
       "         6.85718330e+00,  9.45155760e+00,  1.30274979e+01,\n",
       "         1.79563738e+01,  2.47500605e+01],\n",
       "       [ 1.00000000e+00,  9.82477402e-01,  9.65261846e-01,\n",
       "         9.48347951e-01,  9.31730431e-01,  9.15404094e-01,\n",
       "         8.99363836e-01,  8.83604645e-01,  8.68121597e-01,\n",
       "         8.52909851e-01,  8.37964655e-01],\n",
       "       [ 1.00000000e+00, -7.70012522e-01,  5.92919284e-01,\n",
       "        -4.56555273e-01,  3.51553277e-01, -2.70700425e-01,\n",
       "         2.08442717e-01, -1.60503502e-01,  1.23589707e-01,\n",
       "        -9.51656216e-02,  7.32787203e-02],\n",
       "       [ 1.00000000e+00,  1.56483992e+00,  2.44872399e+00,\n",
       "         3.83186105e+00,  5.99624916e+00,  9.38317007e+00,\n",
       "         1.46831591e+01,  2.29767936e+01,  3.59550039e+01,\n",
       "         5.62638256e+01,  8.80438805e+01],\n",
       "       [ 1.00000000e+00,  2.83146445e-01,  8.01719092e-02,\n",
       "         2.27003911e-02,  6.42753503e-03,  1.81993369e-03,\n",
       "         5.15307755e-04,  1.45907559e-04,  4.13132065e-05,\n",
       "         1.16976876e-05,  3.31215864e-06],\n",
       "       [ 1.00000000e+00, -1.51771158e-01,  2.30344844e-02,\n",
       "        -3.49597038e-03,  5.30587473e-04, -8.05278752e-05,\n",
       "         1.22218089e-05, -1.85491809e-06,  2.81523066e-07,\n",
       "        -4.27270818e-08,  6.48473868e-09],\n",
       "       [ 1.00000000e+00,  1.92233662e+00,  3.69537808e+00,\n",
       "         7.10376062e+00,  1.36558192e+01,  2.62510813e+01,\n",
       "         5.04634149e+01,  9.70076704e+01,  1.86481397e+02,\n",
       "         3.58480019e+02,  6.89119269e+02],\n",
       "       [ 1.00000000e+00, -1.78202285e+00,  3.17560545e+00,\n",
       "        -5.65900148e+00,  1.00844700e+01, -1.79707559e+01,\n",
       "         3.20242978e+01, -5.70680305e+01,  1.01696535e+02,\n",
       "        -1.81225549e+02,  3.22948069e+02],\n",
       "       [ 1.00000000e+00,  2.00363517e+00,  4.01455388e+00,\n",
       "         8.04370132e+00,  1.61166428e+01,  3.22918723e+01,\n",
       "         6.47011309e+01,  1.29637461e+02,  2.59746176e+02,\n",
       "         5.20436572e+02,  1.04276502e+03],\n",
       "       [ 1.00000000e+00, -4.96526497e-01,  2.46538562e-01,\n",
       "        -1.22412929e-01,  6.07812628e-02, -3.01795075e-02,\n",
       "         1.49849252e-02, -7.44041240e-03,  3.69436191e-03,\n",
       "        -1.83434858e-03,  9.10802674e-04],\n",
       "       [ 1.00000000e+00,  1.41156137e+00,  1.99250549e+00,\n",
       "         2.81254377e+00,  3.97007813e+00,  5.60400891e+00,\n",
       "         7.91040247e+00,  1.11660185e+01,  1.57615203e+01,\n",
       "         2.22483532e+01,  3.14049158e+01],\n",
       "       [ 1.00000000e+00,  5.91510134e-01,  3.49884238e-01,\n",
       "         2.06960073e-01,  1.22418980e-01,  7.24120674e-02,\n",
       "         4.28324717e-02,  2.53358411e-02,  1.49864067e-02,\n",
       "         8.86461145e-03,  5.24350751e-03],\n",
       "       [ 1.00000000e+00, -1.22880028e+00,  1.50995014e+00,\n",
       "        -1.85542716e+00,  2.27994942e+00, -2.80160250e+00,\n",
       "         3.44260995e+00, -4.23028009e+00,  5.19816938e+00,\n",
       "        -6.38751201e+00,  7.84897657e+00],\n",
       "       [ 1.00000000e+00,  2.68049592e+00,  7.18505837e+00,\n",
       "         1.92595196e+01,  5.16250637e+01,  1.38380773e+02,\n",
       "         3.70929096e+02,  9.94273929e+02,  2.66514721e+03,\n",
       "         7.14391621e+03,  1.91492382e+04],\n",
       "       [ 1.00000000e+00,  9.30594841e-01,  8.66006757e-01,\n",
       "         8.05901420e-01,  7.49967704e-01,  6.97916075e-01,\n",
       "         6.49477099e-01,  6.04400037e-01,  5.62451556e-01,\n",
       "         5.23414516e-01,  4.87086848e-01],\n",
       "       [ 1.00000000e+00, -2.14946269e+00,  4.62018985e+00,\n",
       "        -9.93092569e+00,  2.13461542e+01, -4.58827620e+01,\n",
       "         9.86232850e+01, -2.11987071e+02,  4.55658300e+02,\n",
       "        -9.79420515e+02,  2.10522785e+03],\n",
       "       [ 1.00000000e+00,  5.06448378e-01,  2.56489959e-01,\n",
       "         1.29898924e-01,  6.57870991e-02,  3.33177696e-02,\n",
       "         1.68737304e-02,  8.54567337e-03,  4.32794241e-03,\n",
       "         2.19187941e-03,  1.11007377e-03],\n",
       "       [ 1.00000000e+00,  2.11573255e+00,  4.47632421e+00,\n",
       "         9.47070483e+00,  2.00374785e+01,  4.23939453e+01,\n",
       "         8.96942500e+01,  1.89769044e+02,  4.01500543e+02,\n",
       "         8.49467767e+02,  1.79724660e+03],\n",
       "       [ 1.00000000e+00,  2.16506337e+00,  4.68749938e+00,\n",
       "         1.01487332e+01,  2.19726505e+01,  4.75721806e+01,\n",
       "         1.02996786e+02,  2.22994567e+02,  4.82797369e+02,\n",
       "         1.04528690e+03,  2.26311237e+03],\n",
       "       [ 1.00000000e+00, -5.04005396e-03,  2.54021439e-05,\n",
       "        -1.28028176e-07,  6.45268915e-10, -3.25219015e-12,\n",
       "         1.63912138e-14, -8.26126022e-17,  4.16371973e-19,\n",
       "        -2.09853721e-21,  1.05767408e-23],\n",
       "       [ 1.00000000e+00, -1.56043697e+00,  2.43496355e+00,\n",
       "        -3.79960716e+00,  5.92904750e+00, -9.25190494e+00,\n",
       "         1.44370146e+01, -2.25280513e+01,  3.51536042e+01,\n",
       "        -5.48549838e+01,  8.55977450e+01],\n",
       "       [ 1.00000000e+00, -9.20589734e-01,  8.47485458e-01,\n",
       "        -7.80186412e-01,  7.18231601e-01, -6.61196639e-01,\n",
       "         6.08690837e-01, -5.60354536e-01,  5.15856633e-01,\n",
       "        -4.74892320e-01,  4.37180995e-01],\n",
       "       [ 1.00000000e+00, -2.25327438e+00,  5.07724545e+00,\n",
       "        -1.14404271e+01,  2.57784213e+01, -5.80858565e+01,\n",
       "         1.30883372e+02, -2.94916150e+02,  6.64527007e+02,\n",
       "        -1.49736168e+03,  3.37396672e+03],\n",
       "       [ 1.00000000e+00,  1.27875341e+00,  1.63521028e+00,\n",
       "         2.09103072e+00,  2.67391266e+00,  3.41927493e+00,\n",
       "         4.37240948e+00,  5.59123353e+00,  7.14980893e+00,\n",
       "         9.14284255e+00,  1.16914411e+01],\n",
       "       [ 1.00000000e+00, -1.37271587e+00,  1.88434885e+00,\n",
       "        -2.58667556e+00,  3.55077059e+00, -4.87419912e+00,\n",
       "         6.69089047e+00, -9.18469150e+00,  1.26079718e+01,\n",
       "        -1.73071629e+01,  2.37578171e+01],\n",
       "       [ 1.00000000e+00,  3.85931964e-01,  1.48943481e-01,\n",
       "         5.74820503e-02,  2.21841606e-02,  8.56157668e-03,\n",
       "         3.30418611e-03,  1.27519103e-03,  4.92136981e-04,\n",
       "         1.89931392e-04,  7.33005952e-05],\n",
       "       [ 1.00000000e+00, -4.04380741e-01,  1.63523783e-01,\n",
       "        -6.61258686e-02,  2.67400277e-02, -1.08131522e-02,\n",
       "         4.37263050e-03, -1.76820756e-03,  7.15029083e-04,\n",
       "        -2.89143990e-04,  1.16924261e-04],\n",
       "       [ 1.00000000e+00,  2.42471690e+00,  5.87925207e+00,\n",
       "         1.42555219e+01,  3.45656049e+01,  8.38118064e+01,\n",
       "         2.03219904e+02,  4.92750736e+02,  1.19478104e+03,\n",
       "         2.89700578e+03,  7.02441890e+03],\n",
       "       [ 1.00000000e+00,  1.10865550e+00,  1.22911702e+00,\n",
       "         1.36266734e+00,  1.51072864e+00,  1.67487762e+00,\n",
       "         1.85686229e+00,  2.05862059e+00,  2.28230104e+00,\n",
       "         2.53028560e+00,  2.80521505e+00],\n",
       "       [ 1.00000000e+00,  4.81344787e-01,  2.31692804e-01,\n",
       "         1.11524123e-01,  5.36815554e-02,  2.58393369e-02,\n",
       "         1.24376301e-02,  5.98678841e-03,  2.88170939e-03,\n",
       "         1.38709579e-03,  6.67671330e-04],\n",
       "       [ 1.00000000e+00,  2.15709523e+00,  4.65305982e+00,\n",
       "         1.00370931e+01,  2.16509657e+01,  4.67031948e+01,\n",
       "         1.00743239e+02,  2.17312759e+02,  4.68764315e+02,\n",
       "         1.01116927e+03,  2.18118840e+03],\n",
       "       [ 1.00000000e+00,  2.16267765e+00,  4.67717461e+00,\n",
       "         1.01152210e+01,  2.18759623e+01,  4.73106547e+01,\n",
       "         1.02317695e+02,  2.21280193e+02,  4.78557727e+02,\n",
       "         1.03496610e+03,  2.23829805e+03],\n",
       "       [ 1.00000000e+00,  1.21210125e+00,  1.46918944e+00,\n",
       "         1.78080636e+00,  2.15851762e+00,  2.61634191e+00,\n",
       "         3.17127130e+00,  3.84390191e+00,  4.65919831e+00,\n",
       "         5.64742010e+00,  6.84524497e+00],\n",
       "       [ 1.00000000e+00, -2.24270299e+00,  5.02971668e+00,\n",
       "        -1.12801606e+01,  2.52980499e+01, -5.67360121e+01,\n",
       "         1.27242024e+02, -2.85366066e+02,  6.39991329e+02,\n",
       "        -1.43531047e+03,  3.21897507e+03],\n",
       "       [ 1.00000000e+00,  1.90559146e-01,  3.63127882e-02,\n",
       "         6.91973391e-03,  1.31861859e-03,  2.51274832e-04,\n",
       "         4.78827175e-05,  9.12448975e-06,  1.73875498e-06,\n",
       "         3.31335664e-07,  6.31390412e-08],\n",
       "       [ 1.00000000e+00,  1.88326438e+00,  3.54668474e+00,\n",
       "         6.67934506e+00,  1.25789727e+01,  2.36895312e+01,\n",
       "         4.46136504e+01,  8.40192989e+01,  1.58230553e+02,\n",
       "         2.97989965e+02,  5.61193889e+02],\n",
       "       [ 1.00000000e+00,  1.19745313e+00,  1.43389400e+00,\n",
       "         1.71702087e+00,  2.05605201e+00,  2.46202592e+00,\n",
       "         2.94816065e+00,  3.53028421e+00,  4.22734988e+00,\n",
       "         5.06205336e+00,  6.06157165e+00]])"
      ]
     },
     "execution_count": 60,
     "metadata": {},
     "output_type": "execute_result"
    }
   ],
   "source": [
    "x_test_new"
   ]
  },
  {
   "cell_type": "code",
   "execution_count": null,
   "id": "e7d98327-45da-4ca7-a15f-b5d50c5fc0f6",
   "metadata": {},
   "outputs": [],
   "source": []
  },
  {
   "cell_type": "code",
   "execution_count": 61,
   "id": "3a9fbffb-d891-4fc1-8163-b0231660644c",
   "metadata": {},
   "outputs": [],
   "source": [
    "new_lr = LinearRegression()"
   ]
  },
  {
   "cell_type": "code",
   "execution_count": 62,
   "id": "b2627338-0a92-40a6-8ba7-9eb65b9d70c5",
   "metadata": {},
   "outputs": [
    {
     "data": {
      "text/html": [
       "<style>#sk-container-id-3 {color: black;}#sk-container-id-3 pre{padding: 0;}#sk-container-id-3 div.sk-toggleable {background-color: white;}#sk-container-id-3 label.sk-toggleable__label {cursor: pointer;display: block;width: 100%;margin-bottom: 0;padding: 0.3em;box-sizing: border-box;text-align: center;}#sk-container-id-3 label.sk-toggleable__label-arrow:before {content: \"▸\";float: left;margin-right: 0.25em;color: #696969;}#sk-container-id-3 label.sk-toggleable__label-arrow:hover:before {color: black;}#sk-container-id-3 div.sk-estimator:hover label.sk-toggleable__label-arrow:before {color: black;}#sk-container-id-3 div.sk-toggleable__content {max-height: 0;max-width: 0;overflow: hidden;text-align: left;background-color: #f0f8ff;}#sk-container-id-3 div.sk-toggleable__content pre {margin: 0.2em;color: black;border-radius: 0.25em;background-color: #f0f8ff;}#sk-container-id-3 input.sk-toggleable__control:checked~div.sk-toggleable__content {max-height: 200px;max-width: 100%;overflow: auto;}#sk-container-id-3 input.sk-toggleable__control:checked~label.sk-toggleable__label-arrow:before {content: \"▾\";}#sk-container-id-3 div.sk-estimator input.sk-toggleable__control:checked~label.sk-toggleable__label {background-color: #d4ebff;}#sk-container-id-3 div.sk-label input.sk-toggleable__control:checked~label.sk-toggleable__label {background-color: #d4ebff;}#sk-container-id-3 input.sk-hidden--visually {border: 0;clip: rect(1px 1px 1px 1px);clip: rect(1px, 1px, 1px, 1px);height: 1px;margin: -1px;overflow: hidden;padding: 0;position: absolute;width: 1px;}#sk-container-id-3 div.sk-estimator {font-family: monospace;background-color: #f0f8ff;border: 1px dotted black;border-radius: 0.25em;box-sizing: border-box;margin-bottom: 0.5em;}#sk-container-id-3 div.sk-estimator:hover {background-color: #d4ebff;}#sk-container-id-3 div.sk-parallel-item::after {content: \"\";width: 100%;border-bottom: 1px solid gray;flex-grow: 1;}#sk-container-id-3 div.sk-label:hover label.sk-toggleable__label {background-color: #d4ebff;}#sk-container-id-3 div.sk-serial::before {content: \"\";position: absolute;border-left: 1px solid gray;box-sizing: border-box;top: 0;bottom: 0;left: 50%;z-index: 0;}#sk-container-id-3 div.sk-serial {display: flex;flex-direction: column;align-items: center;background-color: white;padding-right: 0.2em;padding-left: 0.2em;position: relative;}#sk-container-id-3 div.sk-item {position: relative;z-index: 1;}#sk-container-id-3 div.sk-parallel {display: flex;align-items: stretch;justify-content: center;background-color: white;position: relative;}#sk-container-id-3 div.sk-item::before, #sk-container-id-3 div.sk-parallel-item::before {content: \"\";position: absolute;border-left: 1px solid gray;box-sizing: border-box;top: 0;bottom: 0;left: 50%;z-index: -1;}#sk-container-id-3 div.sk-parallel-item {display: flex;flex-direction: column;z-index: 1;position: relative;background-color: white;}#sk-container-id-3 div.sk-parallel-item:first-child::after {align-self: flex-end;width: 50%;}#sk-container-id-3 div.sk-parallel-item:last-child::after {align-self: flex-start;width: 50%;}#sk-container-id-3 div.sk-parallel-item:only-child::after {width: 0;}#sk-container-id-3 div.sk-dashed-wrapped {border: 1px dashed gray;margin: 0 0.4em 0.5em 0.4em;box-sizing: border-box;padding-bottom: 0.4em;background-color: white;}#sk-container-id-3 div.sk-label label {font-family: monospace;font-weight: bold;display: inline-block;line-height: 1.2em;}#sk-container-id-3 div.sk-label-container {text-align: center;}#sk-container-id-3 div.sk-container {/* jupyter's `normalize.less` sets `[hidden] { display: none; }` but bootstrap.min.css set `[hidden] { display: none !important; }` so we also need the `!important` here to be able to override the default hidden behavior on the sphinx rendered scikit-learn.org. See: https://github.com/scikit-learn/scikit-learn/issues/21755 */display: inline-block !important;position: relative;}#sk-container-id-3 div.sk-text-repr-fallback {display: none;}</style><div id=\"sk-container-id-3\" class=\"sk-top-container\"><div class=\"sk-text-repr-fallback\"><pre>LinearRegression()</pre><b>In a Jupyter environment, please rerun this cell to show the HTML representation or trust the notebook. <br />On GitHub, the HTML representation is unable to render, please try loading this page with nbviewer.org.</b></div><div class=\"sk-container\" hidden><div class=\"sk-item\"><div class=\"sk-estimator sk-toggleable\"><input class=\"sk-toggleable__control sk-hidden--visually\" id=\"sk-estimator-id-3\" type=\"checkbox\" checked><label for=\"sk-estimator-id-3\" class=\"sk-toggleable__label sk-toggleable__label-arrow\">LinearRegression</label><div class=\"sk-toggleable__content\"><pre>LinearRegression()</pre></div></div></div></div></div>"
      ],
      "text/plain": [
       "LinearRegression()"
      ]
     },
     "execution_count": 62,
     "metadata": {},
     "output_type": "execute_result"
    }
   ],
   "source": [
    "new_lr.fit(x_train_new, y_train)"
   ]
  },
  {
   "cell_type": "code",
   "execution_count": 63,
   "id": "aa6969d6-a034-42bc-835c-71c38817aeb5",
   "metadata": {},
   "outputs": [],
   "source": [
    "y_pred_new = new_lr.predict(x_test_new)"
   ]
  },
  {
   "cell_type": "code",
   "execution_count": 64,
   "id": "d0a13ed9-9def-40c0-a64c-599d352ae73c",
   "metadata": {},
   "outputs": [
    {
     "data": {
      "text/plain": [
       "0.8437027289783459"
      ]
     },
     "execution_count": 64,
     "metadata": {},
     "output_type": "execute_result"
    }
   ],
   "source": [
    "r2_score(y_pred_new, y_test)"
   ]
  },
  {
   "cell_type": "code",
   "execution_count": null,
   "id": "440b6944-80fe-4717-8d24-c631f2c09593",
   "metadata": {},
   "outputs": [],
   "source": []
  },
  {
   "cell_type": "code",
   "execution_count": 74,
   "id": "6d95efb9-276d-4bbf-b344-6637ebc51d26",
   "metadata": {},
   "outputs": [],
   "source": [
    "ploy = np.linspace(-3, 3, 200).reshape(200, 1)\n",
    "x_poly = obj.transform(ploy)\n",
    "y_new = new_lr.predict(x_poly)"
   ]
  },
  {
   "cell_type": "code",
   "execution_count": 87,
   "id": "33ce31b5-7b23-401d-87ad-28da98c48a5d",
   "metadata": {},
   "outputs": [
    {
     "data": {
      "text/plain": [
       "[<matplotlib.lines.Line2D at 0x2ccc0459ad0>]"
      ]
     },
     "execution_count": 87,
     "metadata": {},
     "output_type": "execute_result"
    },
    {
     "data": {
      "image/png": "[encoded data removed]",
      "text/plain": [
       "<Figure size 640x480 with 1 Axes>"
      ]
     },
     "metadata": {},
     "output_type": "display_data"
    }
   ],
   "source": [
    "plt.scatter(y_train, x_train)\n",
    "plt.plot(y_new)\n",
    "\n",
    "# plt.plot(x_poly, y_new)\n",
    "\n",
    "# plt.plot(x_train, new_lr.predict(x_train))"
   ]
  },
  {
   "cell_type": "code",
   "execution_count": 86,
   "id": "a27c4da2-7080-454c-b430-e5c4e3462369",
   "metadata": {},
   "outputs": [
    {
     "data": {
      "text/plain": [
       "<matplotlib.collections.PathCollection at 0x2ccc041ab50>"
      ]
     },
     "execution_count": 86,
     "metadata": {},
     "output_type": "execute_result"
    },
    {
     "data": {
      "image/png": "[encoded data removed]",
      "text/plain": [
       "<Figure size 640x480 with 1 Axes>"
      ]
     },
     "metadata": {},
     "output_type": "display_data"
    }
   ],
   "source": [
    "plt.scatter(x, y)\n",
    "# plt.plot(y_new)"
   ]
  },
  {
   "cell_type": "code",
   "execution_count": 90,
   "id": "c6ffd6be-eca5-41c0-8cf9-8181476fbc39",
   "metadata": {},
   "outputs": [],
   "source": [
    "X_new=np.linspace(-3, 3, 200).reshape(200, 1)\n",
    "X_new_poly = obj.transform(X_new)\n",
    "y_new = new_lr.predict(X_new_poly)\n"
   ]
  },
  {
   "cell_type": "code",
   "execution_count": 92,
   "id": "24e1e750-bbb3-424d-8ac9-64db72427a19",
   "metadata": {},
   "outputs": [
    {
     "data": {
      "text/plain": [
       "[<matplotlib.lines.Line2D at 0x2ccc04f9210>]"
      ]
     },
     "execution_count": 92,
     "metadata": {},
     "output_type": "execute_result"
    },
    {
     "data": {
      "image/png": "[encoded data removed]",
      "text/plain": [
       "<Figure size 640x480 with 1 Axes>"
      ]
     },
     "metadata": {},
     "output_type": "display_data"
    }
   ],
   "source": [
    "plt.plot(X_new, y_new, \"r-\", linewidth=2, label=\"Predictions\")\n",
    "plt.plot(x_train, y_train, \"b.\",label='Training points')\n",
    "plt.plot(x_test, y_test, \"g.\",label='Testing points')"
   ]
  },
  {
   "cell_type": "code",
   "execution_count": null,
   "id": "ee43e552-94c2-49f0-9949-041a23da17cb",
   "metadata": {},
   "outputs": [],
   "source": []
  }
 ],
 "metadata": {
  "kernelspec": {
   "display_name": "Python 3 (ipykernel)",
   "language": "python",
   "name": "python3"
  },
  "language_info": {
   "codemirror_mode": {
    "name": "ipython",
    "version": 3
   },
   "file_extension": ".py",
   "mimetype": "text/x-python",
   "name": "python",
   "nbconvert_exporter": "python",
   "pygments_lexer": "ipython3",
   "version": "3.11.5"
  }
 },
 "nbformat": 4,
 "nbformat_minor": 5
}
