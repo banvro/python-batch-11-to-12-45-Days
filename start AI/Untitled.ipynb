{
 "cells": [
  {
   "cell_type": "code",
   "execution_count": 1,
   "id": "06b54acb-5f91-4e2d-90d5-1b8dd113a600",
   "metadata": {},
   "outputs": [],
   "source": [
    "# Numpy : \n",
    "# 1) Fancy indexing\n",
    "# 2) Boolean indexing"
   ]
  },
  {
   "cell_type": "code",
   "execution_count": 2,
   "id": "dbcc2208-a9bc-40c0-bb10-97fa8937ff5c",
   "metadata": {},
   "outputs": [],
   "source": [
    "import numpy as np"
   ]
  },
  {
   "cell_type": "code",
   "execution_count": 20,
   "id": "8b0a9a70-ab90-42b7-a955-e65342f4cf81",
   "metadata": {},
   "outputs": [],
   "source": [
    "x = np.random.randint(2, 15, size = (5, 6))"
   ]
  },
  {
   "cell_type": "code",
   "execution_count": 21,
   "id": "cf7f6049-bd6d-4d78-928f-2905f8961e94",
   "metadata": {},
   "outputs": [
    {
     "data": {
      "text/plain": [
       "array([[ 9,  7, 12,  6, 12,  9],\n",
       "       [ 6,  8, 14, 11,  4,  9],\n",
       "       [ 2, 11,  7,  6, 12, 12],\n",
       "       [11, 12,  8, 12,  7, 11],\n",
       "       [ 3,  2,  3, 14,  3,  2]])"
      ]
     },
     "execution_count": 21,
     "metadata": {},
     "output_type": "execute_result"
    }
   ],
   "source": [
    "x"
   ]
  },
  {
   "cell_type": "code",
   "execution_count": 22,
   "id": "0f854d85-4f18-44b8-a40d-181a938076ef",
   "metadata": {},
   "outputs": [
    {
     "data": {
      "text/plain": [
       "array([[False, False,  True, False,  True, False],\n",
       "       [False, False,  True,  True, False, False],\n",
       "       [False,  True, False, False,  True,  True],\n",
       "       [ True,  True, False,  True, False,  True],\n",
       "       [False, False, False,  True, False, False]])"
      ]
     },
     "execution_count": 22,
     "metadata": {},
     "output_type": "execute_result"
    }
   ],
   "source": [
    "x > 10"
   ]
  },
  {
   "cell_type": "code",
   "execution_count": 23,
   "id": "e9fd616c-ffc7-49d2-a995-ba1fed5ee65f",
   "metadata": {},
   "outputs": [
    {
     "data": {
      "text/plain": [
       "array([12, 12, 14, 11, 11, 12, 12, 11, 12, 12, 11, 14])"
      ]
     },
     "execution_count": 23,
     "metadata": {},
     "output_type": "execute_result"
    }
   ],
   "source": [
    "x[x>10]"
   ]
  },
  {
   "cell_type": "code",
   "execution_count": 27,
   "id": "f1730844-5cb4-455c-b2e5-008845b99d0d",
   "metadata": {},
   "outputs": [
    {
     "data": {
      "text/plain": [
       "array([ 9,  7,  9, 11,  9, 11,  7, 11,  7, 11,  3,  3,  3])"
      ]
     },
     "execution_count": 27,
     "metadata": {},
     "output_type": "execute_result"
    }
   ],
   "source": [
    "x[~(x % 2 == 0)]"
   ]
  },
  {
   "cell_type": "code",
   "execution_count": 28,
   "id": "40f575ec-3234-4a28-94ac-b7e165c9f381",
   "metadata": {},
   "outputs": [
    {
     "data": {
      "text/plain": [
       "array([[ 9,  7, 12,  6, 12,  9],\n",
       "       [ 6,  8, 14, 11,  4,  9],\n",
       "       [ 2, 11,  7,  6, 12, 12],\n",
       "       [11, 12,  8, 12,  7, 11],\n",
       "       [ 3,  2,  3, 14,  3,  2]])"
      ]
     },
     "execution_count": 28,
     "metadata": {},
     "output_type": "execute_result"
    }
   ],
   "source": [
    "x"
   ]
  },
  {
   "cell_type": "code",
   "execution_count": 34,
   "id": "1ea10928-dd24-4f0b-9b04-dcc814fb5f94",
   "metadata": {},
   "outputs": [
    {
     "data": {
      "text/plain": [
       "array([12, 12, 14, 12, 12, 12, 12, 14])"
      ]
     },
     "execution_count": 34,
     "metadata": {},
     "output_type": "execute_result"
    }
   ],
   "source": [
    "x[(x > 10) & (x % 2 == 0)]"
   ]
  },
  {
   "cell_type": "code",
   "execution_count": 35,
   "id": "9f4f78d5-1bea-4b02-bebb-c9c694a32ee1",
   "metadata": {},
   "outputs": [],
   "source": [
    "# arange"
   ]
  },
  {
   "cell_type": "code",
   "execution_count": 38,
   "id": "a886f1fe-5d15-43cf-a0ca-8e3590f9440a",
   "metadata": {},
   "outputs": [],
   "source": [
    "# y = np.arange(strat, end, increment)\n",
    "\n",
    "y = np.arange(3, 20, 1)"
   ]
  },
  {
   "cell_type": "code",
   "execution_count": 39,
   "id": "dca7e298-ff94-4d59-9038-d79f3067f794",
   "metadata": {},
   "outputs": [
    {
     "data": {
      "text/plain": [
       "array([ 3,  4,  5,  6,  7,  8,  9, 10, 11, 12, 13, 14, 15, 16, 17, 18, 19])"
      ]
     },
     "execution_count": 39,
     "metadata": {},
     "output_type": "execute_result"
    }
   ],
   "source": [
    "y"
   ]
  },
  {
   "cell_type": "code",
   "execution_count": null,
   "id": "af11be7f-6736-454d-8740-b8efb48efc70",
   "metadata": {},
   "outputs": [],
   "source": [
    "3    5 "
   ]
  }
 ],
 "metadata": {
  "kernelspec": {
   "display_name": "Python 3 (ipykernel)",
   "language": "python",
   "name": "python3"
  },
  "language_info": {
   "codemirror_mode": {
    "name": "ipython",
    "version": 3
   },
   "file_extension": ".py",
   "mimetype": "text/x-python",
   "name": "python",
   "nbconvert_exporter": "python",
   "pygments_lexer": "ipython3",
   "version": "3.11.5"
  }
 },
 "nbformat": 4,
 "nbformat_minor": 5
}
