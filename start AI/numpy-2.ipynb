{
 "cells": [
  {
   "cell_type": "code",
   "execution_count": null,
   "id": "2588fadb-5b2c-4651-a4a8-a4b71d145e34",
   "metadata": {},
   "outputs": [],
   "source": [
    "# Numpy : "
   ]
  },
  {
   "cell_type": "code",
   "execution_count": null,
   "id": "b8ba0eff-86c7-4d0f-96b8-d6f188fbf8c3",
   "metadata": {},
   "outputs": [],
   "source": [
    "# ndarry\n",
    "# objects\n",
    "# indexing\n",
    "# 1d 2d, 3d\n",
    "# slicing"
   ]
  },
  {
   "cell_type": "code",
   "execution_count": 1,
   "id": "dc199bd6-7cd8-455d-8668-e96740123cd7",
   "metadata": {},
   "outputs": [],
   "source": [
    "import numpy as np"
   ]
  },
  {
   "cell_type": "code",
   "execution_count": 27,
   "id": "b4d60d0e-e101-4d72-bd46-ca369acc7f59",
   "metadata": {},
   "outputs": [],
   "source": [
    "x = np.array([[[1, 2, 3, 4], [5, 6, 7, 8]], [[9, 10, 11, 12], [13, 14, 15, 16]]])"
   ]
  },
  {
   "cell_type": "code",
   "execution_count": 28,
   "id": "723758e7-a0eb-4837-9a43-d7c72267bb0d",
   "metadata": {},
   "outputs": [
    {
     "data": {
      "text/plain": [
       "(2, 2, 4)"
      ]
     },
     "execution_count": 28,
     "metadata": {},
     "output_type": "execute_result"
    }
   ],
   "source": [
    "x.shape"
   ]
  },
  {
   "cell_type": "code",
   "execution_count": 29,
   "id": "9df69cb5-2a84-4844-91bf-335e1c1db1d4",
   "metadata": {},
   "outputs": [
    {
     "data": {
      "text/plain": [
       "array([[[ 1,  2,  3,  4],\n",
       "        [ 5,  6,  7,  8]],\n",
       "\n",
       "       [[ 9, 10, 11, 12],\n",
       "        [13, 14, 15, 16]]])"
      ]
     },
     "execution_count": 29,
     "metadata": {},
     "output_type": "execute_result"
    }
   ],
   "source": [
    "x"
   ]
  },
  {
   "cell_type": "code",
   "execution_count": 6,
   "id": "2123992c-9b0b-4b2e-8ccf-ffb4692f716a",
   "metadata": {},
   "outputs": [
    {
     "data": {
      "text/plain": [
       "3"
      ]
     },
     "execution_count": 6,
     "metadata": {},
     "output_type": "execute_result"
    }
   ],
   "source": [
    "x.ndim"
   ]
  },
  {
   "cell_type": "code",
   "execution_count": 10,
   "id": "1dc81ee1-4773-42df-a404-c6e7a92cc781",
   "metadata": {},
   "outputs": [
    {
     "data": {
      "text/plain": [
       "array([10, 11, 12])"
      ]
     },
     "execution_count": 10,
     "metadata": {},
     "output_type": "execute_result"
    }
   ],
   "source": [
    "x[1][0][1 : 4]"
   ]
  },
  {
   "cell_type": "code",
   "execution_count": null,
   "id": "42d4323a-8b83-4f0b-9c03-e6c3fdce0f6e",
   "metadata": {},
   "outputs": [],
   "source": []
  },
  {
   "cell_type": "code",
   "execution_count": 12,
   "id": "53beac36-5f4f-440d-8fd8-7240f3810ee6",
   "metadata": {},
   "outputs": [],
   "source": [
    "# sort()\n",
    "\n",
    "x = np.array([3, 4, 5, 2, 3, 6, 2, 4, 7, 3, 8, 12, 5, 6, 10])"
   ]
  },
  {
   "cell_type": "code",
   "execution_count": 13,
   "id": "1c0c78b4-d3c5-4e7c-980d-69122d06ef7c",
   "metadata": {},
   "outputs": [
    {
     "data": {
      "text/plain": [
       "array([ 3,  4,  5,  2,  3,  6,  2,  4,  7,  3,  8, 12,  5,  6, 10])"
      ]
     },
     "execution_count": 13,
     "metadata": {},
     "output_type": "execute_result"
    }
   ],
   "source": [
    "x"
   ]
  },
  {
   "cell_type": "code",
   "execution_count": 15,
   "id": "8eeefa59-ced0-4b9c-a49e-5ae81684116a",
   "metadata": {},
   "outputs": [],
   "source": [
    "y = np.sort(x)"
   ]
  },
  {
   "cell_type": "code",
   "execution_count": 16,
   "id": "159f4ce4-7202-47c1-99d8-e59575d2020c",
   "metadata": {},
   "outputs": [
    {
     "data": {
      "text/plain": [
       "array([12, 10,  8,  7,  6,  6,  5,  5,  4,  4,  3,  3,  3,  2,  2])"
      ]
     },
     "execution_count": 16,
     "metadata": {},
     "output_type": "execute_result"
    }
   ],
   "source": [
    "y[::-1]"
   ]
  },
  {
   "cell_type": "code",
   "execution_count": null,
   "id": "6aef67e7-60ff-46cc-a386-d2dc940ecb3a",
   "metadata": {},
   "outputs": [],
   "source": []
  },
  {
   "cell_type": "code",
   "execution_count": 19,
   "id": "32aaaba0-3873-42da-9670-0a945f40ca0b",
   "metadata": {},
   "outputs": [],
   "source": [
    "# where\n",
    "\n",
    "x = np.array([3, 4, 5, 2, 3, 8, 6, 2, 4, 7, 3, 8, 12, 5, 6, 8, 10])"
   ]
  },
  {
   "cell_type": "code",
   "execution_count": 20,
   "id": "06dccb5f-1e5e-4c01-9fdc-810cf1102120",
   "metadata": {},
   "outputs": [
    {
     "data": {
      "text/plain": [
       "(array([ 5, 11, 15], dtype=int64),)"
      ]
     },
     "execution_count": 20,
     "metadata": {},
     "output_type": "execute_result"
    }
   ],
   "source": [
    "np.where(x == 8)"
   ]
  },
  {
   "cell_type": "code",
   "execution_count": 21,
   "id": "7efa4b38-d6e4-47e4-9ef7-4e353e7c3a88",
   "metadata": {},
   "outputs": [],
   "source": [
    "# shape : return the shape of an ndarry\n",
    "\n",
    "x = np.array([3, 4, 5, 2, 3, 8, 6, 2, 4, 7, 3, 8, 12, 5, 6, 8, 10])"
   ]
  },
  {
   "cell_type": "code",
   "execution_count": 22,
   "id": "0932a6dc-d4ec-4c9c-8f42-33aa1aed350c",
   "metadata": {},
   "outputs": [
    {
     "data": {
      "text/plain": [
       "(17,)"
      ]
     },
     "execution_count": 22,
     "metadata": {},
     "output_type": "execute_result"
    }
   ],
   "source": [
    "x.shape"
   ]
  },
  {
   "cell_type": "code",
   "execution_count": 24,
   "id": "eef3a0c1-0cc3-4ee6-90d7-9f6f7d53a2d8",
   "metadata": {},
   "outputs": [],
   "source": [
    "y = np.array([[1, 2, 3, 4], [6, 7, 8, 9]])"
   ]
  },
  {
   "cell_type": "code",
   "execution_count": 25,
   "id": "e54de59c-c410-4bb5-9f70-19885ce2fc2b",
   "metadata": {},
   "outputs": [
    {
     "data": {
      "text/plain": [
       "(2, 4)"
      ]
     },
     "execution_count": 25,
     "metadata": {},
     "output_type": "execute_result"
    }
   ],
   "source": [
    "y.shape"
   ]
  },
  {
   "cell_type": "code",
   "execution_count": 26,
   "id": "941fe5fc-cb9f-44d0-afc1-5a82f4b3dbd9",
   "metadata": {},
   "outputs": [
    {
     "data": {
      "text/plain": [
       "array([[1, 2, 3, 4],\n",
       "       [6, 7, 8, 9]])"
      ]
     },
     "execution_count": 26,
     "metadata": {},
     "output_type": "execute_result"
    }
   ],
   "source": [
    "y"
   ]
  },
  {
   "cell_type": "code",
   "execution_count": null,
   "id": "bb6d6214-99d7-4933-b35a-b796fcd78fb8",
   "metadata": {},
   "outputs": [],
   "source": []
  },
  {
   "cell_type": "code",
   "execution_count": 36,
   "id": "4c5f8b1f-ad9c-4fac-ac59-af437eabdb42",
   "metadata": {},
   "outputs": [],
   "source": [
    "# reshape\n",
    "x = np.array([3, 4, 5, 2, 3, 8, 6, 2, 4, 7, 3, 8, 12, 5, 6, 8, 10, 18])"
   ]
  },
  {
   "cell_type": "code",
   "execution_count": 37,
   "id": "591e8e1a-cc54-4289-8d86-3e5f59ea9773",
   "metadata": {},
   "outputs": [
    {
     "data": {
      "text/plain": [
       "18"
      ]
     },
     "execution_count": 37,
     "metadata": {},
     "output_type": "execute_result"
    }
   ],
   "source": [
    "len(x)"
   ]
  },
  {
   "cell_type": "code",
   "execution_count": 47,
   "id": "b53305bc-a144-4f9c-a66d-78c9278d9e67",
   "metadata": {},
   "outputs": [],
   "source": [
    "z = x.reshape((3, 6))"
   ]
  },
  {
   "cell_type": "code",
   "execution_count": 48,
   "id": "5764a50b-9af0-416b-b02e-0f537eb26962",
   "metadata": {},
   "outputs": [
    {
     "data": {
      "text/plain": [
       "array([[ 3,  4,  5,  2,  3,  8],\n",
       "       [ 6,  2,  4,  7,  3,  8],\n",
       "       [12,  5,  6,  8, 10, 18]])"
      ]
     },
     "execution_count": 48,
     "metadata": {},
     "output_type": "execute_result"
    }
   ],
   "source": [
    "z"
   ]
  },
  {
   "cell_type": "code",
   "execution_count": 49,
   "id": "31718bbd-1267-4b99-9a20-ca00eabc59c1",
   "metadata": {},
   "outputs": [],
   "source": [
    "# concatenate"
   ]
  },
  {
   "cell_type": "code",
   "execution_count": 50,
   "id": "72af142a-1034-4eca-b68d-9fe000baafb1",
   "metadata": {},
   "outputs": [],
   "source": [
    "a = np.array([1, 2, 3, 4, 5])\n",
    "b = np.array([6, 7, 8, 9, 10])"
   ]
  },
  {
   "cell_type": "code",
   "execution_count": 56,
   "id": "6e0a25b9-de31-4aa7-ab1d-0d1e5392e2e7",
   "metadata": {},
   "outputs": [],
   "source": [
    "c = a + b"
   ]
  },
  {
   "cell_type": "code",
   "execution_count": 57,
   "id": "cb227013-e164-4e34-9873-5a7bd332ce64",
   "metadata": {},
   "outputs": [
    {
     "data": {
      "text/plain": [
       "array([ 7,  9, 11, 13, 15])"
      ]
     },
     "execution_count": 57,
     "metadata": {},
     "output_type": "execute_result"
    }
   ],
   "source": [
    "c"
   ]
  },
  {
   "cell_type": "code",
   "execution_count": 58,
   "id": "ee05cb49-1245-4c22-b847-0bc603dfac16",
   "metadata": {},
   "outputs": [],
   "source": [
    "zx = np.concatenate((a, b))"
   ]
  },
  {
   "cell_type": "code",
   "execution_count": 59,
   "id": "a2e7f571-ced6-4643-9557-df230243b209",
   "metadata": {},
   "outputs": [
    {
     "data": {
      "text/plain": [
       "array([ 1,  2,  3,  4,  5,  6,  7,  8,  9, 10])"
      ]
     },
     "execution_count": 59,
     "metadata": {},
     "output_type": "execute_result"
    }
   ],
   "source": [
    "zx"
   ]
  },
  {
   "cell_type": "code",
   "execution_count": 61,
   "id": "b2b09234-9d89-466e-8db7-4a72f48ea729",
   "metadata": {},
   "outputs": [],
   "source": [
    "k = np.vstack((a, b))"
   ]
  },
  {
   "cell_type": "code",
   "execution_count": 62,
   "id": "fbb0b75d-a5c2-4b1e-a284-3efaae944f40",
   "metadata": {},
   "outputs": [
    {
     "data": {
      "text/plain": [
       "array([[ 1,  2,  3,  4,  5],\n",
       "       [ 6,  7,  8,  9, 10]])"
      ]
     },
     "execution_count": 62,
     "metadata": {},
     "output_type": "execute_result"
    }
   ],
   "source": [
    "k"
   ]
  },
  {
   "cell_type": "code",
   "execution_count": null,
   "id": "49ba463e-dd02-4890-ba94-33d06b4c1de2",
   "metadata": {},
   "outputs": [],
   "source": [
    "# random \n"
   ]
  }
 ],
 "metadata": {
  "kernelspec": {
   "display_name": "Python 3 (ipykernel)",
   "language": "python",
   "name": "python3"
  },
  "language_info": {
   "codemirror_mode": {
    "name": "ipython",
    "version": 3
   },
   "file_extension": ".py",
   "mimetype": "text/x-python",
   "name": "python",
   "nbconvert_exporter": "python",
   "pygments_lexer": "ipython3",
   "version": "3.11.5"
  }
 },
 "nbformat": 4,
 "nbformat_minor": 5
}
