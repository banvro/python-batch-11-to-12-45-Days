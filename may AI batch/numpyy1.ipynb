{
 "cells": [
  {
   "cell_type": "code",
   "execution_count": null,
   "id": "68f40b06-22cc-41e2-9ed7-929d6a1c8176",
   "metadata": {},
   "outputs": [],
   "source": [
    "Numpy : numarical python\n",
    "\n",
    "Array's      list"
   ]
  },
  {
   "cell_type": "code",
   "execution_count": null,
   "id": "71f93194-9ddb-4467-9950-b812f3d3a735",
   "metadata": {},
   "outputs": [],
   "source": [
    "list ---> slow..\n",
    "    python, \n",
    "    hitrogenious type of data.....\n",
    "\n",
    "lst = [10, 20, \"hlo\", \"car\", True]\n",
    "\n"
   ]
  },
  {
   "cell_type": "code",
   "execution_count": 1,
   "id": "9f799499-c26a-4901-8b7b-1b850ba3f930",
   "metadata": {},
   "outputs": [],
   "source": [
    "# arrays -> is a data structur, which hold the homogenious type data, in the congeious mamory location."
   ]
  },
  {
   "cell_type": "code",
   "execution_count": null,
   "id": "5d70023e-c8b3-45e0-ac1f-6844ccdcfcb4",
   "metadata": {},
   "outputs": [],
   "source": [
    "arrays:\n",
    "\n",
    "numpy : 2005\n",
    "     Travis Oliphant   \n",
    "\n",
    "2) 70% => python\n",
    "    30% => C / C#\n",
    "\n",
    "numpy 50x as compere to list.."
   ]
  },
  {
   "cell_type": "code",
   "execution_count": null,
   "id": "4e5acfa5-295f-4e6d-99a3-9ebaed00b9d9",
   "metadata": {},
   "outputs": [],
   "source": []
  },
  {
   "cell_type": "code",
   "execution_count": 2,
   "id": "42f77078-384b-4e82-8811-cf15b0871b25",
   "metadata": {},
   "outputs": [
    {
     "name": "stdout",
     "output_type": "stream",
     "text": [
      "Requirement already satisfied: numpy in c:\\users\\17nru\\appdata\\local\\programs\\python\\python312\\lib\\site-packages (1.26.4)\n"
     ]
    },
    {
     "name": "stderr",
     "output_type": "stream",
     "text": [
      "DEPRECATION: textract 1.6.5 has a non-standard dependency specifier extract-msg<=0.29.*. pip 24.1 will enforce this behaviour change. A possible replacement is to upgrade to a newer version of textract or contact the author to suggest that they release a version with a conforming dependency specifiers. Discussion can be found at https://github.com/pypa/pip/issues/12063\n"
     ]
    }
   ],
   "source": [
    "!pip install numpy"
   ]
  },
  {
   "cell_type": "code",
   "execution_count": null,
   "id": "c20dd240-b1f7-4e20-9403-d83f48aed430",
   "metadata": {},
   "outputs": [],
   "source": []
  },
  {
   "cell_type": "code",
   "execution_count": 3,
   "id": "b67f014b-7593-4cb9-874b-c55e3c4756e7",
   "metadata": {},
   "outputs": [],
   "source": [
    "import numpy as np"
   ]
  },
  {
   "cell_type": "code",
   "execution_count": null,
   "id": "43e17980-714e-4c20-a6e7-46316ccb2213",
   "metadata": {},
   "outputs": [],
   "source": []
  },
  {
   "cell_type": "code",
   "execution_count": null,
   "id": "d282d40f-9524-4382-bbad-f136e6447ab8",
   "metadata": {},
   "outputs": [],
   "source": [
    "# numpy ------------> ndarrays"
   ]
  },
  {
   "cell_type": "markdown",
   "id": "4badca90-43c2-4165-bccd-3ae20411bfa3",
   "metadata": {},
   "source": [
    "## Ndarrays"
   ]
  },
  {
   "cell_type": "code",
   "execution_count": null,
   "id": "417fb4ea-4bc8-4f74-bed3-0f20c8346eef",
   "metadata": {},
   "outputs": [],
   "source": [
    "n-dimestional arrays....\n",
    "\n",
    "in numpy, when we create an object with the help of array method, that object is called ndarray."
   ]
  },
  {
   "cell_type": "code",
   "execution_count": null,
   "id": "02322885-8165-4e7b-a539-297402e25986",
   "metadata": {},
   "outputs": [],
   "source": []
  },
  {
   "cell_type": "code",
   "execution_count": 4,
   "id": "0a346356-0e57-4a92-9759-26126602d814",
   "metadata": {},
   "outputs": [],
   "source": [
    "arr = np.array(10)"
   ]
  },
  {
   "cell_type": "code",
   "execution_count": 5,
   "id": "2f4a3197-1d51-4cf7-bd26-c2f7f80bf494",
   "metadata": {},
   "outputs": [
    {
     "data": {
      "text/plain": [
       "array(10)"
      ]
     },
     "execution_count": 5,
     "metadata": {},
     "output_type": "execute_result"
    }
   ],
   "source": [
    "arr"
   ]
  },
  {
   "cell_type": "code",
   "execution_count": 6,
   "id": "6aea39e0-bc82-4c9d-9ad4-b3f9050b37ed",
   "metadata": {},
   "outputs": [
    {
     "data": {
      "text/plain": [
       "numpy.ndarray"
      ]
     },
     "execution_count": 6,
     "metadata": {},
     "output_type": "execute_result"
    }
   ],
   "source": [
    "type(arr)"
   ]
  },
  {
   "cell_type": "code",
   "execution_count": null,
   "id": "2e1f3de1-4861-4c41-a2f2-3885dc220bcf",
   "metadata": {},
   "outputs": [],
   "source": []
  },
  {
   "cell_type": "code",
   "execution_count": null,
   "id": "0440a341-fa78-416c-8314-3af7fe74422f",
   "metadata": {},
   "outputs": [],
   "source": [
    "arrays : \n",
    "    0 - D\n",
    "    1 - D\n",
    "\n",
    "\n",
    "\n",
    "    n - D"
   ]
  },
  {
   "cell_type": "code",
   "execution_count": null,
   "id": "ccdf2c78-56bc-4843-9f32-0f9c0be869f2",
   "metadata": {},
   "outputs": [],
   "source": []
  },
  {
   "cell_type": "code",
   "execution_count": 7,
   "id": "80cd0617-a4ec-43ba-a4d8-8cb909ef5a50",
   "metadata": {},
   "outputs": [],
   "source": [
    "# ndim"
   ]
  },
  {
   "cell_type": "code",
   "execution_count": 8,
   "id": "ddf85db1-bab2-40e4-880b-07e1b12df54d",
   "metadata": {},
   "outputs": [
    {
     "data": {
      "text/plain": [
       "0"
      ]
     },
     "execution_count": 8,
     "metadata": {},
     "output_type": "execute_result"
    }
   ],
   "source": [
    "arr.ndim"
   ]
  },
  {
   "cell_type": "code",
   "execution_count": null,
   "id": "de4b0bb7-fb3e-4137-b20b-749dabfd4f02",
   "metadata": {},
   "outputs": [],
   "source": []
  },
  {
   "cell_type": "code",
   "execution_count": 9,
   "id": "8c62a8c1-42e7-415b-9419-7969e7fe401b",
   "metadata": {},
   "outputs": [],
   "source": [
    "# 1 - D Ndarray"
   ]
  },
  {
   "cell_type": "code",
   "execution_count": null,
   "id": "80c3a19d-89d6-481c-86e2-0f7e6a7f1d74",
   "metadata": {},
   "outputs": [],
   "source": []
  },
  {
   "cell_type": "code",
   "execution_count": 10,
   "id": "aa490509-07a0-4b93-92f9-7bae13368964",
   "metadata": {},
   "outputs": [],
   "source": [
    "arr1 = np.array([12, 34, 45, 67, 78])"
   ]
  },
  {
   "cell_type": "code",
   "execution_count": 11,
   "id": "d7fca7b1-c8f0-4803-97c2-23290dbe8647",
   "metadata": {},
   "outputs": [
    {
     "data": {
      "text/plain": [
       "numpy.ndarray"
      ]
     },
     "execution_count": 11,
     "metadata": {},
     "output_type": "execute_result"
    }
   ],
   "source": [
    "type(arr1)"
   ]
  },
  {
   "cell_type": "code",
   "execution_count": 12,
   "id": "a76d9681-b130-42ef-8624-a3e81e077883",
   "metadata": {},
   "outputs": [
    {
     "data": {
      "text/plain": [
       "array([12, 34, 45, 67, 78])"
      ]
     },
     "execution_count": 12,
     "metadata": {},
     "output_type": "execute_result"
    }
   ],
   "source": [
    "arr1"
   ]
  },
  {
   "cell_type": "code",
   "execution_count": 13,
   "id": "adf76f10-0b02-4715-a1e6-d65f99d6cd73",
   "metadata": {},
   "outputs": [
    {
     "data": {
      "text/plain": [
       "1"
      ]
     },
     "execution_count": 13,
     "metadata": {},
     "output_type": "execute_result"
    }
   ],
   "source": [
    "arr1.ndim"
   ]
  },
  {
   "cell_type": "code",
   "execution_count": null,
   "id": "1110ef50-27c9-46e9-ab65-a60a54053f57",
   "metadata": {},
   "outputs": [],
   "source": []
  },
  {
   "cell_type": "code",
   "execution_count": 20,
   "id": "7f42a527-d3e8-4d99-afe0-c9b6aa513c05",
   "metadata": {},
   "outputs": [],
   "source": [
    "xyz = np.array([[12, 34, 45, 66], [45, 56, 67, 89], [45, 67, 78, 89]])"
   ]
  },
  {
   "cell_type": "code",
   "execution_count": 21,
   "id": "8bd47de1-2f7d-405a-99bf-4949d9ff39db",
   "metadata": {},
   "outputs": [
    {
     "data": {
      "text/plain": [
       "array([[12, 34, 45, 66],\n",
       "       [45, 56, 67, 89],\n",
       "       [45, 67, 78, 89]])"
      ]
     },
     "execution_count": 21,
     "metadata": {},
     "output_type": "execute_result"
    }
   ],
   "source": [
    "xyz"
   ]
  },
  {
   "cell_type": "code",
   "execution_count": 22,
   "id": "cd6b8c75-2e8f-400a-bd24-fd5b9d9bc245",
   "metadata": {},
   "outputs": [
    {
     "data": {
      "text/plain": [
       "2"
      ]
     },
     "execution_count": 22,
     "metadata": {},
     "output_type": "execute_result"
    }
   ],
   "source": [
    "xyz.ndim"
   ]
  },
  {
   "cell_type": "code",
   "execution_count": null,
   "id": "0acfd113-481d-43df-80e9-6763c302260d",
   "metadata": {},
   "outputs": [],
   "source": []
  },
  {
   "cell_type": "code",
   "execution_count": null,
   "id": "568efc59-cb6e-47f4-829c-9518febbd319",
   "metadata": {},
   "outputs": [],
   "source": []
  },
  {
   "cell_type": "code",
   "execution_count": 29,
   "id": "6a51ff09-6049-409e-9d33-87750f5aeb92",
   "metadata": {},
   "outputs": [],
   "source": [
    "abc = np.array([[[12, 34, 56], [45, 56, 67]], [[34, 56, 67], [56, 67, 87]]])"
   ]
  },
  {
   "cell_type": "code",
   "execution_count": 30,
   "id": "b7563652-3455-4166-a93b-11a0020a94e3",
   "metadata": {},
   "outputs": [
    {
     "data": {
      "text/plain": [
       "array([[[12, 34, 56],\n",
       "        [45, 56, 67]],\n",
       "\n",
       "       [[34, 56, 67],\n",
       "        [56, 67, 87]]])"
      ]
     },
     "execution_count": 30,
     "metadata": {},
     "output_type": "execute_result"
    }
   ],
   "source": [
    "abc"
   ]
  },
  {
   "cell_type": "code",
   "execution_count": 31,
   "id": "996e83e2-2893-4ff7-bda6-a39ef518c8ee",
   "metadata": {},
   "outputs": [
    {
     "data": {
      "text/plain": [
       "3"
      ]
     },
     "execution_count": 31,
     "metadata": {},
     "output_type": "execute_result"
    }
   ],
   "source": [
    "abc.ndim"
   ]
  },
  {
   "cell_type": "code",
   "execution_count": null,
   "id": "2cd68844-b5a6-4592-b0f7-bbdcefca25c0",
   "metadata": {},
   "outputs": [],
   "source": []
  },
  {
   "cell_type": "code",
   "execution_count": 32,
   "id": "f3f80e50-bcca-4d0a-9114-c90963475676",
   "metadata": {},
   "outputs": [],
   "source": [
    "xyz = np.array([[[[[[[[[[12]]]]]]]]]])"
   ]
  },
  {
   "cell_type": "code",
   "execution_count": 33,
   "id": "3bc82daa-dd2f-43b9-ac6c-f9f907548e8d",
   "metadata": {},
   "outputs": [
    {
     "data": {
      "text/plain": [
       "10"
      ]
     },
     "execution_count": 33,
     "metadata": {},
     "output_type": "execute_result"
    }
   ],
   "source": [
    "xyz.ndim"
   ]
  },
  {
   "cell_type": "code",
   "execution_count": null,
   "id": "e6c3fc54-cfac-4d87-9013-5fcd070d7176",
   "metadata": {},
   "outputs": [],
   "source": []
  },
  {
   "cell_type": "code",
   "execution_count": null,
   "id": "ac0111c1-254a-435c-a60b-55a5955a5552",
   "metadata": {},
   "outputs": [],
   "source": []
  },
  {
   "cell_type": "code",
   "execution_count": 34,
   "id": "2fa83383-960d-4d1a-be47-7ae98aa67afc",
   "metadata": {},
   "outputs": [],
   "source": [
    "# shape : return ...."
   ]
  },
  {
   "cell_type": "code",
   "execution_count": null,
   "id": "0ef9138c-d28f-45b6-8e0e-e7700dd6cd17",
   "metadata": {},
   "outputs": [],
   "source": []
  },
  {
   "cell_type": "code",
   "execution_count": 35,
   "id": "a0ae7b1e-0191-47ee-80d5-8c205a3d3ea3",
   "metadata": {},
   "outputs": [],
   "source": [
    "a = np.array([34, 545, 67, 78, 23])"
   ]
  },
  {
   "cell_type": "code",
   "execution_count": 36,
   "id": "db7cad1d-d3f2-498a-8f78-404048f1e15b",
   "metadata": {},
   "outputs": [
    {
     "data": {
      "text/plain": [
       "array([ 34, 545,  67,  78,  23])"
      ]
     },
     "execution_count": 36,
     "metadata": {},
     "output_type": "execute_result"
    }
   ],
   "source": [
    "a"
   ]
  },
  {
   "cell_type": "code",
   "execution_count": 37,
   "id": "02e96060-0122-4ec2-aa57-6a62287b8cf3",
   "metadata": {},
   "outputs": [
    {
     "data": {
      "text/plain": [
       "(5,)"
      ]
     },
     "execution_count": 37,
     "metadata": {},
     "output_type": "execute_result"
    }
   ],
   "source": [
    "a.shape"
   ]
  },
  {
   "cell_type": "code",
   "execution_count": null,
   "id": "87b902ff-833c-4173-83b4-328ae2ff78c5",
   "metadata": {},
   "outputs": [],
   "source": []
  },
  {
   "cell_type": "code",
   "execution_count": 42,
   "id": "044236ac-858b-41dd-995d-bea77ecef553",
   "metadata": {},
   "outputs": [],
   "source": [
    "xyz = np.array([[34, 45, 5, 45, 34], [45, 56, 67, 78, 45]])"
   ]
  },
  {
   "cell_type": "code",
   "execution_count": 43,
   "id": "5ace4611-6ab4-46aa-b320-8ad02aca947e",
   "metadata": {},
   "outputs": [
    {
     "data": {
      "text/plain": [
       "array([[34, 45,  5, 45, 34],\n",
       "       [45, 56, 67, 78, 45]])"
      ]
     },
     "execution_count": 43,
     "metadata": {},
     "output_type": "execute_result"
    }
   ],
   "source": [
    "xyz"
   ]
  },
  {
   "cell_type": "code",
   "execution_count": 44,
   "id": "16d547b6-5f0b-4644-b962-3b29e5ddafce",
   "metadata": {},
   "outputs": [
    {
     "data": {
      "text/plain": [
       "(2, 5)"
      ]
     },
     "execution_count": 44,
     "metadata": {},
     "output_type": "execute_result"
    }
   ],
   "source": [
    "xyz.shape"
   ]
  },
  {
   "cell_type": "code",
   "execution_count": null,
   "id": "c84a76fd-fb73-4710-9597-c258edd52314",
   "metadata": {},
   "outputs": [],
   "source": []
  },
  {
   "cell_type": "code",
   "execution_count": null,
   "id": "15c7f156-e92a-4ab0-914d-81b132583092",
   "metadata": {},
   "outputs": [],
   "source": []
  },
  {
   "cell_type": "code",
   "execution_count": 45,
   "id": "26514212-e78f-4a94-8b82-b8bbf1880b3a",
   "metadata": {},
   "outputs": [],
   "source": [
    "abc = np.array([[[12, 34, 56], [45, 56, 67]], [[34, 56, 67], [56, 67, 87]]])"
   ]
  },
  {
   "cell_type": "code",
   "execution_count": 46,
   "id": "7912eb9f-7e0e-4795-be24-d4812ff88251",
   "metadata": {},
   "outputs": [
    {
     "data": {
      "text/plain": [
       "(2, 2, 3)"
      ]
     },
     "execution_count": 46,
     "metadata": {},
     "output_type": "execute_result"
    }
   ],
   "source": [
    "abc.shape"
   ]
  },
  {
   "cell_type": "code",
   "execution_count": null,
   "id": "deb92d37-6761-4118-95f4-d516b9fc941c",
   "metadata": {},
   "outputs": [],
   "source": []
  },
  {
   "cell_type": "code",
   "execution_count": null,
   "id": "2c1de11f-3103-4a3e-ae21-4ea31a558b5b",
   "metadata": {},
   "outputs": [],
   "source": [
    "numpy\n",
    "ndarray\n",
    "careate ndarray\n",
    "    1-d\n",
    "    2-d\n",
    "    3-d\n",
    "ndim\n",
    "shape"
   ]
  }
 ],
 "metadata": {
  "kernelspec": {
   "display_name": "Python 3 (ipykernel)",
   "language": "python",
   "name": "python3"
  },
  "language_info": {
   "codemirror_mode": {
    "name": "ipython",
    "version": 3
   },
   "file_extension": ".py",
   "mimetype": "text/x-python",
   "name": "python",
   "nbconvert_exporter": "python",
   "pygments_lexer": "ipython3",
   "version": "3.12.3"
  }
 },
 "nbformat": 4,
 "nbformat_minor": 5
}
