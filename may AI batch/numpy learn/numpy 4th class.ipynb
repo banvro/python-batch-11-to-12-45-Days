{
 "cells": [
  {
   "cell_type": "code",
   "execution_count": null,
   "id": "8b84f674-b250-4bf7-8650-b33339d419a5",
   "metadata": {},
   "outputs": [],
   "source": [
    "Numpy : "
   ]
  },
  {
   "cell_type": "code",
   "execution_count": null,
   "id": "c2cbbc70-026a-425d-9517-47510deb33a8",
   "metadata": {},
   "outputs": [],
   "source": [
    "ndarray : \n",
    "ndim\n",
    "shape\n",
    "where()\n",
    "sort()\n",
    "indxing\n",
    "slicing\n",
    "append()\n",
    "insert()\n",
    "delete()\n",
    "creating ndarray:::\n",
    "    1-D ----- 4-D\n",
    "zeros\n",
    "ones\n",
    "\n",
    "# np. "
   ]
  },
  {
   "cell_type": "code",
   "execution_count": null,
   "id": "79bdf696-6c26-4bb8-80ea-a4ba5d050318",
   "metadata": {},
   "outputs": [],
   "source": []
  },
  {
   "cell_type": "code",
   "execution_count": null,
   "id": "509a4298-0b79-4cb3-9194-f7f66f87e624",
   "metadata": {},
   "outputs": [],
   "source": [
    "# reshape()"
   ]
  },
  {
   "cell_type": "raw",
   "id": "4de3cfbe-1150-4916-943b-12e788036686",
   "metadata": {},
   "source": []
  },
  {
   "cell_type": "code",
   "execution_count": 8,
   "id": "ceaa2d14-89bc-4561-bc44-b6b8c7285379",
   "metadata": {},
   "outputs": [],
   "source": [
    "import numpy as np\n",
    "\n",
    "xyz = np.array([12, 34, 5, 67, 87, 90, 45, 34, 23, 5, 23, 45, 3, 34])"
   ]
  },
  {
   "cell_type": "code",
   "execution_count": 9,
   "id": "55e5a5ec-b854-4a1d-b4b7-fff0c4e21be3",
   "metadata": {},
   "outputs": [
    {
     "data": {
      "text/plain": [
       "(14,)"
      ]
     },
     "execution_count": 9,
     "metadata": {},
     "output_type": "execute_result"
    }
   ],
   "source": [
    "xyz.shape"
   ]
  },
  {
   "cell_type": "code",
   "execution_count": 10,
   "id": "fee0f46d-9150-40b4-8c15-adef89fb40cd",
   "metadata": {},
   "outputs": [
    {
     "data": {
      "text/plain": [
       "1"
      ]
     },
     "execution_count": 10,
     "metadata": {},
     "output_type": "execute_result"
    }
   ],
   "source": [
    "xyz.ndim"
   ]
  },
  {
   "cell_type": "code",
   "execution_count": 11,
   "id": "3ef99ecc-681a-477b-8eac-52afdf9b0771",
   "metadata": {},
   "outputs": [
    {
     "data": {
      "text/plain": [
       "array([12, 34,  5, 67, 87, 90, 45, 34, 23,  5, 23, 45,  3, 34])"
      ]
     },
     "execution_count": 11,
     "metadata": {},
     "output_type": "execute_result"
    }
   ],
   "source": [
    "xyz"
   ]
  },
  {
   "cell_type": "code",
   "execution_count": 12,
   "id": "b238ed42-eee7-45b1-8ed0-6836f5f905e4",
   "metadata": {},
   "outputs": [
    {
     "data": {
      "text/plain": [
       "14"
      ]
     },
     "execution_count": 12,
     "metadata": {},
     "output_type": "execute_result"
    }
   ],
   "source": [
    "len(xyz)"
   ]
  },
  {
   "cell_type": "markdown",
   "id": "345a99d5-af73-4abf-8092-eea77f9c3746",
   "metadata": {},
   "source": [
    "### convert 1-D to 2-D"
   ]
  },
  {
   "cell_type": "code",
   "execution_count": 14,
   "id": "d9a641f5-ab9c-4b86-91b5-7d745c3f9cdd",
   "metadata": {},
   "outputs": [],
   "source": [
    "qw = xyz.reshape(2, 7)"
   ]
  },
  {
   "cell_type": "code",
   "execution_count": 15,
   "id": "dd7e8eb7-1016-4b26-aed2-ca6f8ac9457e",
   "metadata": {},
   "outputs": [
    {
     "data": {
      "text/plain": [
       "array([[12, 34,  5, 67, 87, 90, 45],\n",
       "       [34, 23,  5, 23, 45,  3, 34]])"
      ]
     },
     "execution_count": 15,
     "metadata": {},
     "output_type": "execute_result"
    }
   ],
   "source": [
    "qw"
   ]
  },
  {
   "cell_type": "code",
   "execution_count": 16,
   "id": "13a1ca2c-3016-4c4e-a36c-0f17b0ccc2d5",
   "metadata": {},
   "outputs": [
    {
     "data": {
      "text/plain": [
       "2"
      ]
     },
     "execution_count": 16,
     "metadata": {},
     "output_type": "execute_result"
    }
   ],
   "source": [
    "qw.ndim"
   ]
  },
  {
   "cell_type": "code",
   "execution_count": 17,
   "id": "8c20c1a0-99e3-4699-8cdf-5064667ba1f8",
   "metadata": {},
   "outputs": [
    {
     "data": {
      "text/plain": [
       "array([[12, 34],\n",
       "       [ 5, 67],\n",
       "       [87, 90],\n",
       "       [45, 34],\n",
       "       [23,  5],\n",
       "       [23, 45],\n",
       "       [ 3, 34]])"
      ]
     },
     "execution_count": 17,
     "metadata": {},
     "output_type": "execute_result"
    }
   ],
   "source": [
    "xyz.reshape(7, 2)"
   ]
  },
  {
   "cell_type": "code",
   "execution_count": null,
   "id": "24ff8b21-de48-49e5-af3a-f8aee3d32e17",
   "metadata": {},
   "outputs": [],
   "source": []
  },
  {
   "cell_type": "code",
   "execution_count": 19,
   "id": "cc82784d-6e10-4911-8d76-3311d7d19e4f",
   "metadata": {},
   "outputs": [
    {
     "data": {
      "text/plain": [
       "array([[12],\n",
       "       [34],\n",
       "       [ 5],\n",
       "       [67],\n",
       "       [87],\n",
       "       [90],\n",
       "       [45],\n",
       "       [34],\n",
       "       [23],\n",
       "       [ 5],\n",
       "       [23],\n",
       "       [45],\n",
       "       [ 3],\n",
       "       [34]])"
      ]
     },
     "execution_count": 19,
     "metadata": {},
     "output_type": "execute_result"
    }
   ],
   "source": [
    "xyz.reshape(14, 1)"
   ]
  },
  {
   "cell_type": "code",
   "execution_count": null,
   "id": "74cb07a8-893c-458d-a598-0fe4c4d56f47",
   "metadata": {},
   "outputs": [],
   "source": []
  },
  {
   "cell_type": "code",
   "execution_count": null,
   "id": "1fd4bbcb-6907-4951-a027-22cd7f8b6c5d",
   "metadata": {},
   "outputs": [],
   "source": []
  },
  {
   "cell_type": "code",
   "execution_count": 20,
   "id": "8487032d-7000-4cde-a343-2c97fce2c4e1",
   "metadata": {},
   "outputs": [],
   "source": [
    "xy = np.arange(1, 21)"
   ]
  },
  {
   "cell_type": "code",
   "execution_count": 21,
   "id": "d978e6d2-56d8-4f47-9c2b-6b41c1a2c443",
   "metadata": {},
   "outputs": [
    {
     "data": {
      "text/plain": [
       "array([ 1,  2,  3,  4,  5,  6,  7,  8,  9, 10, 11, 12, 13, 14, 15, 16, 17,\n",
       "       18, 19, 20])"
      ]
     },
     "execution_count": 21,
     "metadata": {},
     "output_type": "execute_result"
    }
   ],
   "source": [
    "xy"
   ]
  },
  {
   "cell_type": "code",
   "execution_count": null,
   "id": "db95608c-6e94-4eab-9729-a51cae52cd8c",
   "metadata": {},
   "outputs": [],
   "source": []
  },
  {
   "cell_type": "code",
   "execution_count": 23,
   "id": "d8d0b1b4-6bc5-46a1-af69-1fdb3e2dcce1",
   "metadata": {},
   "outputs": [
    {
     "data": {
      "text/plain": [
       "array([[ 1,  2,  3,  4],\n",
       "       [ 5,  6,  7,  8],\n",
       "       [ 9, 10, 11, 12],\n",
       "       [13, 14, 15, 16],\n",
       "       [17, 18, 19, 20]])"
      ]
     },
     "execution_count": 23,
     "metadata": {},
     "output_type": "execute_result"
    }
   ],
   "source": [
    "xy.reshape(5, 4)"
   ]
  },
  {
   "cell_type": "code",
   "execution_count": 24,
   "id": "a3e7911b-bd73-4ac3-a6bd-f179a3a977bd",
   "metadata": {},
   "outputs": [],
   "source": [
    "# np.reshape(objectname, respae)"
   ]
  },
  {
   "cell_type": "code",
   "execution_count": 26,
   "id": "f212fd28-7c1a-43da-b70d-623f57220154",
   "metadata": {},
   "outputs": [
    {
     "data": {
      "text/plain": [
       "array([[ 1,  2,  3,  4,  5,  6,  7,  8,  9, 10],\n",
       "       [11, 12, 13, 14, 15, 16, 17, 18, 19, 20]])"
      ]
     },
     "execution_count": 26,
     "metadata": {},
     "output_type": "execute_result"
    }
   ],
   "source": [
    "np.reshape(xy, (2, 10))"
   ]
  },
  {
   "cell_type": "code",
   "execution_count": null,
   "id": "2dba29b1-488f-47a0-a637-b54cdf34f87b",
   "metadata": {},
   "outputs": [],
   "source": []
  },
  {
   "cell_type": "code",
   "execution_count": 27,
   "id": "c055ef57-0c32-4c88-9e7b-b79cabb362d1",
   "metadata": {},
   "outputs": [],
   "source": [
    "# -1 -> "
   ]
  },
  {
   "cell_type": "code",
   "execution_count": 28,
   "id": "bc938490-3262-43ae-bcc3-bcc445692870",
   "metadata": {},
   "outputs": [
    {
     "data": {
      "text/plain": [
       "array([ 1,  2,  3,  4,  5,  6,  7,  8,  9, 10, 11, 12, 13, 14, 15, 16, 17,\n",
       "       18, 19, 20])"
      ]
     },
     "execution_count": 28,
     "metadata": {},
     "output_type": "execute_result"
    }
   ],
   "source": [
    "xy"
   ]
  },
  {
   "cell_type": "code",
   "execution_count": 29,
   "id": "52f99f31-c7bb-4eb2-b776-d847266ea960",
   "metadata": {},
   "outputs": [
    {
     "data": {
      "text/plain": [
       "array([[ 1,  2,  3,  4],\n",
       "       [ 5,  6,  7,  8],\n",
       "       [ 9, 10, 11, 12],\n",
       "       [13, 14, 15, 16],\n",
       "       [17, 18, 19, 20]])"
      ]
     },
     "execution_count": 29,
     "metadata": {},
     "output_type": "execute_result"
    }
   ],
   "source": [
    "xy.reshape(5, -1)"
   ]
  },
  {
   "cell_type": "code",
   "execution_count": null,
   "id": "5ed82cbe-0a77-41ed-804a-f409478b0ec2",
   "metadata": {},
   "outputs": [],
   "source": []
  },
  {
   "cell_type": "code",
   "execution_count": 30,
   "id": "1fbfb80f-6497-44f9-9702-da77bdf927e7",
   "metadata": {},
   "outputs": [
    {
     "data": {
      "text/plain": [
       "array([[ 1,  2],\n",
       "       [ 3,  4],\n",
       "       [ 5,  6],\n",
       "       [ 7,  8],\n",
       "       [ 9, 10],\n",
       "       [11, 12],\n",
       "       [13, 14],\n",
       "       [15, 16],\n",
       "       [17, 18],\n",
       "       [19, 20]])"
      ]
     },
     "execution_count": 30,
     "metadata": {},
     "output_type": "execute_result"
    }
   ],
   "source": [
    "xy.reshape(-1, 2)"
   ]
  },
  {
   "cell_type": "code",
   "execution_count": null,
   "id": "576f5c6b-32e8-456b-b152-d06e14124cd5",
   "metadata": {},
   "outputs": [],
   "source": []
  },
  {
   "cell_type": "markdown",
   "id": "8ca316f4-bb44-46e3-8fc1-95d59bda1c0a",
   "metadata": {},
   "source": [
    "### 2D to 1D"
   ]
  },
  {
   "cell_type": "code",
   "execution_count": 31,
   "id": "9fedfd39-dacd-4b90-82b8-7efd1fa74135",
   "metadata": {},
   "outputs": [],
   "source": [
    "zx = np.array([[34, 23, 45, 23], [45, 56, 34, 23]])"
   ]
  },
  {
   "cell_type": "code",
   "execution_count": 33,
   "id": "9afb022a-e01c-4ccd-ac6a-5f9ac4450115",
   "metadata": {},
   "outputs": [
    {
     "data": {
      "text/plain": [
       "array([[34, 23, 45, 23],\n",
       "       [45, 56, 34, 23]])"
      ]
     },
     "execution_count": 33,
     "metadata": {},
     "output_type": "execute_result"
    }
   ],
   "source": [
    "zx"
   ]
  },
  {
   "cell_type": "code",
   "execution_count": 34,
   "id": "2ea977f7-c5f6-432b-b8ab-2194c305eef2",
   "metadata": {},
   "outputs": [
    {
     "data": {
      "text/plain": [
       "(2, 4)"
      ]
     },
     "execution_count": 34,
     "metadata": {},
     "output_type": "execute_result"
    }
   ],
   "source": [
    "zx.shape"
   ]
  },
  {
   "cell_type": "code",
   "execution_count": 35,
   "id": "ecd34d47-375b-4b97-8d87-60fea1a85b94",
   "metadata": {},
   "outputs": [
    {
     "data": {
      "text/plain": [
       "2"
      ]
     },
     "execution_count": 35,
     "metadata": {},
     "output_type": "execute_result"
    }
   ],
   "source": [
    "zx.ndim"
   ]
  },
  {
   "cell_type": "code",
   "execution_count": null,
   "id": "ec21b523-abbb-4b76-a3b6-5a7e9b1d7681",
   "metadata": {},
   "outputs": [],
   "source": []
  },
  {
   "cell_type": "code",
   "execution_count": 37,
   "id": "ce8eed4f-4579-43e6-97c0-f6e87e41e638",
   "metadata": {},
   "outputs": [
    {
     "data": {
      "text/plain": [
       "array([34, 23, 45, 23, 45, 56, 34, 23])"
      ]
     },
     "execution_count": 37,
     "metadata": {},
     "output_type": "execute_result"
    }
   ],
   "source": [
    "zx.reshape(-1)"
   ]
  },
  {
   "cell_type": "code",
   "execution_count": null,
   "id": "1e976a6c-88e2-4e44-a1cd-86d9d185efb2",
   "metadata": {},
   "outputs": [],
   "source": []
  },
  {
   "cell_type": "code",
   "execution_count": 38,
   "id": "c28db98f-4e1a-422f-9dcf-6a319ecb925e",
   "metadata": {},
   "outputs": [],
   "source": [
    "# 1-D to 3-D"
   ]
  },
  {
   "cell_type": "code",
   "execution_count": 41,
   "id": "55a8e571-99a2-452b-bfc2-04a133ca77c0",
   "metadata": {},
   "outputs": [],
   "source": [
    "zx = np.arange(1, 19)"
   ]
  },
  {
   "cell_type": "code",
   "execution_count": 42,
   "id": "e4e53bda-fc22-4925-a7b0-d9d3ca334573",
   "metadata": {},
   "outputs": [
    {
     "data": {
      "text/plain": [
       "array([ 1,  2,  3,  4,  5,  6,  7,  8,  9, 10, 11, 12, 13, 14, 15, 16, 17,\n",
       "       18])"
      ]
     },
     "execution_count": 42,
     "metadata": {},
     "output_type": "execute_result"
    }
   ],
   "source": [
    "zx"
   ]
  },
  {
   "cell_type": "code",
   "execution_count": null,
   "id": "a1939608-6da4-4b69-ac4f-d888a5fe7c36",
   "metadata": {},
   "outputs": [],
   "source": []
  },
  {
   "cell_type": "code",
   "execution_count": 44,
   "id": "6ecefac1-d0d0-4e80-9b5d-b28d4df5b657",
   "metadata": {},
   "outputs": [
    {
     "data": {
      "text/plain": [
       "array([[[ 1,  2],\n",
       "        [ 3,  4],\n",
       "        [ 5,  6]],\n",
       "\n",
       "       [[ 7,  8],\n",
       "        [ 9, 10],\n",
       "        [11, 12]],\n",
       "\n",
       "       [[13, 14],\n",
       "        [15, 16],\n",
       "        [17, 18]]])"
      ]
     },
     "execution_count": 44,
     "metadata": {},
     "output_type": "execute_result"
    }
   ],
   "source": [
    "zx.reshape(3, 3, 2)"
   ]
  },
  {
   "cell_type": "code",
   "execution_count": null,
   "id": "4a452d15-1f37-4566-b890-a4ff202e3201",
   "metadata": {},
   "outputs": [],
   "source": []
  },
  {
   "cell_type": "code",
   "execution_count": null,
   "id": "c0f141f9-22ab-4367-ac53-6bad2b8fb238",
   "metadata": {},
   "outputs": [],
   "source": []
  },
  {
   "cell_type": "code",
   "execution_count": 45,
   "id": "88f68f2d-156f-47b5-9ca8-32fd551b8292",
   "metadata": {},
   "outputs": [],
   "source": [
    "# random"
   ]
  },
  {
   "cell_type": "code",
   "execution_count": 46,
   "id": "765de4ea-5f94-44d5-9ee9-0e575cfeb6fe",
   "metadata": {},
   "outputs": [],
   "source": [
    "# import random"
   ]
  },
  {
   "cell_type": "code",
   "execution_count": 47,
   "id": "7b108a06-df27-4461-8291-f154ffe827f6",
   "metadata": {},
   "outputs": [],
   "source": [
    "from numpy import random"
   ]
  },
  {
   "cell_type": "code",
   "execution_count": null,
   "id": "48c819e0-892f-41b5-97fa-fec017db7565",
   "metadata": {},
   "outputs": [],
   "source": []
  },
  {
   "cell_type": "code",
   "execution_count": 48,
   "id": "90e9b36a-5f3b-41ad-bd5d-11873d6f06b1",
   "metadata": {},
   "outputs": [],
   "source": [
    "# randint() ::: it returns a random number from the given range\n"
   ]
  },
  {
   "cell_type": "code",
   "execution_count": 55,
   "id": "f796af57-82f4-4891-b42f-e9f01ddcb723",
   "metadata": {},
   "outputs": [
    {
     "data": {
      "text/plain": [
       "28"
      ]
     },
     "execution_count": 55,
     "metadata": {},
     "output_type": "execute_result"
    }
   ],
   "source": [
    "random.randint(2, 80)"
   ]
  },
  {
   "cell_type": "code",
   "execution_count": null,
   "id": "1bbf7dc4-9185-4978-8010-8b59f9544409",
   "metadata": {},
   "outputs": [],
   "source": []
  },
  {
   "cell_type": "code",
   "execution_count": 56,
   "id": "284c7670-de4f-4afa-9c7e-7e13612609fa",
   "metadata": {},
   "outputs": [],
   "source": [
    "a = random.randint(2, 80, size = (10))"
   ]
  },
  {
   "cell_type": "code",
   "execution_count": 57,
   "id": "3dcb8e83-a410-4b50-9a8f-cad30bf40351",
   "metadata": {},
   "outputs": [
    {
     "data": {
      "text/plain": [
       "array([ 8, 53, 11, 23, 39, 62, 66, 23, 53, 54])"
      ]
     },
     "execution_count": 57,
     "metadata": {},
     "output_type": "execute_result"
    }
   ],
   "source": [
    "a"
   ]
  },
  {
   "cell_type": "code",
   "execution_count": null,
   "id": "b5a8e134-b8e3-433c-884f-b7839117d39e",
   "metadata": {},
   "outputs": [],
   "source": []
  },
  {
   "cell_type": "code",
   "execution_count": 58,
   "id": "582fed81-ffeb-472d-90d3-b179d0ca5cf0",
   "metadata": {},
   "outputs": [],
   "source": [
    "a = random.randint(2, 80, size = (3, 6))"
   ]
  },
  {
   "cell_type": "code",
   "execution_count": 59,
   "id": "c86f4e11-ac03-4e12-ac37-995c73fd8c90",
   "metadata": {},
   "outputs": [
    {
     "data": {
      "text/plain": [
       "array([[35, 55, 19, 42, 74,  9],\n",
       "       [18, 72, 48, 20, 63, 55],\n",
       "       [72, 53,  8, 18, 64, 44]])"
      ]
     },
     "execution_count": 59,
     "metadata": {},
     "output_type": "execute_result"
    }
   ],
   "source": [
    "a"
   ]
  },
  {
   "cell_type": "code",
   "execution_count": null,
   "id": "b167313d-4418-4a92-9792-d198fbe820ad",
   "metadata": {},
   "outputs": [],
   "source": []
  },
  {
   "cell_type": "code",
   "execution_count": 60,
   "id": "32b799a2-0897-4d84-bc2f-494557cb115b",
   "metadata": {},
   "outputs": [],
   "source": [
    "a = random.randint(2, 80, size = (3, 6, 3))"
   ]
  },
  {
   "cell_type": "code",
   "execution_count": 61,
   "id": "eae94e40-b094-4a47-948a-3a86c3e65594",
   "metadata": {},
   "outputs": [
    {
     "data": {
      "text/plain": [
       "array([[[62, 43, 40],\n",
       "        [25, 14, 75],\n",
       "        [40, 36,  8],\n",
       "        [24, 63, 43],\n",
       "        [51, 40, 50],\n",
       "        [51, 15, 67]],\n",
       "\n",
       "       [[22, 72,  5],\n",
       "        [ 2, 25, 13],\n",
       "        [47, 45, 40],\n",
       "        [35, 75,  2],\n",
       "        [21, 73, 56],\n",
       "        [39, 69, 64]],\n",
       "\n",
       "       [[37, 34,  8],\n",
       "        [58, 19, 49],\n",
       "        [39, 49, 14],\n",
       "        [ 4, 29, 50],\n",
       "        [32, 13, 16],\n",
       "        [37, 47, 30]]])"
      ]
     },
     "execution_count": 61,
     "metadata": {},
     "output_type": "execute_result"
    }
   ],
   "source": [
    "a"
   ]
  },
  {
   "cell_type": "code",
   "execution_count": null,
   "id": "b812ac14-d0d3-49bd-9404-4e296d19d6c1",
   "metadata": {},
   "outputs": [],
   "source": []
  },
  {
   "cell_type": "code",
   "execution_count": 62,
   "id": "d98c6d34-9c4d-481f-9600-c04cdef384a0",
   "metadata": {},
   "outputs": [],
   "source": [
    "# rand() ---> it returns a random element betweem 0 to 1"
   ]
  },
  {
   "cell_type": "code",
   "execution_count": null,
   "id": "16b30f6f-192e-4137-9789-27011a723667",
   "metadata": {},
   "outputs": [],
   "source": []
  },
  {
   "cell_type": "code",
   "execution_count": 68,
   "id": "a1f7f9bf-9056-4228-9278-ef22e0f5ad51",
   "metadata": {},
   "outputs": [
    {
     "data": {
      "text/plain": [
       "0.14588874215214576"
      ]
     },
     "execution_count": 68,
     "metadata": {},
     "output_type": "execute_result"
    }
   ],
   "source": [
    "random.rand()"
   ]
  },
  {
   "cell_type": "code",
   "execution_count": null,
   "id": "bfb6078c-7298-4eb9-8e6d-0c9ffbef363e",
   "metadata": {},
   "outputs": [],
   "source": []
  },
  {
   "cell_type": "code",
   "execution_count": 73,
   "id": "2d7a5e00-c985-4dc9-b10f-7dbc68b34714",
   "metadata": {},
   "outputs": [],
   "source": [
    "c = random.rand(4)"
   ]
  },
  {
   "cell_type": "code",
   "execution_count": 74,
   "id": "a87a1b6a-e1aa-4797-859c-e8c29f8a382a",
   "metadata": {},
   "outputs": [
    {
     "data": {
      "text/plain": [
       "array([0.71773714, 0.38766792, 0.21279652, 0.26500294])"
      ]
     },
     "execution_count": 74,
     "metadata": {},
     "output_type": "execute_result"
    }
   ],
   "source": [
    "c"
   ]
  },
  {
   "cell_type": "code",
   "execution_count": null,
   "id": "fe2d23da-a218-4ef1-bc22-bc5a925222dc",
   "metadata": {},
   "outputs": [],
   "source": []
  },
  {
   "cell_type": "code",
   "execution_count": 75,
   "id": "e5c002c5-d4f5-4352-b8e1-8b0433630e41",
   "metadata": {},
   "outputs": [
    {
     "data": {
      "text/plain": [
       "array([[0.44981311, 0.06923416, 0.99313998, 0.72528083],\n",
       "       [0.82749327, 0.34425148, 0.2847134 , 0.02944738],\n",
       "       [0.13346827, 0.86053175, 0.66324528, 0.94993597],\n",
       "       [0.28347429, 0.24239672, 0.12618078, 0.42935944]])"
      ]
     },
     "execution_count": 75,
     "metadata": {},
     "output_type": "execute_result"
    }
   ],
   "source": [
    "c = random.rand(4, 4)\n",
    "c"
   ]
  },
  {
   "cell_type": "code",
   "execution_count": null,
   "id": "8a42cb28-0d76-4580-b634-1a7fb39b0e63",
   "metadata": {},
   "outputs": [],
   "source": []
  },
  {
   "cell_type": "code",
   "execution_count": 76,
   "id": "b442e31f-8512-4883-94d5-3a32da1246c2",
   "metadata": {},
   "outputs": [],
   "source": [
    "# randint()\n",
    "# rand()"
   ]
  },
  {
   "cell_type": "code",
   "execution_count": 77,
   "id": "82dd6399-dd7b-4300-b89c-0c02ac6f1c40",
   "metadata": {},
   "outputs": [],
   "source": [
    "# choice  -> "
   ]
  },
  {
   "cell_type": "code",
   "execution_count": 93,
   "id": "157047c4-eb39-4750-b62c-6e6be09e425e",
   "metadata": {},
   "outputs": [],
   "source": [
    "zx = random.choice([2, 4, 6, 8, 5, 9, 3])"
   ]
  },
  {
   "cell_type": "code",
   "execution_count": 94,
   "id": "0bd86dd3-1c16-475d-9911-69bdbe9c9eee",
   "metadata": {},
   "outputs": [
    {
     "data": {
      "text/plain": [
       "5"
      ]
     },
     "execution_count": 94,
     "metadata": {},
     "output_type": "execute_result"
    }
   ],
   "source": [
    "zx"
   ]
  },
  {
   "cell_type": "code",
   "execution_count": null,
   "id": "6de4e7cf-d086-461a-ad3c-f23796e8ece5",
   "metadata": {},
   "outputs": [],
   "source": []
  },
  {
   "cell_type": "code",
   "execution_count": 97,
   "id": "e695874f-c8cf-4f79-bd24-1081e05ffbba",
   "metadata": {},
   "outputs": [],
   "source": [
    "zx = random.choice([2, 4, 6, 8, 5, 9, 3], size = (5, 9))"
   ]
  },
  {
   "cell_type": "code",
   "execution_count": 98,
   "id": "3da3c683-3c24-4fda-8139-e9205647ced8",
   "metadata": {},
   "outputs": [
    {
     "data": {
      "text/plain": [
       "array([[2, 5, 5, 5, 6, 2, 8, 9, 4],\n",
       "       [9, 8, 5, 3, 2, 5, 6, 4, 6],\n",
       "       [2, 2, 2, 4, 6, 9, 2, 8, 5],\n",
       "       [3, 9, 4, 9, 5, 3, 3, 3, 8],\n",
       "       [4, 9, 9, 2, 2, 9, 2, 2, 8]])"
      ]
     },
     "execution_count": 98,
     "metadata": {},
     "output_type": "execute_result"
    }
   ],
   "source": [
    "zx"
   ]
  },
  {
   "cell_type": "code",
   "execution_count": null,
   "id": "3310bb3a-0ab1-44c7-ad7f-8b0326d12434",
   "metadata": {},
   "outputs": [],
   "source": []
  },
  {
   "cell_type": "code",
   "execution_count": 99,
   "id": "7876a23b-ffcb-494c-a4bd-20a335b306fe",
   "metadata": {},
   "outputs": [],
   "source": [
    "# random.shuffle"
   ]
  },
  {
   "cell_type": "code",
   "execution_count": 101,
   "id": "fbaa5c22-080d-4f0e-b4c8-6f22ce390561",
   "metadata": {},
   "outputs": [],
   "source": [
    "zx = np.array([1, 2, 3, 4, 5, 6, 7, 8, 9])"
   ]
  },
  {
   "cell_type": "code",
   "execution_count": 102,
   "id": "41f7eb04-7a71-4555-8d28-991da6cfbc70",
   "metadata": {},
   "outputs": [],
   "source": [
    "random.shuffle(zx)"
   ]
  },
  {
   "cell_type": "code",
   "execution_count": 103,
   "id": "02e33db0-2ee8-45ec-9c28-39b37d15ce50",
   "metadata": {},
   "outputs": [
    {
     "data": {
      "text/plain": [
       "array([7, 1, 2, 9, 5, 3, 8, 4, 6])"
      ]
     },
     "execution_count": 103,
     "metadata": {},
     "output_type": "execute_result"
    }
   ],
   "source": [
    "zx"
   ]
  },
  {
   "cell_type": "code",
   "execution_count": null,
   "id": "a0416b08-98c3-4952-b63b-cb822af55646",
   "metadata": {},
   "outputs": [],
   "source": []
  },
  {
   "cell_type": "code",
   "execution_count": null,
   "id": "cff06273-1479-411e-b915-15603a66db1c",
   "metadata": {},
   "outputs": [],
   "source": [
    "random:\n",
    "    randint\n",
    "    rand\n",
    "    shuffle\n",
    "    choice"
   ]
  }
 ],
 "metadata": {
  "kernelspec": {
   "display_name": "Python 3 (ipykernel)",
   "language": "python",
   "name": "python3"
  },
  "language_info": {
   "codemirror_mode": {
    "name": "ipython",
    "version": 3
   },
   "file_extension": ".py",
   "mimetype": "text/x-python",
   "name": "python",
   "nbconvert_exporter": "python",
   "pygments_lexer": "ipython3",
   "version": "3.12.3"
  }
 },
 "nbformat": 4,
 "nbformat_minor": 5
}
