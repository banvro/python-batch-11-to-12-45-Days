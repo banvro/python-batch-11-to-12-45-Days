{
 "cells": [
  {
   "cell_type": "code",
   "execution_count": 1,
   "id": "12297e74-57f1-4bbc-b8ee-7f57ffab307e",
   "metadata": {},
   "outputs": [],
   "source": [
    "# Numpy : "
   ]
  },
  {
   "cell_type": "code",
   "execution_count": 2,
   "id": "a7b4d385-0aa7-4a91-8e6e-0b353a5d2f19",
   "metadata": {},
   "outputs": [],
   "source": [
    "# ndarrays : "
   ]
  },
  {
   "cell_type": "code",
   "execution_count": 3,
   "id": "e071ecf1-291a-47b4-bfcd-5a2e47846e83",
   "metadata": {},
   "outputs": [],
   "source": [
    "import numpy as np"
   ]
  },
  {
   "cell_type": "code",
   "execution_count": null,
   "id": "0c087673-57a3-45ca-83eb-f1aa3e783413",
   "metadata": {},
   "outputs": [],
   "source": []
  },
  {
   "cell_type": "code",
   "execution_count": 4,
   "id": "720ee09a-1417-4c85-9824-f31d63f4c6f4",
   "metadata": {},
   "outputs": [],
   "source": [
    "arr = np.array([12, 34, 45, 56, 78, 45, 34])"
   ]
  },
  {
   "cell_type": "code",
   "execution_count": 5,
   "id": "fe2299d6-5f92-4112-88a6-60cba3ae7c9e",
   "metadata": {},
   "outputs": [
    {
     "data": {
      "text/plain": [
       "array([12, 34, 45, 56, 78, 45, 34])"
      ]
     },
     "execution_count": 5,
     "metadata": {},
     "output_type": "execute_result"
    }
   ],
   "source": [
    "arr"
   ]
  },
  {
   "cell_type": "code",
   "execution_count": null,
   "id": "cdce2860-9c70-431e-a01a-10c76ba8be2d",
   "metadata": {},
   "outputs": [],
   "source": []
  },
  {
   "cell_type": "code",
   "execution_count": 6,
   "id": "c8a9620e-f60e-455c-bf86-25a25a4235bb",
   "metadata": {},
   "outputs": [
    {
     "data": {
      "text/plain": [
       "(7,)"
      ]
     },
     "execution_count": 6,
     "metadata": {},
     "output_type": "execute_result"
    }
   ],
   "source": [
    "arr.shape"
   ]
  },
  {
   "cell_type": "code",
   "execution_count": 7,
   "id": "8926c4be-8115-4b1e-8503-343ca1327a49",
   "metadata": {},
   "outputs": [
    {
     "data": {
      "text/plain": [
       "1"
      ]
     },
     "execution_count": 7,
     "metadata": {},
     "output_type": "execute_result"
    }
   ],
   "source": [
    "arr.ndim"
   ]
  },
  {
   "cell_type": "code",
   "execution_count": null,
   "id": "c957bf4e-7ee4-419d-a6c0-a88bf8cc8517",
   "metadata": {},
   "outputs": [],
   "source": []
  },
  {
   "cell_type": "code",
   "execution_count": 8,
   "id": "cdc5efc7-5525-489e-9078-5dd7918c0262",
   "metadata": {},
   "outputs": [],
   "source": [
    "# 4-D Ndarray"
   ]
  },
  {
   "cell_type": "code",
   "execution_count": null,
   "id": "5f13c6e4-89f6-4bf9-8889-a13214a5f379",
   "metadata": {},
   "outputs": [],
   "source": []
  },
  {
   "cell_type": "code",
   "execution_count": 25,
   "id": "5d109153-9786-4c59-bc52-ec96766a143a",
   "metadata": {},
   "outputs": [],
   "source": [
    "x = np.array([[[[12, 34, 45, 56], [34, 45, 65, 78]], [[34, 45, 3, 23], [45, 3, 23, 12]]], [[[12, 34, 45, 56], [34, 45, 65, 78]], [[34, 45, 3, 23], [45, 3, 23, 12]]]])"
   ]
  },
  {
   "cell_type": "code",
   "execution_count": 26,
   "id": "b70eb7eb-9f16-4a96-93d8-f74ffc041a68",
   "metadata": {},
   "outputs": [
    {
     "data": {
      "text/plain": [
       "array([[[[12, 34, 45, 56],\n",
       "         [34, 45, 65, 78]],\n",
       "\n",
       "        [[34, 45,  3, 23],\n",
       "         [45,  3, 23, 12]]],\n",
       "\n",
       "\n",
       "       [[[12, 34, 45, 56],\n",
       "         [34, 45, 65, 78]],\n",
       "\n",
       "        [[34, 45,  3, 23],\n",
       "         [45,  3, 23, 12]]]])"
      ]
     },
     "execution_count": 26,
     "metadata": {},
     "output_type": "execute_result"
    }
   ],
   "source": [
    "x"
   ]
  },
  {
   "cell_type": "code",
   "execution_count": 27,
   "id": "106af2eb-bf3a-4bb5-8b36-a6ebb303c2e7",
   "metadata": {},
   "outputs": [
    {
     "data": {
      "text/plain": [
       "4"
      ]
     },
     "execution_count": 27,
     "metadata": {},
     "output_type": "execute_result"
    }
   ],
   "source": [
    "x.ndim"
   ]
  },
  {
   "cell_type": "code",
   "execution_count": 28,
   "id": "adff47f6-92d9-4e6d-9cb8-c9a1d0ec4f39",
   "metadata": {},
   "outputs": [
    {
     "data": {
      "text/plain": [
       "(2, 2, 2, 4)"
      ]
     },
     "execution_count": 28,
     "metadata": {},
     "output_type": "execute_result"
    }
   ],
   "source": [
    "x.shape"
   ]
  },
  {
   "cell_type": "code",
   "execution_count": null,
   "id": "ff52ec92-6173-4339-b7ca-74b2ee0938ec",
   "metadata": {},
   "outputs": [],
   "source": []
  },
  {
   "cell_type": "code",
   "execution_count": null,
   "id": "1b355b30-351a-4c55-af90-ffad6b00c17f",
   "metadata": {},
   "outputs": [],
   "source": []
  },
  {
   "cell_type": "markdown",
   "id": "dd8c577d-bd0f-4900-977c-a706e8612109",
   "metadata": {},
   "source": [
    "## Indexing or Slicing in ndarray"
   ]
  },
  {
   "cell_type": "code",
   "execution_count": null,
   "id": "36a3dc00-c3c4-4799-878f-a2f0efc0c0bf",
   "metadata": {},
   "outputs": [],
   "source": []
  },
  {
   "cell_type": "code",
   "execution_count": 29,
   "id": "a2accc85-40f9-490d-bf2b-b2f45298f047",
   "metadata": {},
   "outputs": [],
   "source": [
    "x = np.array([12, 34, 45, 67, 45, 34, 56, 10])"
   ]
  },
  {
   "cell_type": "code",
   "execution_count": 30,
   "id": "ac8a5b32-2a94-47e1-b84f-271096f2e492",
   "metadata": {},
   "outputs": [
    {
     "data": {
      "text/plain": [
       "array([12, 34, 45, 67, 45, 34, 56, 10])"
      ]
     },
     "execution_count": 30,
     "metadata": {},
     "output_type": "execute_result"
    }
   ],
   "source": [
    "x"
   ]
  },
  {
   "cell_type": "code",
   "execution_count": null,
   "id": "d0cb52aa-6a66-4c34-a48f-681580231cd6",
   "metadata": {},
   "outputs": [],
   "source": []
  },
  {
   "cell_type": "code",
   "execution_count": null,
   "id": "7b983ac9-5674-443a-ae4b-b43e0edc57f7",
   "metadata": {},
   "outputs": [],
   "source": [
    "# to get any element using index numberer....\n",
    "objename[indexnumber]"
   ]
  },
  {
   "cell_type": "code",
   "execution_count": 33,
   "id": "b6d25a4d-17a8-48f8-b5a8-a114f78ca4fc",
   "metadata": {},
   "outputs": [
    {
     "data": {
      "text/plain": [
       "56"
      ]
     },
     "execution_count": 33,
     "metadata": {},
     "output_type": "execute_result"
    }
   ],
   "source": [
    "x[6]"
   ]
  },
  {
   "cell_type": "code",
   "execution_count": null,
   "id": "047e0013-ce3e-4f5a-8a98-8bc53ec9c40e",
   "metadata": {},
   "outputs": [],
   "source": [
    "postive indexing start from :   0, 1, 2, 3, ...... n\n",
    "negtive indexing starts form :  -1, -2, -3, -4,  ........ -n"
   ]
  },
  {
   "cell_type": "code",
   "execution_count": null,
   "id": "8fb9241e-f849-4687-9e75-f899e3f95ebb",
   "metadata": {},
   "outputs": [],
   "source": []
  },
  {
   "cell_type": "code",
   "execution_count": 34,
   "id": "595c3b54-d213-4d92-aebe-ab0cd6d94624",
   "metadata": {},
   "outputs": [],
   "source": [
    "x = np.array([12, 34, 45, 67, 45, 34, 56, 10])"
   ]
  },
  {
   "cell_type": "code",
   "execution_count": 36,
   "id": "ce20c81e-537d-41e5-9582-43d8e31d95b9",
   "metadata": {},
   "outputs": [
    {
     "data": {
      "text/plain": [
       "56"
      ]
     },
     "execution_count": 36,
     "metadata": {},
     "output_type": "execute_result"
    }
   ],
   "source": [
    "x[-2]"
   ]
  },
  {
   "cell_type": "code",
   "execution_count": 37,
   "id": "d4036070-e165-4dfe-82be-91bd2e43cece",
   "metadata": {},
   "outputs": [
    {
     "data": {
      "text/plain": [
       "67"
      ]
     },
     "execution_count": 37,
     "metadata": {},
     "output_type": "execute_result"
    }
   ],
   "source": [
    "x[3]"
   ]
  },
  {
   "cell_type": "code",
   "execution_count": 38,
   "id": "501c7084-bd28-45b0-bec1-be06aa0f6656",
   "metadata": {},
   "outputs": [
    {
     "data": {
      "text/plain": [
       "67"
      ]
     },
     "execution_count": 38,
     "metadata": {},
     "output_type": "execute_result"
    }
   ],
   "source": [
    "x[-5]"
   ]
  },
  {
   "cell_type": "code",
   "execution_count": null,
   "id": "269061c5-ecd4-468c-9ddb-335e28179ff3",
   "metadata": {},
   "outputs": [],
   "source": []
  },
  {
   "cell_type": "markdown",
   "id": "e17ba04d-4f15-4989-9ace-2ece27e52859",
   "metadata": {},
   "source": [
    "### indexing with 2-D ndarray:"
   ]
  },
  {
   "cell_type": "code",
   "execution_count": null,
   "id": "c10cb764-0d2f-4fa8-8584-52a84697fc15",
   "metadata": {},
   "outputs": [],
   "source": []
  },
  {
   "cell_type": "code",
   "execution_count": 40,
   "id": "4980b9b1-960b-4e43-8e1d-8cb84a927889",
   "metadata": {},
   "outputs": [],
   "source": [
    "zx = np.array([[12, 23, 4, 56, 67, 34, 23], [34, 45, 67, 7, 5, 34, 23]])"
   ]
  },
  {
   "cell_type": "code",
   "execution_count": 43,
   "id": "4eeee2f3-8d1e-4e35-9099-420082eaa86f",
   "metadata": {},
   "outputs": [
    {
     "data": {
      "text/plain": [
       "array([[12, 23,  4, 56, 67, 34, 23],\n",
       "       [34, 45, 67,  7,  5, 34, 23]])"
      ]
     },
     "execution_count": 43,
     "metadata": {},
     "output_type": "execute_result"
    }
   ],
   "source": [
    "zx"
   ]
  },
  {
   "cell_type": "code",
   "execution_count": 44,
   "id": "9fb27870-22f9-4fba-9f58-29a0d130c933",
   "metadata": {},
   "outputs": [],
   "source": [
    "# obname[arrayindex][elementindex]"
   ]
  },
  {
   "cell_type": "code",
   "execution_count": 50,
   "id": "25c094bf-a674-4527-9230-d64d3996cde7",
   "metadata": {},
   "outputs": [],
   "source": [
    "pq = zx[1]"
   ]
  },
  {
   "cell_type": "code",
   "execution_count": 51,
   "id": "1218e7fd-03ea-4eff-9de2-921ab2be8aa7",
   "metadata": {},
   "outputs": [
    {
     "data": {
      "text/plain": [
       "23"
      ]
     },
     "execution_count": 51,
     "metadata": {},
     "output_type": "execute_result"
    }
   ],
   "source": [
    "pq[6]"
   ]
  },
  {
   "cell_type": "code",
   "execution_count": 52,
   "id": "08af45f4-6fd5-48c3-9d06-0f3641b833e2",
   "metadata": {},
   "outputs": [
    {
     "data": {
      "text/plain": [
       "23"
      ]
     },
     "execution_count": 52,
     "metadata": {},
     "output_type": "execute_result"
    }
   ],
   "source": [
    "zx[1][-1]"
   ]
  },
  {
   "cell_type": "code",
   "execution_count": null,
   "id": "c8d3ea57-06b3-4eb1-ab8f-ceec71240d1e",
   "metadata": {},
   "outputs": [],
   "source": []
  },
  {
   "cell_type": "code",
   "execution_count": 53,
   "id": "251e0596-0c5f-408e-89f0-e2c23243be66",
   "metadata": {},
   "outputs": [],
   "source": [
    "zx = np.array([[12, 23, 4, 56, 67, 34, 23], [34, 45, 67, 7, 5, 34, 23], [12, 3, 45, 23, 45, 23, 45]])"
   ]
  },
  {
   "cell_type": "code",
   "execution_count": 54,
   "id": "14be4631-0a05-463d-ab1f-4fc0bcad2c00",
   "metadata": {},
   "outputs": [
    {
     "data": {
      "text/plain": [
       "array([[12, 23,  4, 56, 67, 34, 23],\n",
       "       [34, 45, 67,  7,  5, 34, 23],\n",
       "       [12,  3, 45, 23, 45, 23, 45]])"
      ]
     },
     "execution_count": 54,
     "metadata": {},
     "output_type": "execute_result"
    }
   ],
   "source": [
    "zx"
   ]
  },
  {
   "cell_type": "code",
   "execution_count": 55,
   "id": "2db22bf8-883c-4f73-87e3-ac0cd5501f97",
   "metadata": {},
   "outputs": [
    {
     "data": {
      "text/plain": [
       "(3, 7)"
      ]
     },
     "execution_count": 55,
     "metadata": {},
     "output_type": "execute_result"
    }
   ],
   "source": [
    "zx.shape"
   ]
  },
  {
   "cell_type": "code",
   "execution_count": 56,
   "id": "5457141b-9077-4078-92f0-b6805366d2ed",
   "metadata": {},
   "outputs": [
    {
     "data": {
      "text/plain": [
       "3"
      ]
     },
     "execution_count": 56,
     "metadata": {},
     "output_type": "execute_result"
    }
   ],
   "source": [
    "zx[2][1]"
   ]
  },
  {
   "cell_type": "code",
   "execution_count": null,
   "id": "b9a8c83b-af2d-4e69-ac46-d8263abbbb35",
   "metadata": {},
   "outputs": [],
   "source": []
  },
  {
   "cell_type": "code",
   "execution_count": 57,
   "id": "eac5817c-4ab5-4262-abc9-ecb61e2f2953",
   "metadata": {},
   "outputs": [],
   "source": [
    "# indexing with 3-D"
   ]
  },
  {
   "cell_type": "code",
   "execution_count": 61,
   "id": "05c317a5-1685-470d-aba3-1f8ded85c7fc",
   "metadata": {},
   "outputs": [],
   "source": [
    "qw = np.array([[[12, 34, 45, 34], [34, 45, 67, 4]], [[34, 56, 78, 56], [45, 89, 67, 56]]])"
   ]
  },
  {
   "cell_type": "code",
   "execution_count": 62,
   "id": "528c2b01-74c4-44cd-a5f3-de0096601e7a",
   "metadata": {},
   "outputs": [
    {
     "data": {
      "text/plain": [
       "array([[[12, 34, 45, 34],\n",
       "        [34, 45, 67,  4]],\n",
       "\n",
       "       [[34, 56, 78, 56],\n",
       "        [45, 89, 67, 56]]])"
      ]
     },
     "execution_count": 62,
     "metadata": {},
     "output_type": "execute_result"
    }
   ],
   "source": [
    "qw"
   ]
  },
  {
   "cell_type": "code",
   "execution_count": null,
   "id": "1b207568-cc5a-4dc9-b043-bc54f66cd8f1",
   "metadata": {},
   "outputs": [],
   "source": []
  },
  {
   "cell_type": "code",
   "execution_count": 65,
   "id": "f1cdc7f6-7dc6-4361-9a94-c1e57e964535",
   "metadata": {},
   "outputs": [
    {
     "data": {
      "text/plain": [
       "89"
      ]
     },
     "execution_count": 65,
     "metadata": {},
     "output_type": "execute_result"
    }
   ],
   "source": [
    "qw[1][1][1]"
   ]
  },
  {
   "cell_type": "code",
   "execution_count": null,
   "id": "ad0fae65-1410-40e6-b526-33daef826408",
   "metadata": {},
   "outputs": [],
   "source": []
  },
  {
   "cell_type": "code",
   "execution_count": null,
   "id": "0fb04406-4980-448f-9151-2a6fb37acc0d",
   "metadata": {},
   "outputs": [],
   "source": []
  },
  {
   "cell_type": "code",
   "execution_count": 66,
   "id": "619e50ee-23e3-4a8e-a4e7-2fb6443b612f",
   "metadata": {},
   "outputs": [],
   "source": [
    "# Slicing : "
   ]
  },
  {
   "cell_type": "code",
   "execution_count": 67,
   "id": "991bb017-a59d-4c06-b51a-eda9baf8b8c5",
   "metadata": {},
   "outputs": [],
   "source": [
    "zx = np.array([12, 2, 4, 56, 67, 78, 89])"
   ]
  },
  {
   "cell_type": "code",
   "execution_count": 68,
   "id": "408e4a3f-0cac-4983-b634-a4ccf2af1f93",
   "metadata": {},
   "outputs": [
    {
     "data": {
      "text/plain": [
       "67"
      ]
     },
     "execution_count": 68,
     "metadata": {},
     "output_type": "execute_result"
    }
   ],
   "source": [
    "zx[4]"
   ]
  },
  {
   "cell_type": "code",
   "execution_count": null,
   "id": "35a1f686-13c9-405c-a414-2a6728c3a3c2",
   "metadata": {},
   "outputs": [],
   "source": [
    "objectname[start : end : incremet]\n",
    "\n",
    "default values:\n",
    "    start : 0\n",
    "    end : n - 1\n",
    "    increment : 1"
   ]
  },
  {
   "cell_type": "code",
   "execution_count": 70,
   "id": "fa915a37-e797-407b-a8bd-487c84de1ec3",
   "metadata": {},
   "outputs": [
    {
     "data": {
      "text/plain": [
       "array([ 4, 56, 67])"
      ]
     },
     "execution_count": 70,
     "metadata": {},
     "output_type": "execute_result"
    }
   ],
   "source": [
    "zx[2 : -2]"
   ]
  },
  {
   "cell_type": "code",
   "execution_count": null,
   "id": "8bd999c3-449a-47ed-9138-08095627a2c2",
   "metadata": {},
   "outputs": [],
   "source": []
  },
  {
   "cell_type": "code",
   "execution_count": 72,
   "id": "b144d577-d854-4ce3-9047-6ebc6209a448",
   "metadata": {},
   "outputs": [],
   "source": [
    "# for i in range(1, 11):\n",
    "#     print(i)"
   ]
  },
  {
   "cell_type": "code",
   "execution_count": null,
   "id": "f72c49aa-b7f1-49e4-8474-f2e4b2ba0862",
   "metadata": {},
   "outputs": [],
   "source": []
  },
  {
   "cell_type": "code",
   "execution_count": 73,
   "id": "21a02099-c398-4869-86ea-319337275315",
   "metadata": {},
   "outputs": [],
   "source": [
    "zx = np.array([12, 2, 4, 56, 67, 78, 89])"
   ]
  },
  {
   "cell_type": "code",
   "execution_count": 75,
   "id": "bee2cfae-d7be-43b5-b353-f5f459469340",
   "metadata": {},
   "outputs": [
    {
     "data": {
      "text/plain": [
       "array([12,  2,  4, 56, 67])"
      ]
     },
     "execution_count": 75,
     "metadata": {},
     "output_type": "execute_result"
    }
   ],
   "source": [
    "zx[ : 5]"
   ]
  },
  {
   "cell_type": "code",
   "execution_count": null,
   "id": "e7162935-01be-49c7-8259-18471d768708",
   "metadata": {},
   "outputs": [],
   "source": []
  },
  {
   "cell_type": "code",
   "execution_count": 76,
   "id": "f9751a48-8343-4398-a4c8-c7b7aa175e5b",
   "metadata": {},
   "outputs": [
    {
     "data": {
      "text/plain": [
       "array([56, 67, 78, 89])"
      ]
     },
     "execution_count": 76,
     "metadata": {},
     "output_type": "execute_result"
    }
   ],
   "source": [
    "zx[3 : ]"
   ]
  },
  {
   "cell_type": "code",
   "execution_count": null,
   "id": "1424aa59-0a8d-4500-b10c-ee42e61f060b",
   "metadata": {},
   "outputs": [],
   "source": []
  },
  {
   "cell_type": "code",
   "execution_count": null,
   "id": "507807b3-3109-4871-8073-f54698e9dfd6",
   "metadata": {},
   "outputs": [],
   "source": []
  },
  {
   "cell_type": "code",
   "execution_count": 81,
   "id": "85e544a7-c30a-458c-be00-c8b60d272bdb",
   "metadata": {},
   "outputs": [],
   "source": [
    "zx = np.array([12, 2, 4, 56, 67, 78, 89, 45, 78, 34, 34, 45, 23])"
   ]
  },
  {
   "cell_type": "code",
   "execution_count": 82,
   "id": "db9d7d5c-01f8-4733-a8e5-d98c457aff5c",
   "metadata": {},
   "outputs": [
    {
     "data": {
      "text/plain": [
       "array([12,  4, 67, 89, 78, 34, 23])"
      ]
     },
     "execution_count": 82,
     "metadata": {},
     "output_type": "execute_result"
    }
   ],
   "source": [
    "zx[ : : 2]"
   ]
  },
  {
   "cell_type": "code",
   "execution_count": null,
   "id": "7587b59b-42ec-4562-aa1b-311e3db6f707",
   "metadata": {},
   "outputs": [],
   "source": []
  },
  {
   "cell_type": "code",
   "execution_count": 83,
   "id": "3b462403-631e-42fc-979d-a829fa050d99",
   "metadata": {},
   "outputs": [],
   "source": [
    "zx = np.array([12, 2, 4, 56, 67, 78, 89, 45, 78, 34, 34, 45, 23])"
   ]
  },
  {
   "cell_type": "code",
   "execution_count": 84,
   "id": "0ade6959-2151-4b5a-bca3-ed1d69944254",
   "metadata": {},
   "outputs": [],
   "source": [
    "# reverse ndarray"
   ]
  },
  {
   "cell_type": "code",
   "execution_count": 85,
   "id": "b8e92fd2-1fd2-49c8-8bc3-bca72a941d68",
   "metadata": {},
   "outputs": [
    {
     "data": {
      "text/plain": [
       "array([23, 45, 34, 34, 78, 45, 89, 78, 67, 56,  4,  2, 12])"
      ]
     },
     "execution_count": 85,
     "metadata": {},
     "output_type": "execute_result"
    }
   ],
   "source": [
    "zx[: : -1]"
   ]
  },
  {
   "cell_type": "code",
   "execution_count": null,
   "id": "3539aac4-e913-4dbf-896a-a54f9e4810bb",
   "metadata": {},
   "outputs": [],
   "source": []
  },
  {
   "cell_type": "code",
   "execution_count": 86,
   "id": "9cd0bbff-995c-4ae5-b6af-b16e2cefec97",
   "metadata": {},
   "outputs": [],
   "source": [
    "# 2-d slicing"
   ]
  },
  {
   "cell_type": "code",
   "execution_count": null,
   "id": "ad413893-7651-4b7b-9956-be1c1fe20041",
   "metadata": {},
   "outputs": [],
   "source": []
  },
  {
   "cell_type": "code",
   "execution_count": 87,
   "id": "51741138-3dd9-403a-9485-3c839a07eb99",
   "metadata": {},
   "outputs": [],
   "source": [
    "pq = np.array([[12, 23, 4, 45, 56], [34, 5, 67, 78, 34]])"
   ]
  },
  {
   "cell_type": "code",
   "execution_count": 88,
   "id": "a4881b76-6bb4-4033-9658-c2ccf2234d2b",
   "metadata": {},
   "outputs": [],
   "source": [
    "# objename[arrayindex][slcing]"
   ]
  },
  {
   "cell_type": "code",
   "execution_count": 90,
   "id": "25f1f3cb-d5e5-4a81-939b-9c5d8f0e8a0f",
   "metadata": {},
   "outputs": [
    {
     "data": {
      "text/plain": [
       "array([ 5, 67, 78])"
      ]
     },
     "execution_count": 90,
     "metadata": {},
     "output_type": "execute_result"
    }
   ],
   "source": [
    "pq[1][1 : 4]"
   ]
  },
  {
   "cell_type": "code",
   "execution_count": null,
   "id": "43cad7c4-8024-4d71-b7db-f91e63a3f8a5",
   "metadata": {},
   "outputs": [],
   "source": []
  },
  {
   "cell_type": "code",
   "execution_count": 91,
   "id": "23d4bb9e-8d07-4ea6-babd-e76cecbfb8ed",
   "metadata": {},
   "outputs": [
    {
     "data": {
      "text/plain": [
       "array([ 4, 45, 56])"
      ]
     },
     "execution_count": 91,
     "metadata": {},
     "output_type": "execute_result"
    }
   ],
   "source": [
    "pq[0][2 : ]"
   ]
  },
  {
   "cell_type": "code",
   "execution_count": null,
   "id": "d4cfac4f-8ded-45ea-b491-d12b3200a722",
   "metadata": {},
   "outputs": [],
   "source": []
  },
  {
   "cell_type": "code",
   "execution_count": null,
   "id": "e84310ad-aba8-4434-8f47-580eb51bef6f",
   "metadata": {},
   "outputs": [],
   "source": []
  },
  {
   "cell_type": "code",
   "execution_count": 92,
   "id": "f3c1b675-9d24-47e4-9679-7247c5fe8a50",
   "metadata": {},
   "outputs": [],
   "source": [
    "qw = np.array([[[12, 34, 45, 34], [34, 45, 67, 4]], [[34, 56, 78, 56], [45, 89, 67, 56]]])"
   ]
  },
  {
   "cell_type": "code",
   "execution_count": 93,
   "id": "171b2b91-939b-4927-ac91-4462c7493c28",
   "metadata": {},
   "outputs": [
    {
     "data": {
      "text/plain": [
       "array([[[12, 34, 45, 34],\n",
       "        [34, 45, 67,  4]],\n",
       "\n",
       "       [[34, 56, 78, 56],\n",
       "        [45, 89, 67, 56]]])"
      ]
     },
     "execution_count": 93,
     "metadata": {},
     "output_type": "execute_result"
    }
   ],
   "source": [
    "qw"
   ]
  },
  {
   "cell_type": "code",
   "execution_count": 97,
   "id": "b38359ea-d084-4ff8-93f9-39ffaffa7f14",
   "metadata": {},
   "outputs": [
    {
     "data": {
      "text/plain": [
       "array([56, 78, 56])"
      ]
     },
     "execution_count": 97,
     "metadata": {},
     "output_type": "execute_result"
    }
   ],
   "source": [
    "qw[1][0][1 : ]"
   ]
  },
  {
   "cell_type": "code",
   "execution_count": 99,
   "id": "67d600fb-3f6b-48bf-830a-4b6a7451fcd6",
   "metadata": {},
   "outputs": [
    {
     "data": {
      "text/plain": [
       "array([12, 34, 45])"
      ]
     },
     "execution_count": 99,
     "metadata": {},
     "output_type": "execute_result"
    }
   ],
   "source": [
    "qw[0][0][0 : -1]"
   ]
  },
  {
   "cell_type": "code",
   "execution_count": 100,
   "id": "6c0a85a8-7e87-4fd1-ba41-f83bf7f13060",
   "metadata": {},
   "outputs": [],
   "source": [
    "# this is 100"
   ]
  },
  {
   "cell_type": "code",
   "execution_count": null,
   "id": "2cbb05a0-93f0-4cae-88b6-5555cf5a7f68",
   "metadata": {},
   "outputs": [],
   "source": []
  },
  {
   "cell_type": "code",
   "execution_count": null,
   "id": "2eb1d9ed-d379-4789-a2d8-5915447d21e5",
   "metadata": {},
   "outputs": [],
   "source": [
    "numpy\n",
    "ndarray\n",
    "ndim\n",
    "shape\n",
    "indxing\n",
    "slicing"
   ]
  }
 ],
 "metadata": {
  "kernelspec": {
   "display_name": "Python 3 (ipykernel)",
   "language": "python",
   "name": "python3"
  },
  "language_info": {
   "codemirror_mode": {
    "name": "ipython",
    "version": 3
   },
   "file_extension": ".py",
   "mimetype": "text/x-python",
   "name": "python",
   "nbconvert_exporter": "python",
   "pygments_lexer": "ipython3",
   "version": "3.12.3"
  }
 },
 "nbformat": 4,
 "nbformat_minor": 5
}
