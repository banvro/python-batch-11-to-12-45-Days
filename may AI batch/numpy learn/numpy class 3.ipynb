{
 "cells": [
  {
   "cell_type": "code",
   "execution_count": 1,
   "id": "4865eb0c-30e0-4d0f-97cc-cb73bfb661b8",
   "metadata": {},
   "outputs": [],
   "source": [
    "import numpy as np"
   ]
  },
  {
   "cell_type": "code",
   "execution_count": 2,
   "id": "00870aa9-bdde-4782-9ab7-69ea86881ec8",
   "metadata": {},
   "outputs": [],
   "source": [
    "# Indexing / slicing in numpy"
   ]
  },
  {
   "cell_type": "code",
   "execution_count": null,
   "id": "0ed79a4f-3c27-4cb5-8f9d-e7a798f99285",
   "metadata": {},
   "outputs": [],
   "source": []
  },
  {
   "cell_type": "code",
   "execution_count": 3,
   "id": "d4f84dbf-2e7d-4f1c-a40a-2708645983d7",
   "metadata": {},
   "outputs": [],
   "source": [
    "zx = np.array([12, 34, 56, 67, 89])"
   ]
  },
  {
   "cell_type": "code",
   "execution_count": 4,
   "id": "4a39adee-6030-43c9-b12f-8ce38525c4a8",
   "metadata": {},
   "outputs": [
    {
     "data": {
      "text/plain": [
       "array([12, 34, 56, 67, 89])"
      ]
     },
     "execution_count": 4,
     "metadata": {},
     "output_type": "execute_result"
    }
   ],
   "source": [
    "zx"
   ]
  },
  {
   "cell_type": "code",
   "execution_count": null,
   "id": "26e928e8-5a9d-408f-b206-23ac8cbed817",
   "metadata": {},
   "outputs": [],
   "source": []
  },
  {
   "cell_type": "code",
   "execution_count": 5,
   "id": "d49f231c-8f08-4f29-aa95-745cab95d796",
   "metadata": {},
   "outputs": [],
   "source": [
    "# replace elements from ndarray::::::\n",
    "\n",
    "# objectname[indexnumber] = newelemnt"
   ]
  },
  {
   "cell_type": "code",
   "execution_count": 6,
   "id": "370657d5-0d0f-41d4-8a5c-f2a0a51a7cac",
   "metadata": {},
   "outputs": [],
   "source": [
    "zx[3] = 100"
   ]
  },
  {
   "cell_type": "code",
   "execution_count": null,
   "id": "681ea435-5a0c-45c2-8b9c-b8aac7237437",
   "metadata": {},
   "outputs": [],
   "source": []
  },
  {
   "cell_type": "code",
   "execution_count": 7,
   "id": "8bb51a84-e8d2-4959-b0e1-acde493e3abb",
   "metadata": {},
   "outputs": [
    {
     "data": {
      "text/plain": [
       "array([ 12,  34,  56, 100,  89])"
      ]
     },
     "execution_count": 7,
     "metadata": {},
     "output_type": "execute_result"
    }
   ],
   "source": [
    "zx\n"
   ]
  },
  {
   "cell_type": "code",
   "execution_count": null,
   "id": "6b5ff61a-4018-4044-a226-0f19dd4d959c",
   "metadata": {},
   "outputs": [],
   "source": []
  },
  {
   "cell_type": "code",
   "execution_count": 8,
   "id": "2c7826e2-3544-42c7-b936-bbc1e5194736",
   "metadata": {},
   "outputs": [],
   "source": [
    "x = np.array([23, 45, 56, 78, 5, 34, 23, 2, 45, 23])"
   ]
  },
  {
   "cell_type": "code",
   "execution_count": 9,
   "id": "387ba419-2def-4701-9ba3-51919238e0d3",
   "metadata": {},
   "outputs": [],
   "source": [
    "x[4] = 500"
   ]
  },
  {
   "cell_type": "code",
   "execution_count": 10,
   "id": "322efc9d-5b4b-48d5-be65-b70584e2957d",
   "metadata": {},
   "outputs": [
    {
     "data": {
      "text/plain": [
       "array([ 23,  45,  56,  78, 500,  34,  23,   2,  45,  23])"
      ]
     },
     "execution_count": 10,
     "metadata": {},
     "output_type": "execute_result"
    }
   ],
   "source": [
    "x"
   ]
  },
  {
   "cell_type": "code",
   "execution_count": null,
   "id": "a579d8f4-3973-4c98-b25b-7cb0222f880a",
   "metadata": {},
   "outputs": [],
   "source": []
  },
  {
   "cell_type": "code",
   "execution_count": null,
   "id": "8575eda0-f92f-4a83-ab9d-1757fec1ecfc",
   "metadata": {},
   "outputs": [],
   "source": []
  },
  {
   "cell_type": "code",
   "execution_count": 11,
   "id": "0f822434-d227-4a21-aaac-3ca5dc6c0168",
   "metadata": {},
   "outputs": [],
   "source": [
    "x = np.array([23, 45, 56, 78, 5, 34, 23, 2, 45, 23])"
   ]
  },
  {
   "cell_type": "code",
   "execution_count": 12,
   "id": "96c1f147-5d91-4c0b-8aff-eb59756d9524",
   "metadata": {},
   "outputs": [],
   "source": [
    "indexe = [1, 4, -3]\n",
    "newlement = [100, 500, 200]"
   ]
  },
  {
   "cell_type": "code",
   "execution_count": 13,
   "id": "84d24638-3f67-4d8d-a2f1-2332b845593a",
   "metadata": {},
   "outputs": [],
   "source": [
    "x[indexe] = newlement"
   ]
  },
  {
   "cell_type": "code",
   "execution_count": 14,
   "id": "1f0b2cab-2890-4405-a3b4-2c0d021b75be",
   "metadata": {},
   "outputs": [
    {
     "data": {
      "text/plain": [
       "array([ 23, 100,  56,  78, 500,  34,  23, 200,  45,  23])"
      ]
     },
     "execution_count": 14,
     "metadata": {},
     "output_type": "execute_result"
    }
   ],
   "source": [
    "x"
   ]
  },
  {
   "cell_type": "code",
   "execution_count": null,
   "id": "7a729a20-2d9e-4ff0-b724-edc84ecd7650",
   "metadata": {},
   "outputs": [],
   "source": []
  },
  {
   "cell_type": "code",
   "execution_count": null,
   "id": "f3135dd8-8101-40a7-a702-87d77ab86967",
   "metadata": {},
   "outputs": [],
   "source": []
  },
  {
   "cell_type": "markdown",
   "id": "7ade248e-5894-422a-aff5-d29443296133",
   "metadata": {},
   "source": [
    "## Adding new element in ndarray"
   ]
  },
  {
   "cell_type": "code",
   "execution_count": null,
   "id": "764764cc-e814-46dd-b8d0-7260b64e09c4",
   "metadata": {},
   "outputs": [],
   "source": [
    "list : \n",
    "    "
   ]
  },
  {
   "cell_type": "code",
   "execution_count": 15,
   "id": "2b399ed7-f8e6-47bf-acac-dd5215787227",
   "metadata": {},
   "outputs": [],
   "source": [
    "z = [12, 34, 45, 23, 45]\n"
   ]
  },
  {
   "cell_type": "code",
   "execution_count": 17,
   "id": "a4203e8a-6010-453e-b6f4-29dd81b88a47",
   "metadata": {},
   "outputs": [],
   "source": [
    "z.insert(1, 100)"
   ]
  },
  {
   "cell_type": "code",
   "execution_count": 18,
   "id": "b28e0512-4e1b-4799-9fb9-9e333484d96a",
   "metadata": {},
   "outputs": [
    {
     "data": {
      "text/plain": [
       "[12, 100, 34, 45, 23, 45]"
      ]
     },
     "execution_count": 18,
     "metadata": {},
     "output_type": "execute_result"
    }
   ],
   "source": [
    "z"
   ]
  },
  {
   "cell_type": "code",
   "execution_count": null,
   "id": "03376458-f6b9-43f9-930f-3dde65b3768a",
   "metadata": {},
   "outputs": [],
   "source": []
  },
  {
   "cell_type": "code",
   "execution_count": 19,
   "id": "d2a0fbd9-5e11-4ccd-8621-b2532e0df31a",
   "metadata": {},
   "outputs": [],
   "source": [
    "xy = np.array([12, 34, 45, 67, 34, 78, 4])"
   ]
  },
  {
   "cell_type": "code",
   "execution_count": 21,
   "id": "74034d9e-4a8a-4ffc-b04e-c88950a3ec89",
   "metadata": {},
   "outputs": [],
   "source": [
    "# append()\n",
    "\n",
    "# syntxt :\n",
    "    # np.append(objectname, newelemtn)"
   ]
  },
  {
   "cell_type": "code",
   "execution_count": 24,
   "id": "f8082400-6d90-465e-9a44-2f2ef816f0dc",
   "metadata": {},
   "outputs": [],
   "source": [
    "wq = np.append(xy, 1000)"
   ]
  },
  {
   "cell_type": "code",
   "execution_count": 25,
   "id": "ffa9992e-81e8-4915-aa3c-afaae6a33f0d",
   "metadata": {},
   "outputs": [
    {
     "data": {
      "text/plain": [
       "array([  12,   34,   45,   67,   34,   78,    4, 1000])"
      ]
     },
     "execution_count": 25,
     "metadata": {},
     "output_type": "execute_result"
    }
   ],
   "source": [
    "wq"
   ]
  },
  {
   "cell_type": "code",
   "execution_count": 26,
   "id": "b8ed7378-52ee-40a2-b033-e8ab6154ec72",
   "metadata": {},
   "outputs": [],
   "source": [
    "wq = np.append(xy, [12, 56, 34, 67, 34, 67, 34])"
   ]
  },
  {
   "cell_type": "code",
   "execution_count": 28,
   "id": "15e08f66-b612-4782-aff5-f8bbd7258e7f",
   "metadata": {},
   "outputs": [
    {
     "data": {
      "text/plain": [
       "array([12, 34, 45, 67, 34, 78,  4, 12, 56, 34, 67, 34, 67, 34])"
      ]
     },
     "execution_count": 28,
     "metadata": {},
     "output_type": "execute_result"
    }
   ],
   "source": [
    "wq"
   ]
  },
  {
   "cell_type": "code",
   "execution_count": null,
   "id": "35ad203f-0088-4419-a3cb-dc27d4e6a9f4",
   "metadata": {},
   "outputs": [],
   "source": []
  },
  {
   "cell_type": "code",
   "execution_count": 29,
   "id": "4e008fce-87f5-4792-8bc9-23592b45b18e",
   "metadata": {},
   "outputs": [],
   "source": [
    "# insert()"
   ]
  },
  {
   "cell_type": "code",
   "execution_count": 30,
   "id": "202e8d9e-bc5b-4f76-b68d-24ab1a8a765c",
   "metadata": {},
   "outputs": [],
   "source": [
    "xy = np.array([12, 34, 45, 67, 34, 78, 4])"
   ]
  },
  {
   "cell_type": "code",
   "execution_count": 31,
   "id": "e7a422dc-1cc5-45bc-8166-3f2b796b7e3c",
   "metadata": {},
   "outputs": [],
   "source": [
    "# np.insert(objename, indexnumber, newelement)"
   ]
  },
  {
   "cell_type": "code",
   "execution_count": 32,
   "id": "5afefe90-42e8-414e-b9f6-2606dca9d029",
   "metadata": {},
   "outputs": [
    {
     "data": {
      "text/plain": [
       "array([  12,   34, 1000,   45,   67,   34,   78,    4])"
      ]
     },
     "execution_count": 32,
     "metadata": {},
     "output_type": "execute_result"
    }
   ],
   "source": [
    "np.insert(xy, 2, 1000)"
   ]
  },
  {
   "cell_type": "code",
   "execution_count": null,
   "id": "d08d1652-a677-46d0-89b6-4e90bec98732",
   "metadata": {},
   "outputs": [],
   "source": []
  },
  {
   "cell_type": "code",
   "execution_count": 33,
   "id": "7278cd87-2917-42f9-a8c7-38b2aadffbfd",
   "metadata": {},
   "outputs": [],
   "source": [
    "# delete()"
   ]
  },
  {
   "cell_type": "code",
   "execution_count": null,
   "id": "277494b7-a633-4cd6-8740-9f6950b21dac",
   "metadata": {},
   "outputs": [],
   "source": []
  },
  {
   "cell_type": "code",
   "execution_count": 34,
   "id": "cc2cbda5-57fc-4a6a-81d1-7d9a75cc214b",
   "metadata": {},
   "outputs": [],
   "source": [
    "xy = np.array([12, 34, 45, 67, 34, 78, 4])"
   ]
  },
  {
   "cell_type": "code",
   "execution_count": 38,
   "id": "3cb5855b-e5f2-4d5b-876b-ca7027f68426",
   "metadata": {},
   "outputs": [
    {
     "data": {
      "text/plain": [
       "array([12, 45, 67, 34, 78,  4])"
      ]
     },
     "execution_count": 38,
     "metadata": {},
     "output_type": "execute_result"
    }
   ],
   "source": [
    "# np.delete(objectname, indexnumber)\n",
    "\n",
    "np.delete(xy, 1)"
   ]
  },
  {
   "cell_type": "code",
   "execution_count": null,
   "id": "febaccae-0f3f-42d6-bad8-a45c5a0bae6e",
   "metadata": {},
   "outputs": [],
   "source": []
  },
  {
   "cell_type": "code",
   "execution_count": 40,
   "id": "bfb59182-d313-4be2-b709-c3e9d52bc99d",
   "metadata": {},
   "outputs": [],
   "source": [
    "# x = np.array()"
   ]
  },
  {
   "cell_type": "code",
   "execution_count": null,
   "id": "2362f065-5f94-4765-a40a-5ff3cf09e14a",
   "metadata": {},
   "outputs": [],
   "source": [
    "array(['2 x 1 = 2', '2 x 2 = 4', ......., '2 x 10 = 20'])"
   ]
  },
  {
   "cell_type": "code",
   "execution_count": null,
   "id": "fd5d9f9d-0c1d-4cfe-86f0-f6f0ddd523ed",
   "metadata": {},
   "outputs": [],
   "source": []
  },
  {
   "cell_type": "code",
   "execution_count": 41,
   "id": "8a05e458-a6a6-45ee-965b-e1b7a0101f6a",
   "metadata": {},
   "outputs": [
    {
     "data": {
      "text/plain": [
       "array([12, 13, 14, 15, 16, 17, 18, 19, 20, 21, 22, 23, 24, 25, 26, 27, 28,\n",
       "       29])"
      ]
     },
     "execution_count": 41,
     "metadata": {},
     "output_type": "execute_result"
    }
   ],
   "source": [
    "np.arange(12, 30)"
   ]
  },
  {
   "cell_type": "code",
   "execution_count": null,
   "id": "b6e5a6d3-ee3d-4c8a-9d9c-689ccec9ec3e",
   "metadata": {},
   "outputs": [],
   "source": []
  },
  {
   "cell_type": "code",
   "execution_count": 44,
   "id": "bb44fef2-bf2f-4a8e-a4cd-6e936ec2603a",
   "metadata": {},
   "outputs": [],
   "source": [
    "table = np.array([])\n",
    "\n",
    "for i in np.arange(1, 11):\n",
    "    table = np.append(table, f\"2 x {i} = {2*i}\")"
   ]
  },
  {
   "cell_type": "code",
   "execution_count": null,
   "id": "37c2f8f6-3597-4083-8fb6-90bf28b1840a",
   "metadata": {},
   "outputs": [],
   "source": []
  },
  {
   "cell_type": "code",
   "execution_count": 45,
   "id": "89d0a379-d7b6-47ef-a0e5-7eeb796c580a",
   "metadata": {},
   "outputs": [
    {
     "data": {
      "text/plain": [
       "array(['2 x 1 = 2', '2 x 2 = 4', '2 x 3 = 6', '2 x 4 = 8', '2 x 5 = 10',\n",
       "       '2 x 6 = 12', '2 x 7 = 14', '2 x 8 = 16', '2 x 9 = 18',\n",
       "       '2 x 10 = 20'], dtype='<U32')"
      ]
     },
     "execution_count": 45,
     "metadata": {},
     "output_type": "execute_result"
    }
   ],
   "source": [
    "table"
   ]
  },
  {
   "cell_type": "code",
   "execution_count": null,
   "id": "62c1955b-63fc-4086-87f6-2c50e73121f1",
   "metadata": {},
   "outputs": [],
   "source": []
  },
  {
   "cell_type": "code",
   "execution_count": null,
   "id": "c2d24176-849e-40e8-b570-2a83efc80101",
   "metadata": {},
   "outputs": [],
   "source": []
  },
  {
   "cell_type": "code",
   "execution_count": 46,
   "id": "119361f5-e4d3-409e-a363-122a22bfe539",
   "metadata": {},
   "outputs": [],
   "source": [
    "# numpy : "
   ]
  },
  {
   "cell_type": "code",
   "execution_count": 47,
   "id": "d3eefc61-c84d-428e-8e7c-3c589be76145",
   "metadata": {},
   "outputs": [],
   "source": [
    "# sort() -> arrays sorting"
   ]
  },
  {
   "cell_type": "code",
   "execution_count": 48,
   "id": "4935a02a-a452-4f5d-bab0-442bfe42bbd3",
   "metadata": {},
   "outputs": [],
   "source": [
    "xyz = np.array([23, 45, 67, 45, 3, 5, 6, 8, 3])"
   ]
  },
  {
   "cell_type": "code",
   "execution_count": 50,
   "id": "fbdc245f-e312-4437-a6bd-ba2f79964faa",
   "metadata": {},
   "outputs": [],
   "source": [
    "qw = np.sort(xyz)"
   ]
  },
  {
   "cell_type": "code",
   "execution_count": 51,
   "id": "eaf54e4b-c93b-4a95-ac9f-8092e9205872",
   "metadata": {},
   "outputs": [
    {
     "data": {
      "text/plain": [
       "array([ 3,  3,  5,  6,  8, 23, 45, 45, 67])"
      ]
     },
     "execution_count": 51,
     "metadata": {},
     "output_type": "execute_result"
    }
   ],
   "source": [
    "qw"
   ]
  },
  {
   "cell_type": "code",
   "execution_count": 52,
   "id": "99e2c89d-8f19-4916-8602-c0837e24961c",
   "metadata": {},
   "outputs": [
    {
     "data": {
      "text/plain": [
       "array([67, 45, 45, 23,  8,  6,  5,  3,  3])"
      ]
     },
     "execution_count": 52,
     "metadata": {},
     "output_type": "execute_result"
    }
   ],
   "source": [
    "qw[::-1]"
   ]
  },
  {
   "cell_type": "code",
   "execution_count": null,
   "id": "cd3e87d9-5ca7-4890-8ee5-3872397c5828",
   "metadata": {},
   "outputs": [],
   "source": []
  },
  {
   "cell_type": "code",
   "execution_count": 53,
   "id": "3f44eb86-bed6-45a4-b577-b8a4f1d31ed1",
   "metadata": {},
   "outputs": [],
   "source": [
    "# where() -> it returns the index number a perticuler element"
   ]
  },
  {
   "cell_type": "code",
   "execution_count": null,
   "id": "117baafb-b919-44ac-9ae8-6d55bd1c1119",
   "metadata": {},
   "outputs": [],
   "source": []
  },
  {
   "cell_type": "code",
   "execution_count": 56,
   "id": "46e4701b-002d-4d66-a447-51f2efd5b6e9",
   "metadata": {},
   "outputs": [],
   "source": [
    "xyz = np.array([23, 45, 67, 45, 3, 5, 6, 8, 3, 54, 67, 4, 6, 7, 8, 5, 34, 56])"
   ]
  },
  {
   "cell_type": "code",
   "execution_count": 55,
   "id": "a35179c9-e945-4fbc-9938-95284d2eedd2",
   "metadata": {},
   "outputs": [],
   "source": [
    "# np.where(objectnme == element)"
   ]
  },
  {
   "cell_type": "code",
   "execution_count": 57,
   "id": "5f62f241-1870-4068-923b-97cf92a11c13",
   "metadata": {},
   "outputs": [
    {
     "data": {
      "text/plain": [
       "(array([0], dtype=int64),)"
      ]
     },
     "execution_count": 57,
     "metadata": {},
     "output_type": "execute_result"
    }
   ],
   "source": [
    "np.where(xyz == 23)"
   ]
  },
  {
   "cell_type": "code",
   "execution_count": 59,
   "id": "c7a4485e-d2e1-43fa-915a-6969f2157317",
   "metadata": {},
   "outputs": [
    {
     "data": {
      "text/plain": [
       "(array([ 5, 15], dtype=int64),)"
      ]
     },
     "execution_count": 59,
     "metadata": {},
     "output_type": "execute_result"
    }
   ],
   "source": [
    "np.where(xyz == 5)"
   ]
  },
  {
   "cell_type": "code",
   "execution_count": null,
   "id": "de5cd91a-8179-420a-8400-fd6e8e33939c",
   "metadata": {},
   "outputs": [],
   "source": []
  },
  {
   "cell_type": "code",
   "execution_count": 64,
   "id": "288ff049-192d-4e5e-b86e-41659cdba898",
   "metadata": {},
   "outputs": [],
   "source": [
    "# np.where(xyz < 10)"
   ]
  },
  {
   "cell_type": "code",
   "execution_count": null,
   "id": "4310e1bc-869c-4d27-8fe3-58c660f1af79",
   "metadata": {},
   "outputs": [],
   "source": []
  },
  {
   "cell_type": "code",
   "execution_count": 66,
   "id": "69e38b46-63d7-4bb6-af83-4b490d52b903",
   "metadata": {},
   "outputs": [],
   "source": [
    "# zeros -> help us to genrate zeries"
   ]
  },
  {
   "cell_type": "code",
   "execution_count": 70,
   "id": "6d4570fd-11dc-44d7-8478-e3a7bedb71ab",
   "metadata": {},
   "outputs": [
    {
     "data": {
      "text/plain": [
       "array([[0., 0., 0., 0., 0.],\n",
       "       [0., 0., 0., 0., 0.],\n",
       "       [0., 0., 0., 0., 0.],\n",
       "       [0., 0., 0., 0., 0.],\n",
       "       [0., 0., 0., 0., 0.]])"
      ]
     },
     "execution_count": 70,
     "metadata": {},
     "output_type": "execute_result"
    }
   ],
   "source": [
    "np.zeros((5, 5))"
   ]
  },
  {
   "cell_type": "code",
   "execution_count": null,
   "id": "8b475988-b8db-4faf-98f5-c722b858997c",
   "metadata": {},
   "outputs": [],
   "source": []
  },
  {
   "cell_type": "code",
   "execution_count": 71,
   "id": "9e391267-60bf-49c1-b853-5c8f404498f5",
   "metadata": {},
   "outputs": [],
   "source": [
    "# onces"
   ]
  },
  {
   "cell_type": "code",
   "execution_count": 72,
   "id": "9a0f18c3-45f2-478f-9d38-9f7306c56dbf",
   "metadata": {},
   "outputs": [
    {
     "data": {
      "text/plain": [
       "array([[1., 1., 1.],\n",
       "       [1., 1., 1.],\n",
       "       [1., 1., 1.]])"
      ]
     },
     "execution_count": 72,
     "metadata": {},
     "output_type": "execute_result"
    }
   ],
   "source": [
    "np.ones((3, 3))"
   ]
  },
  {
   "cell_type": "code",
   "execution_count": null,
   "id": "9d5d0ef8-6c0b-4120-a869-396ab8e10523",
   "metadata": {},
   "outputs": [],
   "source": []
  },
  {
   "cell_type": "code",
   "execution_count": null,
   "id": "edbd73c9-d48c-4652-8527-194d2589a22b",
   "metadata": {},
   "outputs": [],
   "source": []
  },
  {
   "cell_type": "code",
   "execution_count": 73,
   "id": "77c1bb74-476d-4be7-89a0-f53147ad15d5",
   "metadata": {},
   "outputs": [
    {
     "name": "stdout",
     "output_type": "stream",
     "text": [
      "Help on _ArrayFunctionDispatcher in module numpy:\n",
      "\n",
      "any(a, axis=None, out=None, keepdims=<no value>, *, where=<no value>)\n",
      "    Test whether any array element along a given axis evaluates to True.\n",
      "\n",
      "    Returns single boolean if `axis` is ``None``\n",
      "\n",
      "    Parameters\n",
      "    ----------\n",
      "    a : array_like\n",
      "        Input array or object that can be converted to an array.\n",
      "    axis : None or int or tuple of ints, optional\n",
      "        Axis or axes along which a logical OR reduction is performed.\n",
      "        The default (``axis=None``) is to perform a logical OR over all\n",
      "        the dimensions of the input array. `axis` may be negative, in\n",
      "        which case it counts from the last to the first axis.\n",
      "\n",
      "        .. versionadded:: 1.7.0\n",
      "\n",
      "        If this is a tuple of ints, a reduction is performed on multiple\n",
      "        axes, instead of a single axis or all the axes as before.\n",
      "    out : ndarray, optional\n",
      "        Alternate output array in which to place the result.  It must have\n",
      "        the same shape as the expected output and its type is preserved\n",
      "        (e.g., if it is of type float, then it will remain so, returning\n",
      "        1.0 for True and 0.0 for False, regardless of the type of `a`).\n",
      "        See :ref:`ufuncs-output-type` for more details.\n",
      "\n",
      "    keepdims : bool, optional\n",
      "        If this is set to True, the axes which are reduced are left\n",
      "        in the result as dimensions with size one. With this option,\n",
      "        the result will broadcast correctly against the input array.\n",
      "\n",
      "        If the default value is passed, then `keepdims` will not be\n",
      "        passed through to the `any` method of sub-classes of\n",
      "        `ndarray`, however any non-default value will be.  If the\n",
      "        sub-class' method does not implement `keepdims` any\n",
      "        exceptions will be raised.\n",
      "\n",
      "    where : array_like of bool, optional\n",
      "        Elements to include in checking for any `True` values.\n",
      "        See `~numpy.ufunc.reduce` for details.\n",
      "\n",
      "        .. versionadded:: 1.20.0\n",
      "\n",
      "    Returns\n",
      "    -------\n",
      "    any : bool or ndarray\n",
      "        A new boolean or `ndarray` is returned unless `out` is specified,\n",
      "        in which case a reference to `out` is returned.\n",
      "\n",
      "    See Also\n",
      "    --------\n",
      "    ndarray.any : equivalent method\n",
      "\n",
      "    all : Test whether all elements along a given axis evaluate to True.\n",
      "\n",
      "    Notes\n",
      "    -----\n",
      "    Not a Number (NaN), positive infinity and negative infinity evaluate\n",
      "    to `True` because these are not equal to zero.\n",
      "\n",
      "    Examples\n",
      "    --------\n",
      "    >>> np.any([[True, False], [True, True]])\n",
      "    True\n",
      "\n",
      "    >>> np.any([[True, False], [False, False]], axis=0)\n",
      "    array([ True, False])\n",
      "\n",
      "    >>> np.any([-1, 0, 5])\n",
      "    True\n",
      "\n",
      "    >>> np.any(np.nan)\n",
      "    True\n",
      "\n",
      "    >>> np.any([[True, False], [False, False]], where=[[False], [True]])\n",
      "    False\n",
      "\n",
      "    >>> o=np.array(False)\n",
      "    >>> z=np.any([-1, 4, 5], out=o)\n",
      "    >>> z, o\n",
      "    (array(True), array(True))\n",
      "    >>> # Check now that z is a reference to o\n",
      "    >>> z is o\n",
      "    True\n",
      "    >>> id(z), id(o) # identity of z and o              # doctest: +SKIP\n",
      "    (191614240, 191614240)\n",
      "\n"
     ]
    }
   ],
   "source": [
    "help(np.any)"
   ]
  },
  {
   "cell_type": "code",
   "execution_count": null,
   "id": "f452d43c-44e5-4093-8f6b-5bbb15b29abb",
   "metadata": {},
   "outputs": [],
   "source": []
  }
 ],
 "metadata": {
  "kernelspec": {
   "display_name": "Python 3 (ipykernel)",
   "language": "python",
   "name": "python3"
  },
  "language_info": {
   "codemirror_mode": {
    "name": "ipython",
    "version": 3
   },
   "file_extension": ".py",
   "mimetype": "text/x-python",
   "name": "python",
   "nbconvert_exporter": "python",
   "pygments_lexer": "ipython3",
   "version": "3.12.3"
  }
 },
 "nbformat": 4,
 "nbformat_minor": 5
}
