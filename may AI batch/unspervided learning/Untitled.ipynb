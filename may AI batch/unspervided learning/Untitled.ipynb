{
 "cells": [
  {
   "cell_type": "code",
   "execution_count": 1,
   "id": "f90e60f0-238e-423a-9efd-29e07c9a5453",
   "metadata": {},
   "outputs": [],
   "source": [
    "# claculate distance"
   ]
  },
  {
   "cell_type": "code",
   "execution_count": 4,
   "id": "e16f7de7-05a4-4941-a5f5-36326c3c32b5",
   "metadata": {},
   "outputs": [],
   "source": [
    "import numpy as np"
   ]
  },
  {
   "cell_type": "code",
   "execution_count": 15,
   "id": "91de6588-156d-49ea-a5bb-beee801a407b",
   "metadata": {},
   "outputs": [],
   "source": [
    "a = np.array([1, 2])\n",
    "b = np.array([4, 5])"
   ]
  },
  {
   "cell_type": "code",
   "execution_count": 16,
   "id": "0c8b05bf-35ba-4320-b31b-250d2644e615",
   "metadata": {},
   "outputs": [],
   "source": [
    "# 4 - 1 = 3\n",
    "# 5 - 2 = 3\n",
    "\n",
    "[4   5] - [1  2] => [3  3]\n",
    "\n",
    "[3  3].[3  3] =9 + 9 -> 18\n",
    "\n",
    "# 5\n",
    "# 5\n",
    "\n"
   ]
  },
  {
   "cell_type": "code",
   "execution_count": 17,
   "id": "d4a45491-761f-4b7d-8247-db57d456d1d6",
   "metadata": {},
   "outputs": [
    {
     "data": {
      "text/plain": [
       "4.242640687119285"
      ]
     },
     "execution_count": 17,
     "metadata": {},
     "output_type": "execute_result"
    }
   ],
   "source": [
    "np.sqrt(np.dot(b-a, b-a))"
   ]
  },
  {
   "cell_type": "code",
   "execution_count": 20,
   "id": "2c55ec75-3c89-4d83-94b8-dd1dc1468f0f",
   "metadata": {},
   "outputs": [
    {
     "data": {
      "text/plain": [
       "18"
      ]
     },
     "execution_count": 20,
     "metadata": {},
     "output_type": "execute_result"
    }
   ],
   "source": [
    "np.dot(b-a, b-a)"
   ]
  },
  {
   "cell_type": "code",
   "execution_count": 21,
   "id": "db8c562f-1d72-4f16-a776-0bddb3550cfb",
   "metadata": {},
   "outputs": [
    {
     "data": {
      "text/plain": [
       "array([3, 3])"
      ]
     },
     "execution_count": 21,
     "metadata": {},
     "output_type": "execute_result"
    }
   ],
   "source": [
    "b - a"
   ]
  },
  {
   "cell_type": "code",
   "execution_count": null,
   "id": "b33945be-01d0-46b3-86a5-00dbbe88c48f",
   "metadata": {},
   "outputs": [],
   "source": []
  }
 ],
 "metadata": {
  "kernelspec": {
   "display_name": "Python 3 (ipykernel)",
   "language": "python",
   "name": "python3"
  },
  "language_info": {
   "codemirror_mode": {
    "name": "ipython",
    "version": 3
   },
   "file_extension": ".py",
   "mimetype": "text/x-python",
   "name": "python",
   "nbconvert_exporter": "python",
   "pygments_lexer": "ipython3",
   "version": "3.12.3"
  }
 },
 "nbformat": 4,
 "nbformat_minor": 5
}
