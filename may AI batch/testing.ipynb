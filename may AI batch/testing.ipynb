{
 "cells": [
  {
   "cell_type": "markdown",
   "id": "ec1cba7b-299a-4c7c-8ac2-edc9b28778f7",
   "metadata": {},
   "source": [
    "# Adding Two Number"
   ]
  },
  {
   "cell_type": "markdown",
   "id": "2e233bc5-a713-4e42-8ec1-d8a116798889",
   "metadata": {},
   "source": [
    "## this is new heading "
   ]
  },
  {
   "cell_type": "markdown",
   "id": "76bf35b2-f349-46f2-b13d-d89844e18b62",
   "metadata": {},
   "source": [
    "### this is agin heading..."
   ]
  },
  {
   "cell_type": "markdown",
   "id": "8309b1ae-12f8-41ec-9357-748ff6cb5d93",
   "metadata": {},
   "source": [
    "#### this is agin heading..."
   ]
  },
  {
   "cell_type": "markdown",
   "id": "869dd08f-d058-48f3-87c7-40a75a4222f8",
   "metadata": {},
   "source": [
    "##### this is agin heading..."
   ]
  },
  {
   "cell_type": "code",
   "execution_count": null,
   "id": "6586d61a-51d2-4609-a326-99aa33d28c94",
   "metadata": {},
   "outputs": [],
   "source": []
  },
  {
   "cell_type": "markdown",
   "id": "362bc0d6-9a3a-46d0-8004-46d76bb5b340",
   "metadata": {},
   "source": [
    "### print table of 2"
   ]
  },
  {
   "cell_type": "code",
   "execution_count": 3,
   "id": "1f9effe8-0a01-4b99-bae8-6c453481c340",
   "metadata": {},
   "outputs": [
    {
     "name": "stdout",
     "output_type": "stream",
     "text": [
      "2 x 1 = 2\n",
      "2 x 2 = 4\n",
      "2 x 3 = 6\n",
      "2 x 4 = 8\n",
      "2 x 5 = 10\n",
      "2 x 6 = 12\n",
      "2 x 7 = 14\n",
      "2 x 8 = 16\n",
      "2 x 9 = 18\n",
      "2 x 10 = 20\n"
     ]
    }
   ],
   "source": [
    "for i in range(1, 11):\n",
    "    print(f\"2 x {i} = {2*i}\")"
   ]
  },
  {
   "cell_type": "code",
   "execution_count": null,
   "id": "1633f197-60c2-4b65-ae47-2c25b737a01d",
   "metadata": {},
   "outputs": [],
   "source": []
  },
  {
   "cell_type": "code",
   "execution_count": 4,
   "id": "d9024719-f589-4dd5-8c78-aaa445bc46de",
   "metadata": {},
   "outputs": [
    {
     "name": "stdin",
     "output_type": "stream",
     "text": [
      "Enter Your name :  hellooooo\n"
     ]
    },
    {
     "data": {
      "text/plain": [
       "'hellooooo'"
      ]
     },
     "execution_count": 4,
     "metadata": {},
     "output_type": "execute_result"
    }
   ],
   "source": [
    "xyz = input(\"Enter Your name : \")\n",
    "xyz"
   ]
  },
  {
   "cell_type": "code",
   "execution_count": null,
   "id": "6934c706-3df5-4cab-86fa-528bdc8b39bb",
   "metadata": {},
   "outputs": [],
   "source": []
  },
  {
   "cell_type": "code",
   "execution_count": null,
   "id": "b99ecd41-d908-4654-b2dd-ad2fbeb5fb78",
   "metadata": {},
   "outputs": [],
   "source": [
    "# numpy:::::\n",
    "# pandas::::\n",
    "# matplotlib:::\n",
    "# Machine Learning....\n",
    "# Deep Learing.."
   ]
  }
 ],
 "metadata": {
  "kernelspec": {
   "display_name": "Python 3 (ipykernel)",
   "language": "python",
   "name": "python3"
  },
  "language_info": {
   "codemirror_mode": {
    "name": "ipython",
    "version": 3
   },
   "file_extension": ".py",
   "mimetype": "text/x-python",
   "name": "python",
   "nbconvert_exporter": "python",
   "pygments_lexer": "ipython3",
   "version": "3.12.3"
  }
 },
 "nbformat": 4,
 "nbformat_minor": 5
}
