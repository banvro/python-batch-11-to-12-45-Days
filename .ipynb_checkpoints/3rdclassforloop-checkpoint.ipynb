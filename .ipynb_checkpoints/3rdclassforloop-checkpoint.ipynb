{
 "cells": [
  {
   "cell_type": "code",
   "execution_count": null,
   "id": "813dd241",
   "metadata": {},
   "outputs": [],
   "source": [
    "# loop : are use to ittrate\n",
    "\n",
    "range(start, end, increment)\n",
    "\n",
    "# default\n",
    "start = 0\n",
    "end = n - 1\n",
    "increment = 1 \n",
    "\n",
    "# range(1, 10, 2)"
   ]
  }
 ],
 "metadata": {
  "kernelspec": {
   "display_name": "Python 3 (ipykernel)",
   "language": "python",
   "name": "python3"
  },
  "language_info": {
   "codemirror_mode": {
    "name": "ipython",
    "version": 3
   },
   "file_extension": ".py",
   "mimetype": "text/x-python",
   "name": "python",
   "nbconvert_exporter": "python",
   "pygments_lexer": "ipython3",
   "version": "3.10.12"
  }
 },
 "nbformat": 4,
 "nbformat_minor": 5
}
